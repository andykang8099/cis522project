{
  "nbformat": 4,
  "nbformat_minor": 0,
  "metadata": {
    "colab": {
      "provenance": [],
      "toc_visible": true
    },
    "kernelspec": {
      "name": "python3",
      "display_name": "Python 3"
    },
    "language_info": {
      "name": "python"
    },
    "gpuClass": "standard",
    "accelerator": "GPU"
  },
  "cells": [
    {
      "cell_type": "markdown",
      "source": [
        "CIS 5220 Final Project"
      ],
      "metadata": {
        "id": "2f_BLbDOfY7h"
      }
    },
    {
      "cell_type": "markdown",
      "source": [
        "# Data Input"
      ],
      "metadata": {
        "id": "2MGUIA0yfTsi"
      }
    },
    {
      "cell_type": "code",
      "execution_count": null,
      "metadata": {
        "id": "SSIk8hEwMr5o"
      },
      "outputs": [],
      "source": [
        "import pandas as pd\n",
        "import numpy as np\n",
        "import torch\n",
        "%matplotlib inline\n",
        "import matplotlib.pyplot as plt\n",
        "import math,random,re\n",
        "import time\n",
        "from sklearn.preprocessing import OneHotEncoder\n",
        "from tensorflow.keras.preprocessing import sequence\n",
        "from tensorflow.keras.preprocessing.sequence import pad_sequences\n",
        "import keras\n",
        "from sklearn.preprocessing import LabelEncoder\n",
        "from tensorflow.keras.models import Sequential, Model\n",
        "from keras.layers import Embedding, SpatialDropout1D\n",
        "from tensorflow.keras.layers import LSTM, Dense, Dropout, Conv1D, MaxPooling1D, GlobalAveragePooling1D, Input, Lambda, Layer, Reshape, Flatten\n",
        "from tensorflow.keras.losses import binary_crossentropy\n",
        "from tensorflow.keras import backend as K\n",
        "from keras.layers import concatenate\n",
        "from keras.layers.core import Flatten\n",
        "from keras.utils import to_categorical\n",
        "from sklearn.model_selection import train_test_split\n",
        "from sklearn.metrics import accuracy_score\n",
        "from tensorflow.keras.utils import to_categorical\n",
        "from keras.callbacks import EarlyStopping\n",
        "from sklearn.linear_model import LogisticRegression\n",
        "from keras.preprocessing.text import Tokenizer\n",
        "from keras.models import Model\n",
        "from keras.optimizers import Adam\n",
        "from sklearn.ensemble import RandomForestClassifier"
      ]
    },
    {
      "cell_type": "code",
      "source": [
        "from google.colab import drive\n",
        "drive.mount('/content/drive')"
      ],
      "metadata": {
        "colab": {
          "base_uri": "https://localhost:8080/"
        },
        "id": "R7urO2EaM23G",
        "outputId": "a14d906c-10cf-48aa-bd2c-b5419614cb3f"
      },
      "execution_count": null,
      "outputs": [
        {
          "output_type": "stream",
          "name": "stdout",
          "text": [
            "Mounted at /content/drive\n"
          ]
        }
      ]
    },
    {
      "cell_type": "code",
      "source": [
        "data = pd.read_csv('/content/drive/MyDrive/CIS522_Final_Project/data_cleaned.csv')\n",
        "data['splitted_go_labels'] = data['splitted_go_labels'].apply(eval)\n",
        "data['interactors'] = data['interactors'].apply(eval)"
      ],
      "metadata": {
        "id": "_WZsOWHjSwVq"
      },
      "execution_count": null,
      "outputs": []
    },
    {
      "cell_type": "markdown",
      "source": [
        "There are total 66841 unique protein sequence, and 24266 labels"
      ],
      "metadata": {
        "id": "nIZKQSuSkHF4"
      }
    },
    {
      "cell_type": "code",
      "source": [
        "data.head()"
      ],
      "metadata": {
        "colab": {
          "base_uri": "https://localhost:8080/",
          "height": 557
        },
        "id": "FCV_He83UYdm",
        "outputId": "b1fe6168-f5e9-4385-841f-d4b4b99326ce"
      },
      "execution_count": null,
      "outputs": [
        {
          "output_type": "execute_result",
          "data": {
            "text/plain": [
              "        entry                    splitted_go_labels  \\\n",
              "0  A0A024RBG1  [GO:0005634, GO:0005737, GO:0005829]   \n",
              "1  A0A061FBW2              [GO:0005634, GO:0005737]   \n",
              "2  A0A061FDP1              [GO:0005634, GO:0005737]   \n",
              "3  A0A075B734                          [GO:0005886]   \n",
              "4  A0A075B759              [GO:0005737, GO:0043231]   \n",
              "\n",
              "                                           go_labels  \\\n",
              "0  GO:0000298; GO:0003723; GO:0005634; GO:0005737...   \n",
              "1  GO:0005634; GO:0005737; GO:0008757; GO:0030795...   \n",
              "2  GO:0005634; GO:0005737; GO:0008757; GO:0030795...   \n",
              "3  GO:0005886; GO:0006833; GO:0015204; GO:0015250...   \n",
              "4  GO:0000413; GO:0003755; GO:0005737; GO:0006457...   \n",
              "\n",
              "                                            sequence              stringid  \\\n",
              "0  MMKFKPNQTRTYDREGFKKRAACLCFRSEQEDEVLLVSSSRYPDQW...  9606.ENSP00000338352   \n",
              "1  MEVMQVLHMNKGNGETSYAKNSTVQSKIISVGKPIIEEAVHEISCN...         3641.EOY14825   \n",
              "2  MEVMQVLHMNRGNGENSYAKNSTVQSKIISIGKPIIEEAVHEISCN...         3641.EOY14822   \n",
              "3  MVQASGHRRSTRGSKMVSWSVIAKIQEIWCEEDERKMVREFLAEFM...  9606.ENSP00000456868   \n",
              "4  MVNSVVFFEITRDGKPLGRISIKLFADKIPKTAENFRALSTGEKGF...  9606.ENSP00000463419   \n",
              "\n",
              "   organismid                                        interactors  \n",
              "0        9606            [NUDT22, NUDT17, NUDT12, NUDT18, NUDT5]  \n",
              "1        3641  [EOY14651, EOY30281, EOY24082, EOX94195, EOY33...  \n",
              "2        3641  [EOY14651, EOY30281, EOY24082, EOX94195, EOY33...  \n",
              "3        9606     [AQP8, ENSP00000421315, AQP12A, AQP12B, DIP2C]  \n",
              "4        9606              [NBPF12, RAB28, ACAD10, RPS3A, AIFM1]  "
            ],
            "text/html": [
              "\n",
              "  <div id=\"df-6409a552-d6fe-4b71-a384-28a82a031d0b\">\n",
              "    <div class=\"colab-df-container\">\n",
              "      <div>\n",
              "<style scoped>\n",
              "    .dataframe tbody tr th:only-of-type {\n",
              "        vertical-align: middle;\n",
              "    }\n",
              "\n",
              "    .dataframe tbody tr th {\n",
              "        vertical-align: top;\n",
              "    }\n",
              "\n",
              "    .dataframe thead th {\n",
              "        text-align: right;\n",
              "    }\n",
              "</style>\n",
              "<table border=\"1\" class=\"dataframe\">\n",
              "  <thead>\n",
              "    <tr style=\"text-align: right;\">\n",
              "      <th></th>\n",
              "      <th>entry</th>\n",
              "      <th>splitted_go_labels</th>\n",
              "      <th>go_labels</th>\n",
              "      <th>sequence</th>\n",
              "      <th>stringid</th>\n",
              "      <th>organismid</th>\n",
              "      <th>interactors</th>\n",
              "    </tr>\n",
              "  </thead>\n",
              "  <tbody>\n",
              "    <tr>\n",
              "      <th>0</th>\n",
              "      <td>A0A024RBG1</td>\n",
              "      <td>[GO:0005634, GO:0005737, GO:0005829]</td>\n",
              "      <td>GO:0000298; GO:0003723; GO:0005634; GO:0005737...</td>\n",
              "      <td>MMKFKPNQTRTYDREGFKKRAACLCFRSEQEDEVLLVSSSRYPDQW...</td>\n",
              "      <td>9606.ENSP00000338352</td>\n",
              "      <td>9606</td>\n",
              "      <td>[NUDT22, NUDT17, NUDT12, NUDT18, NUDT5]</td>\n",
              "    </tr>\n",
              "    <tr>\n",
              "      <th>1</th>\n",
              "      <td>A0A061FBW2</td>\n",
              "      <td>[GO:0005634, GO:0005737]</td>\n",
              "      <td>GO:0005634; GO:0005737; GO:0008757; GO:0030795...</td>\n",
              "      <td>MEVMQVLHMNKGNGETSYAKNSTVQSKIISVGKPIIEEAVHEISCN...</td>\n",
              "      <td>3641.EOY14825</td>\n",
              "      <td>3641</td>\n",
              "      <td>[EOY14651, EOY30281, EOY24082, EOX94195, EOY33...</td>\n",
              "    </tr>\n",
              "    <tr>\n",
              "      <th>2</th>\n",
              "      <td>A0A061FDP1</td>\n",
              "      <td>[GO:0005634, GO:0005737]</td>\n",
              "      <td>GO:0005634; GO:0005737; GO:0008757; GO:0030795...</td>\n",
              "      <td>MEVMQVLHMNRGNGENSYAKNSTVQSKIISIGKPIIEEAVHEISCN...</td>\n",
              "      <td>3641.EOY14822</td>\n",
              "      <td>3641</td>\n",
              "      <td>[EOY14651, EOY30281, EOY24082, EOX94195, EOY33...</td>\n",
              "    </tr>\n",
              "    <tr>\n",
              "      <th>3</th>\n",
              "      <td>A0A075B734</td>\n",
              "      <td>[GO:0005886]</td>\n",
              "      <td>GO:0005886; GO:0006833; GO:0015204; GO:0015250...</td>\n",
              "      <td>MVQASGHRRSTRGSKMVSWSVIAKIQEIWCEEDERKMVREFLAEFM...</td>\n",
              "      <td>9606.ENSP00000456868</td>\n",
              "      <td>9606</td>\n",
              "      <td>[AQP8, ENSP00000421315, AQP12A, AQP12B, DIP2C]</td>\n",
              "    </tr>\n",
              "    <tr>\n",
              "      <th>4</th>\n",
              "      <td>A0A075B759</td>\n",
              "      <td>[GO:0005737, GO:0043231]</td>\n",
              "      <td>GO:0000413; GO:0003755; GO:0005737; GO:0006457...</td>\n",
              "      <td>MVNSVVFFEITRDGKPLGRISIKLFADKIPKTAENFRALSTGEKGF...</td>\n",
              "      <td>9606.ENSP00000463419</td>\n",
              "      <td>9606</td>\n",
              "      <td>[NBPF12, RAB28, ACAD10, RPS3A, AIFM1]</td>\n",
              "    </tr>\n",
              "  </tbody>\n",
              "</table>\n",
              "</div>\n",
              "      <button class=\"colab-df-convert\" onclick=\"convertToInteractive('df-6409a552-d6fe-4b71-a384-28a82a031d0b')\"\n",
              "              title=\"Convert this dataframe to an interactive table.\"\n",
              "              style=\"display:none;\">\n",
              "        \n",
              "  <svg xmlns=\"http://www.w3.org/2000/svg\" height=\"24px\"viewBox=\"0 0 24 24\"\n",
              "       width=\"24px\">\n",
              "    <path d=\"M0 0h24v24H0V0z\" fill=\"none\"/>\n",
              "    <path d=\"M18.56 5.44l.94 2.06.94-2.06 2.06-.94-2.06-.94-.94-2.06-.94 2.06-2.06.94zm-11 1L8.5 8.5l.94-2.06 2.06-.94-2.06-.94L8.5 2.5l-.94 2.06-2.06.94zm10 10l.94 2.06.94-2.06 2.06-.94-2.06-.94-.94-2.06-.94 2.06-2.06.94z\"/><path d=\"M17.41 7.96l-1.37-1.37c-.4-.4-.92-.59-1.43-.59-.52 0-1.04.2-1.43.59L10.3 9.45l-7.72 7.72c-.78.78-.78 2.05 0 2.83L4 21.41c.39.39.9.59 1.41.59.51 0 1.02-.2 1.41-.59l7.78-7.78 2.81-2.81c.8-.78.8-2.07 0-2.86zM5.41 20L4 18.59l7.72-7.72 1.47 1.35L5.41 20z\"/>\n",
              "  </svg>\n",
              "      </button>\n",
              "      \n",
              "  <style>\n",
              "    .colab-df-container {\n",
              "      display:flex;\n",
              "      flex-wrap:wrap;\n",
              "      gap: 12px;\n",
              "    }\n",
              "\n",
              "    .colab-df-convert {\n",
              "      background-color: #E8F0FE;\n",
              "      border: none;\n",
              "      border-radius: 50%;\n",
              "      cursor: pointer;\n",
              "      display: none;\n",
              "      fill: #1967D2;\n",
              "      height: 32px;\n",
              "      padding: 0 0 0 0;\n",
              "      width: 32px;\n",
              "    }\n",
              "\n",
              "    .colab-df-convert:hover {\n",
              "      background-color: #E2EBFA;\n",
              "      box-shadow: 0px 1px 2px rgba(60, 64, 67, 0.3), 0px 1px 3px 1px rgba(60, 64, 67, 0.15);\n",
              "      fill: #174EA6;\n",
              "    }\n",
              "\n",
              "    [theme=dark] .colab-df-convert {\n",
              "      background-color: #3B4455;\n",
              "      fill: #D2E3FC;\n",
              "    }\n",
              "\n",
              "    [theme=dark] .colab-df-convert:hover {\n",
              "      background-color: #434B5C;\n",
              "      box-shadow: 0px 1px 3px 1px rgba(0, 0, 0, 0.15);\n",
              "      filter: drop-shadow(0px 1px 2px rgba(0, 0, 0, 0.3));\n",
              "      fill: #FFFFFF;\n",
              "    }\n",
              "  </style>\n",
              "\n",
              "      <script>\n",
              "        const buttonEl =\n",
              "          document.querySelector('#df-6409a552-d6fe-4b71-a384-28a82a031d0b button.colab-df-convert');\n",
              "        buttonEl.style.display =\n",
              "          google.colab.kernel.accessAllowed ? 'block' : 'none';\n",
              "\n",
              "        async function convertToInteractive(key) {\n",
              "          const element = document.querySelector('#df-6409a552-d6fe-4b71-a384-28a82a031d0b');\n",
              "          const dataTable =\n",
              "            await google.colab.kernel.invokeFunction('convertToInteractive',\n",
              "                                                     [key], {});\n",
              "          if (!dataTable) return;\n",
              "\n",
              "          const docLinkHtml = 'Like what you see? Visit the ' +\n",
              "            '<a target=\"_blank\" href=https://colab.research.google.com/notebooks/data_table.ipynb>data table notebook</a>'\n",
              "            + ' to learn more about interactive tables.';\n",
              "          element.innerHTML = '';\n",
              "          dataTable['output_type'] = 'display_data';\n",
              "          await google.colab.output.renderOutput(dataTable, element);\n",
              "          const docLink = document.createElement('div');\n",
              "          docLink.innerHTML = docLinkHtml;\n",
              "          element.appendChild(docLink);\n",
              "        }\n",
              "      </script>\n",
              "    </div>\n",
              "  </div>\n",
              "  "
            ]
          },
          "metadata": {},
          "execution_count": 4
        }
      ]
    },
    {
      "cell_type": "code",
      "source": [
        "data.shape"
      ],
      "metadata": {
        "id": "Y6I0pi4E74TO",
        "colab": {
          "base_uri": "https://localhost:8080/"
        },
        "outputId": "94cd0395-6a53-4d07-fbe8-3277cc9e540e"
      },
      "execution_count": null,
      "outputs": [
        {
          "output_type": "execute_result",
          "data": {
            "text/plain": [
              "(92135, 7)"
            ]
          },
          "metadata": {},
          "execution_count": 5
        }
      ]
    },
    {
      "cell_type": "markdown",
      "source": [
        "# Data processing"
      ],
      "metadata": {
        "id": "5xlK8IpLka6Y"
      }
    },
    {
      "cell_type": "markdown",
      "source": [
        "First, drop the lower case base in the sequence since we only want to find the sequences that align"
      ],
      "metadata": {
        "id": "zLR4ObBvlRSc"
      }
    },
    {
      "cell_type": "code",
      "source": [
        "for index, row in dataset.iterrows():\n",
        "     dataset.at[index, 'seq'] = ''.join(c for c in row['seq'] if c.isupper())"
      ],
      "metadata": {
        "id": "I3wmsvT3lQ3Z"
      },
      "execution_count": null,
      "outputs": []
    },
    {
      "cell_type": "markdown",
      "source": [
        "Second, translate the sequence into a one hot encoding "
      ],
      "metadata": {
        "id": "N65_wM8Ex83m"
      }
    },
    {
      "cell_type": "code",
      "source": [
        "ORDER_KEY=\"ACDEFGHIKLMNPQRSTVYWXBU\"\n",
        "ORDER_LIST=list(ORDER_KEY)"
      ],
      "metadata": {
        "id": "OidLc04L1e7D"
      },
      "execution_count": null,
      "outputs": []
    },
    {
      "cell_type": "code",
      "source": [
        "dataset"
      ],
      "metadata": {
        "colab": {
          "base_uri": "https://localhost:8080/",
          "height": 419
        },
        "id": "duJFB0MW-w7C",
        "outputId": "d9b47270-2d6c-4fb2-8dae-e711988631d4"
      },
      "execution_count": null,
      "outputs": [
        {
          "output_type": "execute_result",
          "data": {
            "text/plain": [
              "          id    go_label go_class  \\\n",
              "0     P0DJZ0  GO:0030430        C   \n",
              "1     P32234  GO:0005525        F   \n",
              "2     P83011  GO:0043231        C   \n",
              "3     P83010  GO:0043231        C   \n",
              "4     P81928  GO:0007275        P   \n",
              "...      ...         ...      ...   \n",
              "9995  Q61824  GO:0007173        P   \n",
              "9996  Q13444  GO:0009986        C   \n",
              "9997  Q13444  GO:0070062        C   \n",
              "9998  Q13444  GO:0005886        C   \n",
              "9999  Q13444  GO:0005178        F   \n",
              "\n",
              "                                                    seq  \n",
              "0     MQNNTTGMDTKSLKNCGQPKAVCTHCKHSPPCPQPGCVTKRPPVPP...  \n",
              "1     MSTILEKISAIESEMARTQKNKATSAHLGLLKAKLAKLRRELISPK...  \n",
              "2                                        MIFTAXDRSAIEXV  \n",
              "3                                         AGEPANNEDRFNY  \n",
              "4     MNFLWKGRRFLIAGILPTFEGAADEIVDKENKTYKAFLASKPPEET...  \n",
              "...                                                 ...  \n",
              "9995  MAERPARRAPPARALLLALAGALLAPRAARGMSLWDQRGTYEVARA...  \n",
              "9996  MRLALLWALGLLGAGSPLPSWPLPNIGGTEEQQAESEKAPREPLEP...  \n",
              "9997  MRLALLWALGLLGAGSPLPSWPLPNIGGTEEQQAESEKAPREPLEP...  \n",
              "9998  MRLALLWALGLLGAGSPLPSWPLPNIGGTEEQQAESEKAPREPLEP...  \n",
              "9999  MRLALLWALGLLGAGSPLPSWPLPNIGGTEEQQAESEKAPREPLEP...  \n",
              "\n",
              "[10000 rows x 4 columns]"
            ],
            "text/html": [
              "\n",
              "  <div id=\"df-887a42b1-4979-439d-9732-5b170cf6e90f\">\n",
              "    <div class=\"colab-df-container\">\n",
              "      <div>\n",
              "<style scoped>\n",
              "    .dataframe tbody tr th:only-of-type {\n",
              "        vertical-align: middle;\n",
              "    }\n",
              "\n",
              "    .dataframe tbody tr th {\n",
              "        vertical-align: top;\n",
              "    }\n",
              "\n",
              "    .dataframe thead th {\n",
              "        text-align: right;\n",
              "    }\n",
              "</style>\n",
              "<table border=\"1\" class=\"dataframe\">\n",
              "  <thead>\n",
              "    <tr style=\"text-align: right;\">\n",
              "      <th></th>\n",
              "      <th>id</th>\n",
              "      <th>go_label</th>\n",
              "      <th>go_class</th>\n",
              "      <th>seq</th>\n",
              "    </tr>\n",
              "  </thead>\n",
              "  <tbody>\n",
              "    <tr>\n",
              "      <th>0</th>\n",
              "      <td>P0DJZ0</td>\n",
              "      <td>GO:0030430</td>\n",
              "      <td>C</td>\n",
              "      <td>MQNNTTGMDTKSLKNCGQPKAVCTHCKHSPPCPQPGCVTKRPPVPP...</td>\n",
              "    </tr>\n",
              "    <tr>\n",
              "      <th>1</th>\n",
              "      <td>P32234</td>\n",
              "      <td>GO:0005525</td>\n",
              "      <td>F</td>\n",
              "      <td>MSTILEKISAIESEMARTQKNKATSAHLGLLKAKLAKLRRELISPK...</td>\n",
              "    </tr>\n",
              "    <tr>\n",
              "      <th>2</th>\n",
              "      <td>P83011</td>\n",
              "      <td>GO:0043231</td>\n",
              "      <td>C</td>\n",
              "      <td>MIFTAXDRSAIEXV</td>\n",
              "    </tr>\n",
              "    <tr>\n",
              "      <th>3</th>\n",
              "      <td>P83010</td>\n",
              "      <td>GO:0043231</td>\n",
              "      <td>C</td>\n",
              "      <td>AGEPANNEDRFNY</td>\n",
              "    </tr>\n",
              "    <tr>\n",
              "      <th>4</th>\n",
              "      <td>P81928</td>\n",
              "      <td>GO:0007275</td>\n",
              "      <td>P</td>\n",
              "      <td>MNFLWKGRRFLIAGILPTFEGAADEIVDKENKTYKAFLASKPPEET...</td>\n",
              "    </tr>\n",
              "    <tr>\n",
              "      <th>...</th>\n",
              "      <td>...</td>\n",
              "      <td>...</td>\n",
              "      <td>...</td>\n",
              "      <td>...</td>\n",
              "    </tr>\n",
              "    <tr>\n",
              "      <th>9995</th>\n",
              "      <td>Q61824</td>\n",
              "      <td>GO:0007173</td>\n",
              "      <td>P</td>\n",
              "      <td>MAERPARRAPPARALLLALAGALLAPRAARGMSLWDQRGTYEVARA...</td>\n",
              "    </tr>\n",
              "    <tr>\n",
              "      <th>9996</th>\n",
              "      <td>Q13444</td>\n",
              "      <td>GO:0009986</td>\n",
              "      <td>C</td>\n",
              "      <td>MRLALLWALGLLGAGSPLPSWPLPNIGGTEEQQAESEKAPREPLEP...</td>\n",
              "    </tr>\n",
              "    <tr>\n",
              "      <th>9997</th>\n",
              "      <td>Q13444</td>\n",
              "      <td>GO:0070062</td>\n",
              "      <td>C</td>\n",
              "      <td>MRLALLWALGLLGAGSPLPSWPLPNIGGTEEQQAESEKAPREPLEP...</td>\n",
              "    </tr>\n",
              "    <tr>\n",
              "      <th>9998</th>\n",
              "      <td>Q13444</td>\n",
              "      <td>GO:0005886</td>\n",
              "      <td>C</td>\n",
              "      <td>MRLALLWALGLLGAGSPLPSWPLPNIGGTEEQQAESEKAPREPLEP...</td>\n",
              "    </tr>\n",
              "    <tr>\n",
              "      <th>9999</th>\n",
              "      <td>Q13444</td>\n",
              "      <td>GO:0005178</td>\n",
              "      <td>F</td>\n",
              "      <td>MRLALLWALGLLGAGSPLPSWPLPNIGGTEEQQAESEKAPREPLEP...</td>\n",
              "    </tr>\n",
              "  </tbody>\n",
              "</table>\n",
              "<p>10000 rows × 4 columns</p>\n",
              "</div>\n",
              "      <button class=\"colab-df-convert\" onclick=\"convertToInteractive('df-887a42b1-4979-439d-9732-5b170cf6e90f')\"\n",
              "              title=\"Convert this dataframe to an interactive table.\"\n",
              "              style=\"display:none;\">\n",
              "        \n",
              "  <svg xmlns=\"http://www.w3.org/2000/svg\" height=\"24px\"viewBox=\"0 0 24 24\"\n",
              "       width=\"24px\">\n",
              "    <path d=\"M0 0h24v24H0V0z\" fill=\"none\"/>\n",
              "    <path d=\"M18.56 5.44l.94 2.06.94-2.06 2.06-.94-2.06-.94-.94-2.06-.94 2.06-2.06.94zm-11 1L8.5 8.5l.94-2.06 2.06-.94-2.06-.94L8.5 2.5l-.94 2.06-2.06.94zm10 10l.94 2.06.94-2.06 2.06-.94-2.06-.94-.94-2.06-.94 2.06-2.06.94z\"/><path d=\"M17.41 7.96l-1.37-1.37c-.4-.4-.92-.59-1.43-.59-.52 0-1.04.2-1.43.59L10.3 9.45l-7.72 7.72c-.78.78-.78 2.05 0 2.83L4 21.41c.39.39.9.59 1.41.59.51 0 1.02-.2 1.41-.59l7.78-7.78 2.81-2.81c.8-.78.8-2.07 0-2.86zM5.41 20L4 18.59l7.72-7.72 1.47 1.35L5.41 20z\"/>\n",
              "  </svg>\n",
              "      </button>\n",
              "      \n",
              "  <style>\n",
              "    .colab-df-container {\n",
              "      display:flex;\n",
              "      flex-wrap:wrap;\n",
              "      gap: 12px;\n",
              "    }\n",
              "\n",
              "    .colab-df-convert {\n",
              "      background-color: #E8F0FE;\n",
              "      border: none;\n",
              "      border-radius: 50%;\n",
              "      cursor: pointer;\n",
              "      display: none;\n",
              "      fill: #1967D2;\n",
              "      height: 32px;\n",
              "      padding: 0 0 0 0;\n",
              "      width: 32px;\n",
              "    }\n",
              "\n",
              "    .colab-df-convert:hover {\n",
              "      background-color: #E2EBFA;\n",
              "      box-shadow: 0px 1px 2px rgba(60, 64, 67, 0.3), 0px 1px 3px 1px rgba(60, 64, 67, 0.15);\n",
              "      fill: #174EA6;\n",
              "    }\n",
              "\n",
              "    [theme=dark] .colab-df-convert {\n",
              "      background-color: #3B4455;\n",
              "      fill: #D2E3FC;\n",
              "    }\n",
              "\n",
              "    [theme=dark] .colab-df-convert:hover {\n",
              "      background-color: #434B5C;\n",
              "      box-shadow: 0px 1px 3px 1px rgba(0, 0, 0, 0.15);\n",
              "      filter: drop-shadow(0px 1px 2px rgba(0, 0, 0, 0.3));\n",
              "      fill: #FFFFFF;\n",
              "    }\n",
              "  </style>\n",
              "\n",
              "      <script>\n",
              "        const buttonEl =\n",
              "          document.querySelector('#df-887a42b1-4979-439d-9732-5b170cf6e90f button.colab-df-convert');\n",
              "        buttonEl.style.display =\n",
              "          google.colab.kernel.accessAllowed ? 'block' : 'none';\n",
              "\n",
              "        async function convertToInteractive(key) {\n",
              "          const element = document.querySelector('#df-887a42b1-4979-439d-9732-5b170cf6e90f');\n",
              "          const dataTable =\n",
              "            await google.colab.kernel.invokeFunction('convertToInteractive',\n",
              "                                                     [key], {});\n",
              "          if (!dataTable) return;\n",
              "\n",
              "          const docLinkHtml = 'Like what you see? Visit the ' +\n",
              "            '<a target=\"_blank\" href=https://colab.research.google.com/notebooks/data_table.ipynb>data table notebook</a>'\n",
              "            + ' to learn more about interactive tables.';\n",
              "          element.innerHTML = '';\n",
              "          dataTable['output_type'] = 'display_data';\n",
              "          await google.colab.output.renderOutput(dataTable, element);\n",
              "          const docLink = document.createElement('div');\n",
              "          docLink.innerHTML = docLinkHtml;\n",
              "          element.appendChild(docLink);\n",
              "        }\n",
              "      </script>\n",
              "    </div>\n",
              "  </div>\n",
              "  "
            ]
          },
          "metadata": {},
          "execution_count": 8
        }
      ]
    },
    {
      "cell_type": "code",
      "source": [
        "oh_encoder = LabelEncoder().fit(ORDER_LIST)\n",
        "\n",
        "encoded_sequences = np.array([oh_encoder.transform(list(seq)) for seq in dataset.seq])\n"
      ],
      "metadata": {
        "colab": {
          "base_uri": "https://localhost:8080/"
        },
        "id": "-5lO7a64bMkS",
        "outputId": "7ac528c9-08a0-4c6a-80be-e88d7e46cb48"
      },
      "execution_count": null,
      "outputs": [
        {
          "output_type": "stream",
          "name": "stderr",
          "text": [
            "<ipython-input-9-8d17ba424bc7>:3: VisibleDeprecationWarning: Creating an ndarray from ragged nested sequences (which is a list-or-tuple of lists-or-tuples-or ndarrays with different lengths or shapes) is deprecated. If you meant to do this, you must specify 'dtype=object' when creating the ndarray.\n",
            "  encoded_sequences = np.array([oh_encoder.transform(list(seq)) for seq in dataset.seq])\n"
          ]
        }
      ]
    },
    {
      "cell_type": "markdown",
      "source": [
        "Third, pad the sequence due to the varying lengths of the sequences"
      ],
      "metadata": {
        "id": "SKhTxur8eD0_"
      }
    },
    {
      "cell_type": "code",
      "source": [
        "max_length = [len(seq) for seq in encoded_sequences]\n",
        "max_length = max_length[np.argmax(np.array(max_length))]\n",
        "   \n",
        "padded_sequences = sequence.pad_sequences(encoded_sequences, maxlen=max_length, padding=\"post\", truncating=\"post\")\n"
      ],
      "metadata": {
        "id": "N20_wUG4eLny"
      },
      "execution_count": null,
      "outputs": []
    },
    {
      "cell_type": "markdown",
      "source": [
        "Next, encode the functions"
      ],
      "metadata": {
        "id": "h42hpX2ufq2N"
      }
    },
    {
      "cell_type": "code",
      "source": [
        "# Encode the functions as one-hot vectors\n",
        "function_encoder = LabelEncoder().fit(dataset.go_class)\n",
        "encoded_functions = function_encoder.transform(dataset.go_class)\n",
        "num_functions = len(function_encoder.classes_)\n",
        "encoded_functions = np.eye(num_functions)[encoded_functions]"
      ],
      "metadata": {
        "id": "LBqGsj89fpvP"
      },
      "execution_count": null,
      "outputs": []
    },
    {
      "cell_type": "markdown",
      "source": [
        "#Baseline models"
      ],
      "metadata": {
        "id": "9-3HkYZAdUMi"
      }
    },
    {
      "cell_type": "markdown",
      "source": [
        "### 1. CNN"
      ],
      "metadata": {
        "id": "bp681Iv7dOGG"
      }
    },
    {
      "cell_type": "markdown",
      "source": [
        "***Advantage***\n",
        "1. The protein sequence is one-dimensional data with spatial dependencies between adjacent residues, CNNs can capture local patterns such as motifs, domains, and structural features that could be utilized to determine protein function.\n",
        "\n",
        "2. CNNs detect functionally relevant patterns at different positions within the sequence, and these patterns have same functional significance.\n",
        "\n",
        "3. CNNs reduces the number of parameters to be learned compared to fully connected networks, which saves time for large protein sequences\n",
        "\n",
        "***Disadvantage***\n",
        "\n",
        "CNNs can not capture dependencies or interactions between residues. Input sequences does not have a spatial structure."
      ],
      "metadata": {
        "id": "OgHM_9NLtSs6"
      }
    },
    {
      "cell_type": "code",
      "source": [
        "model = Sequential([\n",
        "    Conv1D(64, 3, activation='relu', input_shape=(max_length, 1)),\n",
        "    MaxPooling1D(2),\n",
        "    Conv1D(128, 3, activation='relu'),\n",
        "    MaxPooling1D(2),\n",
        "    Conv1D(256, 3, activation='relu'),\n",
        "    GlobalAveragePooling1D(),\n",
        "    Dense(128, activation='relu'),\n",
        "    Dense(64, activation='relu'),\n",
        "    Dense(num_functions, activation='softmax')\n",
        "])\n",
        "\n",
        "# Compile the model with appropriate loss function and optimizer\n",
        "model.compile(loss='categorical_crossentropy', optimizer='adam', metrics=['accuracy'])\n",
        "\n",
        "# Train the model on the padded sequences and functions and store the training history\n",
        "history = model.fit(padded_sequences.reshape(padded_sequences.shape[0], padded_sequences.shape[1], 1), \n",
        "                    encoded_functions, epochs=20, batch_size=64, validation_split=0.2)\n",
        "\n",
        "# Plot the loss curve and training accuracy curve\n",
        "plt.plot(history.history['loss'], label='training loss')\n",
        "plt.plot(history.history['val_loss'], label='validation loss')\n",
        "plt.plot(history.history['accuracy'], label='training accuracy')\n",
        "plt.plot(history.history['val_accuracy'], label='validation accuracy')\n",
        "plt.legend()\n",
        "plt.show()\n",
        "\n"
      ],
      "metadata": {
        "colab": {
          "base_uri": "https://localhost:8080/",
          "height": 1000
        },
        "id": "pUPKazlNdT7C",
        "outputId": "31a35a88-7ad3-4595-e688-b3190b820193"
      },
      "execution_count": null,
      "outputs": [
        {
          "output_type": "stream",
          "name": "stdout",
          "text": [
            "Epoch 1/20\n",
            "125/125 [==============================] - 7s 43ms/step - loss: 1.0220 - accuracy: 0.5019 - val_loss: 1.0846 - val_accuracy: 0.4380\n",
            "Epoch 2/20\n",
            "125/125 [==============================] - 5s 43ms/step - loss: 1.0137 - accuracy: 0.5041 - val_loss: 1.0709 - val_accuracy: 0.4380\n",
            "Epoch 3/20\n",
            "125/125 [==============================] - 5s 43ms/step - loss: 1.0131 - accuracy: 0.5041 - val_loss: 1.0716 - val_accuracy: 0.4380\n",
            "Epoch 4/20\n",
            "125/125 [==============================] - 5s 41ms/step - loss: 1.0123 - accuracy: 0.5041 - val_loss: 1.0696 - val_accuracy: 0.4380\n",
            "Epoch 5/20\n",
            "125/125 [==============================] - 5s 41ms/step - loss: 1.0066 - accuracy: 0.5042 - val_loss: 1.0816 - val_accuracy: 0.4380\n",
            "Epoch 6/20\n",
            "125/125 [==============================] - 5s 42ms/step - loss: 1.0016 - accuracy: 0.5041 - val_loss: 1.0767 - val_accuracy: 0.4380\n",
            "Epoch 7/20\n",
            "125/125 [==============================] - 5s 40ms/step - loss: 0.9958 - accuracy: 0.5004 - val_loss: 1.0731 - val_accuracy: 0.4380\n",
            "Epoch 8/20\n",
            "125/125 [==============================] - 5s 40ms/step - loss: 0.9949 - accuracy: 0.5056 - val_loss: 1.0694 - val_accuracy: 0.4380\n",
            "Epoch 9/20\n",
            "125/125 [==============================] - 5s 42ms/step - loss: 0.9923 - accuracy: 0.5036 - val_loss: 1.0812 - val_accuracy: 0.4400\n",
            "Epoch 10/20\n",
            "125/125 [==============================] - 5s 41ms/step - loss: 0.9905 - accuracy: 0.5050 - val_loss: 1.0685 - val_accuracy: 0.4380\n",
            "Epoch 11/20\n",
            "125/125 [==============================] - 5s 40ms/step - loss: 0.9886 - accuracy: 0.5099 - val_loss: 1.0807 - val_accuracy: 0.4385\n",
            "Epoch 12/20\n",
            "125/125 [==============================] - 5s 41ms/step - loss: 0.9879 - accuracy: 0.5074 - val_loss: 1.0978 - val_accuracy: 0.4380\n",
            "Epoch 13/20\n",
            "125/125 [==============================] - 5s 41ms/step - loss: 0.9859 - accuracy: 0.5096 - val_loss: 1.0788 - val_accuracy: 0.4380\n",
            "Epoch 14/20\n",
            "125/125 [==============================] - 5s 40ms/step - loss: 0.9840 - accuracy: 0.5110 - val_loss: 1.0691 - val_accuracy: 0.4380\n",
            "Epoch 15/20\n",
            "125/125 [==============================] - 5s 42ms/step - loss: 0.9842 - accuracy: 0.5101 - val_loss: 1.0754 - val_accuracy: 0.4395\n",
            "Epoch 16/20\n",
            "125/125 [==============================] - 5s 40ms/step - loss: 0.9808 - accuracy: 0.5117 - val_loss: 1.0710 - val_accuracy: 0.4385\n",
            "Epoch 17/20\n",
            "125/125 [==============================] - 5s 40ms/step - loss: 0.9789 - accuracy: 0.5110 - val_loss: 1.0726 - val_accuracy: 0.4380\n",
            "Epoch 18/20\n",
            "125/125 [==============================] - 5s 42ms/step - loss: 0.9761 - accuracy: 0.5115 - val_loss: 1.0885 - val_accuracy: 0.4260\n",
            "Epoch 19/20\n",
            "125/125 [==============================] - 5s 40ms/step - loss: 0.9743 - accuracy: 0.5160 - val_loss: 1.0719 - val_accuracy: 0.4385\n",
            "Epoch 20/20\n",
            "125/125 [==============================] - 5s 41ms/step - loss: 0.9708 - accuracy: 0.5144 - val_loss: 1.0754 - val_accuracy: 0.4375\n"
          ]
        },
        {
          "output_type": "display_data",
          "data": {
            "text/plain": [
              "<Figure size 640x480 with 1 Axes>"
            ],
            "image/png": "[encoded data removed]"
          },
          "metadata": {}
        }
      ]
    },
    {
      "cell_type": "code",
      "source": [
        "# Predict the functions of new protein sequences\n",
        "test_sequences = df.seq[10000:12000]\n",
        "\n",
        "encoded_new_sequences = np.array([oh_encoder.transform(list(seq)) for seq in test_sequences ])\n",
        "padded_new_sequences = sequence.pad_sequences(encoded_new_sequences, maxlen=max_length, padding=\"post\", truncating=\"post\")\n",
        "predicted_functions = model.predict(padded_new_sequences.reshape(padded_new_sequences.shape[0], padded_new_sequences.shape[1], 1))\n",
        "\n",
        "# Print the predicted functions\n",
        "predicted_function_labels = function_encoder.inverse_transform(np.argmax(predicted_functions, axis=1))\n",
        "\n",
        "# compute accuracy\n",
        "accuracy = np.sum(df.go_class[10000:12000] == predicted_function_labels)/ len(test_sequences)\n",
        "print('the accuracy is', accuracy)"
      ],
      "metadata": {
        "colab": {
          "base_uri": "https://localhost:8080/"
        },
        "id": "WSCwIItMn8Oy",
        "outputId": "f686ef4d-79a0-4f53-d3be-62a6778743cc"
      },
      "execution_count": null,
      "outputs": [
        {
          "output_type": "stream",
          "name": "stdout",
          "text": [
            " 6/63 [=>............................] - ETA: 0s"
          ]
        },
        {
          "output_type": "stream",
          "name": "stderr",
          "text": [
            "<ipython-input-232-e4f3e24cd2cc>:4: VisibleDeprecationWarning: Creating an ndarray from ragged nested sequences (which is a list-or-tuple of lists-or-tuples-or ndarrays with different lengths or shapes) is deprecated. If you meant to do this, you must specify 'dtype=object' when creating the ndarray.\n",
            "  encoded_new_sequences = np.array([oh_encoder.transform(list(seq)) for seq in test_sequences ])\n"
          ]
        },
        {
          "output_type": "stream",
          "name": "stdout",
          "text": [
            "63/63 [==============================] - 1s 9ms/step\n",
            "the accuracy is 0.5665\n"
          ]
        }
      ]
    },
    {
      "cell_type": "markdown",
      "source": [
        "### 2. AutoEncoder"
      ],
      "metadata": {
        "id": "_0gOTeaYnagM"
      }
    },
    {
      "cell_type": "markdown",
      "source": [
        "Autoencoders can be trained on large datasets of labeled proteins to learn protein sequences or structures that capture important functional information.\n",
        "\n",
        "***Advantage*** \n",
        "\n",
        "1. Autoencoders can learn nonlinear representations of the data and capture complex patterns or relationships\n",
        "\n",
        "2. Autoencoders can handle missing data in protein datasets. "
      ],
      "metadata": {
        "id": "tWrJWUYkxgad"
      }
    },
    {
      "cell_type": "markdown",
      "source": [
        "Preprocess the sequence into numerical format\n",
        "\n",
        "Source code in keras: https://keras.io/examples/generative/vae/\n",
        "\n",
        "In this part, we set the maximum length of sequence to 500 since autoencoder is computationally expensive."
      ],
      "metadata": {
        "id": "8_vdaRhosuM1"
      }
    },
    {
      "cell_type": "markdown",
      "source": [
        "Implement the model using Keras"
      ],
      "metadata": {
        "id": "SshJQN62zqFH"
      }
    },
    {
      "cell_type": "code",
      "source": [
        "# One-hot encoding of sequences\n",
        "amino_acids = ['A', 'C', 'D', 'E', 'F', 'G', 'H', 'I', 'K', 'L', 'M', 'N', 'P', 'Q', 'R', 'S', 'T', 'V', 'W', 'Y', 'X', 'B', 'U']\n",
        "aa_dict = {amino_acids[i]: i for i in range(len(amino_acids))}\n",
        "max_len = 500\n",
        "n_aa = len(amino_acids)\n",
        "X = np.zeros((len(dataset), max_len, n_aa))\n",
        "for i, seq in enumerate(dataset['seq']):\n",
        "    for j, aa in enumerate(seq[:max_len]):\n",
        "        X[i, j, aa_dict[aa]] = 1\n"
      ],
      "metadata": {
        "id": "P8xy5JUR9eXC"
      },
      "execution_count": null,
      "outputs": []
    },
    {
      "cell_type": "code",
      "source": [
        "# Train/test split\n",
        "y = dataset.go_class\n",
        "X_train, X_test, y_train, y_test = train_test_split(X, y, test_size=0.2, random_state=42)\n"
      ],
      "metadata": {
        "id": "AuovaOya_Wo_"
      },
      "execution_count": null,
      "outputs": []
    },
    {
      "cell_type": "code",
      "source": [
        "# Define autoencoder model\n",
        "latent_dim = 50\n",
        "input_shape = (max_len, n_aa)\n",
        "inputs = Input(shape=input_shape, name='encoder_input')\n",
        "x = Flatten()(inputs)\n",
        "encoded = Dense(latent_dim, activation='relu', name='encoded')(x)\n",
        "x = Dense(max_len*n_aa, activation='sigmoid')(encoded)\n",
        "decoded = Reshape((max_len, n_aa))(x)\n",
        "\n",
        "autoencoder = Model(inputs, decoded)"
      ],
      "metadata": {
        "id": "uVsRzVcSADbA"
      },
      "execution_count": null,
      "outputs": []
    },
    {
      "cell_type": "code",
      "source": [
        "# Define loss function and compile model\n",
        "def binary_crossentropy_loss(y_true, y_pred):\n",
        "    return binary_crossentropy(y_true, y_pred)\n",
        "\n",
        "autoencoder.compile(optimizer='adam', loss=binary_crossentropy_loss)"
      ],
      "metadata": {
        "id": "xXrazqFyAWgv"
      },
      "execution_count": null,
      "outputs": []
    },
    {
      "cell_type": "code",
      "source": [
        "epochs = 30\n",
        "history = autoencoder.fit(X_train, X_train,\n",
        "                          epochs=epochs,\n",
        "                          batch_size = 64,\n",
        "                          shuffle=True,\n",
        "                          validation_data=(X_test, X_test))"
      ],
      "metadata": {
        "colab": {
          "base_uri": "https://localhost:8080/"
        },
        "id": "FUmQquaMAvaV",
        "outputId": "970633fd-de1e-4935-9bd1-afddfd98adc2"
      },
      "execution_count": null,
      "outputs": [
        {
          "output_type": "stream",
          "name": "stdout",
          "text": [
            "Epoch 1/30\n",
            "125/125 [==============================] - 10s 21ms/step - loss: 0.1951 - val_loss: 0.1360\n",
            "Epoch 2/30\n",
            "125/125 [==============================] - 1s 9ms/step - loss: 0.1316 - val_loss: 0.1221\n",
            "Epoch 3/30\n",
            "125/125 [==============================] - 1s 10ms/step - loss: 0.1154 - val_loss: 0.1068\n",
            "Epoch 4/30\n",
            "125/125 [==============================] - 1s 8ms/step - loss: 0.1011 - val_loss: 0.0958\n",
            "Epoch 5/30\n",
            "125/125 [==============================] - 1s 6ms/step - loss: 0.0901 - val_loss: 0.0864\n",
            "Epoch 6/30\n",
            "125/125 [==============================] - 1s 6ms/step - loss: 0.0811 - val_loss: 0.0791\n",
            "Epoch 7/30\n",
            "125/125 [==============================] - 1s 8ms/step - loss: 0.0744 - val_loss: 0.0737\n",
            "Epoch 8/30\n",
            "125/125 [==============================] - 1s 9ms/step - loss: 0.0696 - val_loss: 0.0699\n",
            "Epoch 9/30\n",
            "125/125 [==============================] - 1s 8ms/step - loss: 0.0662 - val_loss: 0.0672\n",
            "Epoch 10/30\n",
            "125/125 [==============================] - 2s 16ms/step - loss: 0.0636 - val_loss: 0.0649\n",
            "Epoch 11/30\n",
            "125/125 [==============================] - 2s 20ms/step - loss: 0.0615 - val_loss: 0.0632\n",
            "Epoch 12/30\n",
            "125/125 [==============================] - 1s 8ms/step - loss: 0.0599 - val_loss: 0.0619\n",
            "Epoch 13/30\n",
            "125/125 [==============================] - 1s 6ms/step - loss: 0.0586 - val_loss: 0.0606\n",
            "Epoch 14/30\n",
            "125/125 [==============================] - 1s 6ms/step - loss: 0.0574 - val_loss: 0.0597\n",
            "Epoch 15/30\n",
            "125/125 [==============================] - 1s 6ms/step - loss: 0.0563 - val_loss: 0.0589\n",
            "Epoch 16/30\n",
            "125/125 [==============================] - 1s 6ms/step - loss: 0.0555 - val_loss: 0.0582\n",
            "Epoch 17/30\n",
            "125/125 [==============================] - 1s 6ms/step - loss: 0.0547 - val_loss: 0.0578\n",
            "Epoch 18/30\n",
            "125/125 [==============================] - 1s 6ms/step - loss: 0.0541 - val_loss: 0.0571\n",
            "Epoch 19/30\n",
            "125/125 [==============================] - 1s 6ms/step - loss: 0.0534 - val_loss: 0.0565\n",
            "Epoch 20/30\n",
            "125/125 [==============================] - 1s 6ms/step - loss: 0.0529 - val_loss: 0.0562\n",
            "Epoch 21/30\n",
            "125/125 [==============================] - 1s 6ms/step - loss: 0.0524 - val_loss: 0.0558\n",
            "Epoch 22/30\n",
            "125/125 [==============================] - 1s 6ms/step - loss: 0.0520 - val_loss: 0.0553\n",
            "Epoch 23/30\n",
            "125/125 [==============================] - 1s 6ms/step - loss: 0.0514 - val_loss: 0.0551\n",
            "Epoch 24/30\n",
            "125/125 [==============================] - 1s 6ms/step - loss: 0.0511 - val_loss: 0.0548\n",
            "Epoch 25/30\n",
            "125/125 [==============================] - 1s 6ms/step - loss: 0.0508 - val_loss: 0.0545\n",
            "Epoch 26/30\n",
            "125/125 [==============================] - 1s 7ms/step - loss: 0.0504 - val_loss: 0.0542\n",
            "Epoch 27/30\n",
            "125/125 [==============================] - 1s 7ms/step - loss: 0.0501 - val_loss: 0.0542\n",
            "Epoch 28/30\n",
            "125/125 [==============================] - 1s 7ms/step - loss: 0.0499 - val_loss: 0.0541\n",
            "Epoch 29/30\n",
            "125/125 [==============================] - 1s 9ms/step - loss: 0.0496 - val_loss: 0.0540\n",
            "Epoch 30/30\n",
            "125/125 [==============================] - 1s 6ms/step - loss: 0.0492 - val_loss: 0.0533\n"
          ]
        }
      ]
    },
    {
      "cell_type": "code",
      "source": [
        "# Plot loss curve\n",
        "plt.plot(history.history['loss'], label='Training Loss')\n",
        "plt.plot(history.history['val_loss'], label='Validation Loss')\n",
        "plt.xlabel('Epoch')\n",
        "plt.ylabel('Loss')\n",
        "plt.legend()\n",
        "plt.show()"
      ],
      "metadata": {
        "colab": {
          "base_uri": "https://localhost:8080/",
          "height": 449
        },
        "id": "btPp94qdDi8v",
        "outputId": "0a4c1c41-0323-4dc8-acaa-d3ba6258213d"
      },
      "execution_count": null,
      "outputs": [
        {
          "output_type": "display_data",
          "data": {
            "text/plain": [
              "<Figure size 640x480 with 1 Axes>"
            ],
            "image/png": "[encoded data removed]"
          },
          "metadata": {}
        }
      ]
    },
    {
      "cell_type": "markdown",
      "source": [
        "we can use the encoded sequences as input to a classifier model (e.g. logistic regression or a neural network) to predict protein function:"
      ],
      "metadata": {
        "id": "3wUV04ipDxKh"
      }
    },
    {
      "cell_type": "code",
      "source": [
        "# get the encoder and predictions\n",
        "encoder = Model(inputs, encoded)\n",
        "X_train_encoded = encoder.predict(X_train)\n",
        "X_test_encoded = encoder.predict(X_test)\n",
        "\n",
        "\n",
        "num_classes = len(set(dataset.go_class))\n",
        "inputs = Input(shape=(50,))\n",
        "x = Dense(64, activation='relu')(inputs)\n",
        "x = Dense(32, activation='relu')(x)\n",
        "predictions = Dense(num_classes, activation='softmax')(x)"
      ],
      "metadata": {
        "colab": {
          "base_uri": "https://localhost:8080/"
        },
        "id": "kr0GY6o9feR8",
        "outputId": "67517d51-464a-417f-9f5c-f241b6b593aa"
      },
      "execution_count": null,
      "outputs": [
        {
          "output_type": "stream",
          "name": "stdout",
          "text": [
            "250/250 [==============================] - 1s 2ms/step\n",
            "63/63 [==============================] - 0s 2ms/step\n"
          ]
        }
      ]
    },
    {
      "cell_type": "code",
      "source": [
        "classifier = Model(inputs=inputs, outputs=predictions)\n",
        "classifier.compile(optimizer='adam', loss='categorical_crossentropy', metrics=['accuracy'])\n",
        "# Train the classifier model\n",
        "y_train_encoded = np.array(pd.get_dummies(y_train))\n",
        "y_test_encoded = np.array(pd.get_dummies(y_test))\n",
        "\n",
        "classifier.fit(X_train_encoded, y_train_encoded, epochs=30, batch_size=32, shuffle=True, validation_data=(X_test_encoded, y_test_encoded))\n",
        "# Evaluate the model\n",
        "test_loss, test_acc = classifier.evaluate(X_test_encoded, y_test_encoded)\n",
        "print('Test accuracy:', test_acc)\n",
        "\n"
      ],
      "metadata": {
        "colab": {
          "base_uri": "https://localhost:8080/"
        },
        "id": "wfZaQklQEMce",
        "outputId": "c3f7317d-2df3-481b-b165-7c69b20fdfde"
      },
      "execution_count": null,
      "outputs": [
        {
          "output_type": "stream",
          "name": "stdout",
          "text": [
            "Epoch 1/30\n",
            "250/250 [==============================] - 4s 9ms/step - loss: 1.0098 - accuracy: 0.4945 - val_loss: 1.0454 - val_accuracy: 0.4730\n",
            "Epoch 2/30\n",
            "250/250 [==============================] - 1s 6ms/step - loss: 0.9986 - accuracy: 0.4969 - val_loss: 1.0087 - val_accuracy: 0.4695\n",
            "Epoch 3/30\n",
            "250/250 [==============================] - 1s 5ms/step - loss: 0.9866 - accuracy: 0.4990 - val_loss: 0.9981 - val_accuracy: 0.4770\n",
            "Epoch 4/30\n",
            "250/250 [==============================] - 1s 4ms/step - loss: 0.9748 - accuracy: 0.5073 - val_loss: 1.0090 - val_accuracy: 0.4800\n",
            "Epoch 5/30\n",
            "250/250 [==============================] - 1s 4ms/step - loss: 0.9749 - accuracy: 0.5106 - val_loss: 0.9976 - val_accuracy: 0.4835\n",
            "Epoch 6/30\n",
            "250/250 [==============================] - 1s 4ms/step - loss: 0.9744 - accuracy: 0.5064 - val_loss: 1.0030 - val_accuracy: 0.4805\n",
            "Epoch 7/30\n",
            "250/250 [==============================] - 1s 4ms/step - loss: 0.9701 - accuracy: 0.5034 - val_loss: 1.0011 - val_accuracy: 0.4680\n",
            "Epoch 8/30\n",
            "250/250 [==============================] - 1s 4ms/step - loss: 0.9686 - accuracy: 0.5082 - val_loss: 0.9832 - val_accuracy: 0.4920\n",
            "Epoch 9/30\n",
            "250/250 [==============================] - 1s 3ms/step - loss: 0.9661 - accuracy: 0.5102 - val_loss: 0.9890 - val_accuracy: 0.4870\n",
            "Epoch 10/30\n",
            "250/250 [==============================] - 1s 5ms/step - loss: 0.9686 - accuracy: 0.5020 - val_loss: 0.9926 - val_accuracy: 0.4895\n",
            "Epoch 11/30\n",
            "250/250 [==============================] - 1s 4ms/step - loss: 0.9633 - accuracy: 0.5100 - val_loss: 1.0007 - val_accuracy: 0.4970\n",
            "Epoch 12/30\n",
            "250/250 [==============================] - 1s 4ms/step - loss: 0.9638 - accuracy: 0.5115 - val_loss: 0.9984 - val_accuracy: 0.4780\n",
            "Epoch 13/30\n",
            "250/250 [==============================] - 2s 8ms/step - loss: 0.9603 - accuracy: 0.5123 - val_loss: 0.9902 - val_accuracy: 0.4845\n",
            "Epoch 14/30\n",
            "250/250 [==============================] - 2s 8ms/step - loss: 0.9602 - accuracy: 0.5051 - val_loss: 0.9861 - val_accuracy: 0.4850\n",
            "Epoch 15/30\n",
            "250/250 [==============================] - 2s 8ms/step - loss: 0.9601 - accuracy: 0.5126 - val_loss: 0.9945 - val_accuracy: 0.4930\n",
            "Epoch 16/30\n",
            "250/250 [==============================] - 2s 6ms/step - loss: 0.9593 - accuracy: 0.5092 - val_loss: 0.9908 - val_accuracy: 0.4825\n",
            "Epoch 17/30\n",
            "250/250 [==============================] - 1s 4ms/step - loss: 0.9566 - accuracy: 0.5107 - val_loss: 0.9915 - val_accuracy: 0.4870\n",
            "Epoch 18/30\n",
            "250/250 [==============================] - 1s 4ms/step - loss: 0.9579 - accuracy: 0.5100 - val_loss: 0.9924 - val_accuracy: 0.4800\n",
            "Epoch 19/30\n",
            "250/250 [==============================] - 1s 4ms/step - loss: 0.9577 - accuracy: 0.5156 - val_loss: 0.9891 - val_accuracy: 0.4825\n",
            "Epoch 20/30\n",
            "250/250 [==============================] - 1s 6ms/step - loss: 0.9570 - accuracy: 0.5100 - val_loss: 0.9872 - val_accuracy: 0.4995\n",
            "Epoch 21/30\n",
            "250/250 [==============================] - 1s 5ms/step - loss: 0.9560 - accuracy: 0.5148 - val_loss: 0.9886 - val_accuracy: 0.4810\n",
            "Epoch 22/30\n",
            "250/250 [==============================] - 1s 5ms/step - loss: 0.9549 - accuracy: 0.5136 - val_loss: 0.9917 - val_accuracy: 0.4780\n",
            "Epoch 23/30\n",
            "250/250 [==============================] - 1s 6ms/step - loss: 0.9537 - accuracy: 0.5125 - val_loss: 0.9864 - val_accuracy: 0.4820\n",
            "Epoch 24/30\n",
            "250/250 [==============================] - 2s 7ms/step - loss: 0.9545 - accuracy: 0.5145 - val_loss: 0.9929 - val_accuracy: 0.4910\n",
            "Epoch 25/30\n",
            "250/250 [==============================] - 1s 5ms/step - loss: 0.9542 - accuracy: 0.5173 - val_loss: 0.9835 - val_accuracy: 0.4955\n",
            "Epoch 26/30\n",
            "250/250 [==============================] - 2s 7ms/step - loss: 0.9513 - accuracy: 0.5180 - val_loss: 0.9911 - val_accuracy: 0.4870\n",
            "Epoch 27/30\n",
            "250/250 [==============================] - 1s 5ms/step - loss: 0.9535 - accuracy: 0.5182 - val_loss: 0.9855 - val_accuracy: 0.4905\n",
            "Epoch 28/30\n",
            "250/250 [==============================] - 1s 4ms/step - loss: 0.9518 - accuracy: 0.5107 - val_loss: 0.9813 - val_accuracy: 0.4905\n",
            "Epoch 29/30\n",
            "250/250 [==============================] - 1s 3ms/step - loss: 0.9489 - accuracy: 0.5184 - val_loss: 1.0019 - val_accuracy: 0.4825\n",
            "Epoch 30/30\n",
            "250/250 [==============================] - 1s 3ms/step - loss: 0.9521 - accuracy: 0.5144 - val_loss: 0.9865 - val_accuracy: 0.5020\n",
            "63/63 [==============================] - 0s 2ms/step - loss: 0.9865 - accuracy: 0.5020\n",
            "Test accuracy: 0.5019999742507935\n"
          ]
        }
      ]
    },
    {
      "cell_type": "markdown",
      "source": [
        "***possible reasons for low accuracy***\n",
        "\n",
        "1. Insufficient data for training \\\\\n",
        "2. Chosen number of features is smaller. CNN has 3700 features, the maximal length of sequences, while we only choose 500 features with autoencoder due to computation limit. \n",
        "3. Class imbalance"
      ],
      "metadata": {
        "id": "DX1YOdtdocXt"
      }
    },
    {
      "cell_type": "markdown",
      "source": [
        "### 3. RNN (Recurrent Neural Network)\n",
        "\n",
        "RNNs are useful for this task because they can model the sequential dependencies between amino acids. Though RNNs may not achieve high accuracy. Nonetheless, RNNs is a useful tool for analyzing protein sequences and identifying potential functional domains. \n",
        "\n",
        "In the following implementations, we choose ***LSTM***. LSTMs have a unique memory cell that can store information over extended periods of time and selectively forget or remember information as needed. In the case of protein function prediction, the amino acid sequence of a protein is a sequential input, and the information contained in each amino acid can be relevant to the protein's function, even if it is far away in the sequence. Therefore, it is important for the model to be able to retain and selectively use information from any point in the sequence to predict the function.\n",
        "\n",
        "Reference: https://www.sciencedirect.com/science/article/pii/S0003269720304875#!\n",
        "\n"
      ],
      "metadata": {
        "id": "eVDF56xWqCPa"
      }
    },
    {
      "cell_type": "code",
      "source": [
        "dataset = df[:12000]\n",
        "# One-hot encoding of sequences\n",
        "amino_acids = ['A', 'C', 'D', 'E', 'F', 'G', 'H', 'I', 'K', 'L', 'M', 'N', 'P', 'Q', 'R', 'S', 'T', 'V', 'W', 'Y', 'X', 'B', 'U']\n",
        "aa_dict = {amino_acids[i]: i for i in range(len(amino_acids))}\n",
        "max_len = 1000\n",
        "n_aa = len(amino_acids)\n",
        "X = np.zeros((len(dataset), max_len, n_aa))\n",
        "for i, seq in enumerate(dataset['seq']):\n",
        "    for j, aa in enumerate(seq[:max_len]):\n",
        "        X[i, j, aa_dict[aa]] = 1\n",
        "y = np.array(dataset.go_class)\n",
        "num_classes = len(np.unique(y))"
      ],
      "metadata": {
        "id": "rCvzUtVVdhH9"
      },
      "execution_count": null,
      "outputs": []
    },
    {
      "cell_type": "code",
      "source": [
        "# split the train and test \n",
        "X_train, X_test, y_train, y_test = train_test_split(X, y, test_size=0.15, random_state=66)\n",
        "X_train, X_val, y_train, y_val = train_test_split(X_train, y_train, test_size=0.15, random_state=66)"
      ],
      "metadata": {
        "id": "_A4GwfdFd9A1"
      },
      "execution_count": null,
      "outputs": []
    },
    {
      "cell_type": "code",
      "source": [
        "y_train = np.array(pd.get_dummies(y_train))\n",
        "y_val = np.array(pd.get_dummies(y_val))\n",
        "y_test = np.array(pd.get_dummies(y_test))"
      ],
      "metadata": {
        "id": "WWefUgxmn_o_"
      },
      "execution_count": null,
      "outputs": []
    },
    {
      "cell_type": "code",
      "source": [
        "# Define the LSTM model\n",
        "model = Sequential()\n",
        "model.add(LSTM(64, input_shape=(None, len(ORDER_KEY)),return_sequences = True))\n",
        "model.add(LSTM(32, return_sequences=True))\n",
        "model.add(LSTM(16))\n",
        "model.add(Dense(32, activation='relu'))\n",
        "model.add(Dense(num_classes, activation='softmax'))\n",
        "\n",
        "# Compile the model with adam optimizer categorical cross-entropy loss \n",
        "model.compile(loss='categorical_crossentropy', optimizer='adam', metrics=['accuracy'])\n",
        "\n",
        "# Train the model on the training set\n",
        "history = model.fit(X_train, y_train, batch_size=64, epochs=30, validation_data=(X_val, y_val))"
      ],
      "metadata": {
        "colab": {
          "base_uri": "https://localhost:8080/"
        },
        "id": "iOz6r7oMeufV",
        "outputId": "7636ae42-e3e3-46db-be98-42f67b99b126"
      },
      "execution_count": null,
      "outputs": [
        {
          "output_type": "stream",
          "name": "stdout",
          "text": [
            "Epoch 1/30\n",
            "136/136 [==============================] - 19s 95ms/step - loss: 1.0293 - accuracy: 0.5042 - val_loss: 1.0269 - val_accuracy: 0.4980\n",
            "Epoch 2/30\n",
            "136/136 [==============================] - 12s 87ms/step - loss: 1.0211 - accuracy: 0.5058 - val_loss: 1.0244 - val_accuracy: 0.4980\n",
            "Epoch 3/30\n",
            "136/136 [==============================] - 11s 83ms/step - loss: 1.0195 - accuracy: 0.5058 - val_loss: 1.0245 - val_accuracy: 0.4980\n",
            "Epoch 4/30\n",
            "136/136 [==============================] - 11s 84ms/step - loss: 1.0192 - accuracy: 0.5058 - val_loss: 1.0228 - val_accuracy: 0.4980\n",
            "Epoch 5/30\n",
            "136/136 [==============================] - 11s 83ms/step - loss: 1.0186 - accuracy: 0.5058 - val_loss: 1.0217 - val_accuracy: 0.4980\n",
            "Epoch 6/30\n",
            "136/136 [==============================] - 12s 87ms/step - loss: 1.0188 - accuracy: 0.5054 - val_loss: 1.0226 - val_accuracy: 0.5000\n",
            "Epoch 7/30\n",
            "136/136 [==============================] - 11s 81ms/step - loss: 1.0170 - accuracy: 0.5077 - val_loss: 1.0229 - val_accuracy: 0.4993\n",
            "Epoch 8/30\n",
            "136/136 [==============================] - 11s 79ms/step - loss: 1.0161 - accuracy: 0.5075 - val_loss: 1.0234 - val_accuracy: 0.4980\n",
            "Epoch 9/30\n",
            "136/136 [==============================] - 11s 83ms/step - loss: 1.0170 - accuracy: 0.5055 - val_loss: 1.0226 - val_accuracy: 0.4980\n",
            "Epoch 10/30\n",
            "136/136 [==============================] - 12s 87ms/step - loss: 1.0159 - accuracy: 0.5092 - val_loss: 1.0218 - val_accuracy: 0.4980\n",
            "Epoch 11/30\n",
            "136/136 [==============================] - 12s 87ms/step - loss: 1.0151 - accuracy: 0.5096 - val_loss: 1.0246 - val_accuracy: 0.4974\n",
            "Epoch 12/30\n",
            "136/136 [==============================] - 12s 87ms/step - loss: 1.0152 - accuracy: 0.5099 - val_loss: 1.0218 - val_accuracy: 0.4993\n",
            "Epoch 13/30\n",
            "136/136 [==============================] - 11s 83ms/step - loss: 1.0136 - accuracy: 0.5103 - val_loss: 1.0228 - val_accuracy: 0.5013\n",
            "Epoch 14/30\n",
            "136/136 [==============================] - 11s 79ms/step - loss: 1.0138 - accuracy: 0.5104 - val_loss: 1.0237 - val_accuracy: 0.4993\n",
            "Epoch 15/30\n",
            "136/136 [==============================] - 11s 80ms/step - loss: 1.0137 - accuracy: 0.5106 - val_loss: 1.0225 - val_accuracy: 0.5039\n",
            "Epoch 16/30\n",
            "136/136 [==============================] - 12s 86ms/step - loss: 1.0129 - accuracy: 0.5100 - val_loss: 1.0235 - val_accuracy: 0.5007\n",
            "Epoch 17/30\n",
            "136/136 [==============================] - 11s 83ms/step - loss: 1.0121 - accuracy: 0.5107 - val_loss: 1.0232 - val_accuracy: 0.5000\n",
            "Epoch 18/30\n",
            "136/136 [==============================] - 11s 83ms/step - loss: 1.0128 - accuracy: 0.5104 - val_loss: 1.0233 - val_accuracy: 0.4987\n",
            "Epoch 19/30\n",
            "136/136 [==============================] - 12s 87ms/step - loss: 1.0120 - accuracy: 0.5101 - val_loss: 1.0219 - val_accuracy: 0.5000\n",
            "Epoch 20/30\n",
            "136/136 [==============================] - 11s 83ms/step - loss: 1.0119 - accuracy: 0.5115 - val_loss: 1.0217 - val_accuracy: 0.5000\n",
            "Epoch 21/30\n",
            "136/136 [==============================] - 11s 80ms/step - loss: 1.0117 - accuracy: 0.5103 - val_loss: 1.0291 - val_accuracy: 0.4967\n",
            "Epoch 22/30\n",
            "136/136 [==============================] - 11s 84ms/step - loss: 1.0118 - accuracy: 0.5100 - val_loss: 1.0237 - val_accuracy: 0.4961\n",
            "Epoch 23/30\n",
            "136/136 [==============================] - 12s 86ms/step - loss: 1.0106 - accuracy: 0.5110 - val_loss: 1.0238 - val_accuracy: 0.4974\n",
            "Epoch 24/30\n",
            "136/136 [==============================] - 11s 84ms/step - loss: 1.0107 - accuracy: 0.5104 - val_loss: 1.0230 - val_accuracy: 0.4987\n",
            "Epoch 25/30\n",
            "136/136 [==============================] - 11s 83ms/step - loss: 1.0103 - accuracy: 0.5100 - val_loss: 1.0223 - val_accuracy: 0.4980\n",
            "Epoch 26/30\n",
            "136/136 [==============================] - 11s 82ms/step - loss: 1.0094 - accuracy: 0.5107 - val_loss: 1.0245 - val_accuracy: 0.4961\n",
            "Epoch 27/30\n",
            "136/136 [==============================] - 11s 83ms/step - loss: 1.0102 - accuracy: 0.5111 - val_loss: 1.0242 - val_accuracy: 0.4974\n",
            "Epoch 28/30\n",
            "136/136 [==============================] - 11s 82ms/step - loss: 1.0100 - accuracy: 0.5112 - val_loss: 1.0236 - val_accuracy: 0.4961\n",
            "Epoch 29/30\n",
            "136/136 [==============================] - 11s 85ms/step - loss: 1.0099 - accuracy: 0.5112 - val_loss: 1.0228 - val_accuracy: 0.4948\n",
            "Epoch 30/30\n",
            "136/136 [==============================] - 11s 80ms/step - loss: 1.0090 - accuracy: 0.5107 - val_loss: 1.0233 - val_accuracy: 0.4954\n"
          ]
        }
      ]
    },
    {
      "cell_type": "code",
      "source": [
        "plt.plot(history.history['loss'], label='Training Loss')\n",
        "plt.plot(history.history['val_loss'], label='Validation Loss')\n",
        "plt.xlabel('Epoch')\n",
        "plt.ylabel('Loss')\n",
        "plt.legend()\n",
        "plt.show()"
      ],
      "metadata": {
        "colab": {
          "base_uri": "https://localhost:8080/",
          "height": 450
        },
        "id": "fQHGYIkTnYEH",
        "outputId": "173bbf38-846c-473d-ce68-2a164f7bf3ad"
      },
      "execution_count": null,
      "outputs": [
        {
          "output_type": "display_data",
          "data": {
            "text/plain": [
              "<Figure size 640x480 with 1 Axes>"
            ],
            "image/png": "[encoded data removed]"
          },
          "metadata": {}
        }
      ]
    },
    {
      "cell_type": "code",
      "source": [
        "# Evaluate the test accuracy\n",
        "loss, accuracy = model.evaluate(X_test, y_test)\n",
        "\n",
        "print(f'Test loss: {loss:.3f}, Test accuracy: {accuracy:.3f}')"
      ],
      "metadata": {
        "colab": {
          "base_uri": "https://localhost:8080/"
        },
        "id": "j4CBJlKsnYzi",
        "outputId": "7339c5be-0997-4a02-9e36-a14052dfd630"
      },
      "execution_count": null,
      "outputs": [
        {
          "output_type": "stream",
          "name": "stdout",
          "text": [
            "57/57 [==============================] - 2s 40ms/step - loss: 1.0184 - accuracy: 0.4956\n",
            "Test loss: 1.018, Test accuracy: 0.496\n"
          ]
        }
      ]
    },
    {
      "cell_type": "markdown",
      "source": [
        "### 4. GCN (Graph Convolutional Networks)"
      ],
      "metadata": {
        "id": "ZGegBYrE6nWh"
      }
    },
    {
      "cell_type": "markdown",
      "source": [
        "Graph Convolutional Networks (GCNs are a type of geometric deep learning model that can operate on graph-structured data, such as protein sequences and functions.\n",
        "\n",
        "GCNs can be used to learn amino acids in protein sequences By leveraging the graph structure, GCNs can capture local and global contextual information, which can be useful for predicting protein sequences based on sequences and functions.\n",
        "\n",
        "GCN also allos for the incorporation of prior domain knowledge, such as protein structure information into the graph representation. GCN could also handle variable-length protein sequences.\n",
        "\n"
      ],
      "metadata": {
        "id": "RNC-ZL8I32Ma"
      }
    },
    {
      "cell_type": "code",
      "source": [
        "functions = dataset['go_class'].values\n",
        "sequences = dataset['seq'].values\n",
        "\n",
        "# Convert protein functions to numerical labels\n",
        "function_labels = dataset['go_class'].astype('category').cat.codes.values\n",
        "\n",
        "# Split data into train and test sets\n",
        "X_train, X_test, y_train, y_test = train_test_split(sequences, function_labels, test_size=0.2, random_state=42)"
      ],
      "metadata": {
        "id": "aD7G-ft9CBOs"
      },
      "execution_count": null,
      "outputs": []
    },
    {
      "cell_type": "markdown",
      "source": [
        "Tokenizer provides a convenient way to preprocess and tokenize protein sequences into a format that can be fed into a neural network for training or prediction.\n",
        "\n",
        "each character in the sequence is treated as a separate token. The resulting numerical sequences are then padded to a fixed length"
      ],
      "metadata": {
        "id": "Yh6AsHsmDT12"
      }
    },
    {
      "cell_type": "code",
      "source": [
        "tokenizer = Tokenizer(char_level=True)\n",
        "tokenizer.fit_on_texts(sequences)\n",
        "X_train_seq = tokenizer.texts_to_sequences(X_train)\n",
        "X_test_seq = tokenizer.texts_to_sequences(X_test)\n",
        "\n",
        "# Pad protein sequences to a fixed length\n",
        "max_len = max([len(x) for x in X_train_seq])\n",
        "X_train_padded = pad_sequences(X_train_seq, maxlen=max_len)"
      ],
      "metadata": {
        "id": "qGzO-BWZBpou"
      },
      "execution_count": null,
      "outputs": []
    },
    {
      "cell_type": "code",
      "source": [
        "y_train = np.array(pd.get_dummies(y_train))\n",
        "y_test = np.array(pd.get_dummies(y_test))"
      ],
      "metadata": {
        "id": "GHjTPlwu-IRD"
      },
      "execution_count": null,
      "outputs": []
    },
    {
      "cell_type": "code",
      "source": [
        "X_test_padded = pad_sequences(X_test_seq, maxlen=max_len)"
      ],
      "metadata": {
        "id": "g2c00JkiE_IS"
      },
      "execution_count": null,
      "outputs": []
    },
    {
      "cell_type": "code",
      "source": [
        "X_train.shape, y_train.shape"
      ],
      "metadata": {
        "colab": {
          "base_uri": "https://localhost:8080/"
        },
        "id": "zeLyKM92-XB2",
        "outputId": "76c2fc75-e967-4e46-bf21-7ed7beee67a4"
      },
      "execution_count": null,
      "outputs": [
        {
          "output_type": "execute_result",
          "data": {
            "text/plain": [
              "((9600,), (9600, 3))"
            ]
          },
          "metadata": {},
          "execution_count": 37
        }
      ]
    },
    {
      "cell_type": "code",
      "source": [
        "protein_sequences = X_train_padded"
      ],
      "metadata": {
        "id": "FaQkLTVX_7MX"
      },
      "execution_count": null,
      "outputs": []
    },
    {
      "cell_type": "code",
      "source": [
        "input_dim = protein_sequences.shape[1]  # Input dimension based on the length of protein sequences\n",
        "\n",
        "protein_sequences = np.expand_dims(protein_sequences, axis=2)\n",
        "\n",
        "# Input layer\n",
        "input_layer = Input(shape=(input_dim, 1))\n",
        "\n",
        "# Graph convolutional layers\n",
        "conv1 = Conv1D(filters=32, kernel_size=3, activation='relu')(input_layer)\n",
        "pool1 = MaxPooling1D(pool_size=2)(conv1)\n",
        "conv2 = Conv1D(filters=64, kernel_size=3, activation='relu')(pool1)\n",
        "pool2 = MaxPooling1D(pool_size=2)(conv2)\n",
        "\n",
        "# Flatten the output of the graph convolutional layers\n",
        "flatten = Flatten()(pool2)\n",
        "\n",
        "# Dense layers with dropout regularization\n",
        "dense1 = Dense(units=128, activation='relu')(flatten)\n",
        "dropout1 = Dropout(0.5)(dense1)\n",
        "dense2 = Dense(units=64, activation='relu')(dropout1)\n",
        "dropout2 = Dropout(0.5)(dense2)\n",
        "\n",
        "# Output layer with softmax activation for multi-class classification\n",
        "output = Dense(units=num_classes, activation='softmax')(dropout2)\n",
        "\n",
        "# Create the model\n",
        "model = Model(inputs=input_layer, outputs=output)\n",
        "\n",
        "# Compile the model\n",
        "optimizer = Adam(lr=0.001)\n",
        "model.compile(optimizer=optimizer, loss='categorical_crossentropy', metrics=['accuracy'])\n"
      ],
      "metadata": {
        "colab": {
          "base_uri": "https://localhost:8080/"
        },
        "id": "mp75GrPI6_VW",
        "outputId": "20fc026d-1026-4330-9b0e-95030b583f44"
      },
      "execution_count": null,
      "outputs": [
        {
          "output_type": "stream",
          "name": "stderr",
          "text": [
            "/usr/local/lib/python3.9/dist-packages/keras/optimizers/legacy/adam.py:117: UserWarning: The `lr` argument is deprecated, use `learning_rate` instead.\n",
            "  super().__init__(name, **kwargs)\n"
          ]
        }
      ]
    },
    {
      "cell_type": "code",
      "source": [
        "# train the model\n",
        "history = model.fit(X_train_padded, y_train, epochs=50, batch_size=64)"
      ],
      "metadata": {
        "colab": {
          "base_uri": "https://localhost:8080/"
        },
        "id": "BsedPjW77oa-",
        "outputId": "51a51b32-9fb8-4097-df75-012c3c309677"
      },
      "execution_count": null,
      "outputs": [
        {
          "output_type": "stream",
          "name": "stdout",
          "text": [
            "Epoch 1/50\n",
            "150/150 [==============================] - 3s 14ms/step - loss: 1.3598 - accuracy: 0.4730\n",
            "Epoch 2/50\n",
            "150/150 [==============================] - 2s 13ms/step - loss: 1.0146 - accuracy: 0.5056\n",
            "Epoch 3/50\n",
            "150/150 [==============================] - 2s 14ms/step - loss: 1.0042 - accuracy: 0.5101\n",
            "Epoch 4/50\n",
            "150/150 [==============================] - 2s 14ms/step - loss: 0.9899 - accuracy: 0.5109\n",
            "Epoch 5/50\n",
            "150/150 [==============================] - 2s 15ms/step - loss: 0.9843 - accuracy: 0.5119\n",
            "Epoch 6/50\n",
            "150/150 [==============================] - 2s 14ms/step - loss: 0.9738 - accuracy: 0.5186\n",
            "Epoch 7/50\n",
            "150/150 [==============================] - 2s 14ms/step - loss: 0.9654 - accuracy: 0.5221\n",
            "Epoch 8/50\n",
            "150/150 [==============================] - 2s 14ms/step - loss: 0.9627 - accuracy: 0.5248\n",
            "Epoch 9/50\n",
            "150/150 [==============================] - 2s 14ms/step - loss: 0.9586 - accuracy: 0.5213\n",
            "Epoch 10/50\n",
            "150/150 [==============================] - 2s 14ms/step - loss: 0.9512 - accuracy: 0.5301\n",
            "Epoch 11/50\n",
            "150/150 [==============================] - 2s 14ms/step - loss: 0.9505 - accuracy: 0.5314\n",
            "Epoch 12/50\n",
            "150/150 [==============================] - 2s 14ms/step - loss: 0.9415 - accuracy: 0.5430\n",
            "Epoch 13/50\n",
            "150/150 [==============================] - 2s 14ms/step - loss: 0.9385 - accuracy: 0.5352\n",
            "Epoch 14/50\n",
            "150/150 [==============================] - 2s 14ms/step - loss: 0.9343 - accuracy: 0.5348\n",
            "Epoch 15/50\n",
            "150/150 [==============================] - 2s 14ms/step - loss: 0.9283 - accuracy: 0.5448\n",
            "Epoch 16/50\n",
            "150/150 [==============================] - 2s 14ms/step - loss: 0.9189 - accuracy: 0.5514\n",
            "Epoch 17/50\n",
            "150/150 [==============================] - 2s 14ms/step - loss: 0.9234 - accuracy: 0.5502\n",
            "Epoch 18/50\n",
            "150/150 [==============================] - 2s 14ms/step - loss: 0.9125 - accuracy: 0.5542\n",
            "Epoch 19/50\n",
            "150/150 [==============================] - 2s 13ms/step - loss: 0.9103 - accuracy: 0.5543\n",
            "Epoch 20/50\n",
            "150/150 [==============================] - 2s 14ms/step - loss: 0.9049 - accuracy: 0.5619\n",
            "Epoch 21/50\n",
            "150/150 [==============================] - 2s 14ms/step - loss: 0.9029 - accuracy: 0.5647\n",
            "Epoch 22/50\n",
            "150/150 [==============================] - 2s 14ms/step - loss: 0.9011 - accuracy: 0.5650\n",
            "Epoch 23/50\n",
            "150/150 [==============================] - 2s 14ms/step - loss: 0.8941 - accuracy: 0.5648\n",
            "Epoch 24/50\n",
            "150/150 [==============================] - 2s 15ms/step - loss: 0.8919 - accuracy: 0.5741\n",
            "Epoch 25/50\n",
            "150/150 [==============================] - 2s 14ms/step - loss: 0.8915 - accuracy: 0.5717\n",
            "Epoch 26/50\n",
            "150/150 [==============================] - 2s 13ms/step - loss: 0.8872 - accuracy: 0.5669\n",
            "Epoch 27/50\n",
            "150/150 [==============================] - 2s 14ms/step - loss: 0.8861 - accuracy: 0.5673\n",
            "Epoch 28/50\n",
            "150/150 [==============================] - 2s 13ms/step - loss: 0.8814 - accuracy: 0.5736\n",
            "Epoch 29/50\n",
            "150/150 [==============================] - 2s 14ms/step - loss: 0.8843 - accuracy: 0.5704\n",
            "Epoch 30/50\n",
            "150/150 [==============================] - 2s 14ms/step - loss: 0.8760 - accuracy: 0.5735\n",
            "Epoch 31/50\n",
            "150/150 [==============================] - 2s 15ms/step - loss: 0.8777 - accuracy: 0.5763\n",
            "Epoch 32/50\n",
            "150/150 [==============================] - 2s 14ms/step - loss: 0.8664 - accuracy: 0.5797\n",
            "Epoch 33/50\n",
            "150/150 [==============================] - 2s 14ms/step - loss: 0.8726 - accuracy: 0.5782\n",
            "Epoch 34/50\n",
            "150/150 [==============================] - 2s 14ms/step - loss: 0.8701 - accuracy: 0.5744\n",
            "Epoch 35/50\n",
            "150/150 [==============================] - 2s 15ms/step - loss: 0.8713 - accuracy: 0.5792\n",
            "Epoch 36/50\n",
            "150/150 [==============================] - 2s 15ms/step - loss: 0.8697 - accuracy: 0.5879\n",
            "Epoch 37/50\n",
            "150/150 [==============================] - 2s 15ms/step - loss: 0.8627 - accuracy: 0.5803\n",
            "Epoch 38/50\n",
            "150/150 [==============================] - 2s 14ms/step - loss: 0.8601 - accuracy: 0.5863\n",
            "Epoch 39/50\n",
            "150/150 [==============================] - 2s 14ms/step - loss: 0.8619 - accuracy: 0.5767\n",
            "Epoch 40/50\n",
            "150/150 [==============================] - 2s 13ms/step - loss: 0.8660 - accuracy: 0.5801\n",
            "Epoch 41/50\n",
            "150/150 [==============================] - 2s 15ms/step - loss: 0.8591 - accuracy: 0.5792\n",
            "Epoch 42/50\n",
            "150/150 [==============================] - 2s 16ms/step - loss: 0.8602 - accuracy: 0.5795\n",
            "Epoch 43/50\n",
            "150/150 [==============================] - 2s 14ms/step - loss: 0.8569 - accuracy: 0.5868\n",
            "Epoch 44/50\n",
            "150/150 [==============================] - 2s 14ms/step - loss: 0.8549 - accuracy: 0.5819\n",
            "Epoch 45/50\n",
            "150/150 [==============================] - 2s 14ms/step - loss: 0.8514 - accuracy: 0.5901\n",
            "Epoch 46/50\n",
            "150/150 [==============================] - 2s 14ms/step - loss: 0.8562 - accuracy: 0.5871\n",
            "Epoch 47/50\n",
            "150/150 [==============================] - 2s 13ms/step - loss: 0.8559 - accuracy: 0.5823\n",
            "Epoch 48/50\n",
            "150/150 [==============================] - 2s 14ms/step - loss: 0.8484 - accuracy: 0.5857\n",
            "Epoch 49/50\n",
            "150/150 [==============================] - 2s 14ms/step - loss: 0.8472 - accuracy: 0.5919\n",
            "Epoch 50/50\n",
            "150/150 [==============================] - 2s 14ms/step - loss: 0.8476 - accuracy: 0.5879\n"
          ]
        }
      ]
    },
    {
      "cell_type": "code",
      "source": [
        "plt.plot(history.history['loss'], label='Training Loss')\n",
        "plt.plot(history.history['accuracy'], label='Training Accuracy')\n",
        "plt.xlabel('Epoch')\n",
        "plt.ylabel('Loss')\n",
        "plt.legend()\n",
        "plt.show()"
      ],
      "metadata": {
        "colab": {
          "base_uri": "https://localhost:8080/",
          "height": 453
        },
        "id": "TCrwQZKD8L_i",
        "outputId": "4da72556-2826-487b-b35b-1b9f994acad3"
      },
      "execution_count": null,
      "outputs": [
        {
          "output_type": "display_data",
          "data": {
            "text/plain": [
              "<Figure size 640x480 with 1 Axes>"
            ],
            "image/png": "[encoded data removed]"
          },
          "metadata": {}
        }
      ]
    },
    {
      "cell_type": "code",
      "source": [
        "# Evaluate the model\n",
        "loss, accuracy = model.evaluate(X_test_padded, y_test)\n",
        "\n",
        "print(f'Test loss: {loss:.3f}, Test accuracy: {accuracy:.3f}')"
      ],
      "metadata": {
        "colab": {
          "base_uri": "https://localhost:8080/"
        },
        "id": "blChFtPkFFzw",
        "outputId": "81df3cec-97a7-4460-9706-960ca3b8610b"
      },
      "execution_count": null,
      "outputs": [
        {
          "output_type": "stream",
          "name": "stdout",
          "text": [
            "75/75 [==============================] - 1s 5ms/step - loss: 1.1247 - accuracy: 0.4954\n",
            "Test loss: 1.125, Test accuracy: 0.495\n"
          ]
        }
      ]
    },
    {
      "cell_type": "markdown",
      "source": [
        "***Discussion on the low test accuracy***\n",
        "\n",
        "1. The current architecture may not be optimal for the specific protein function prediction task.\n",
        "\n",
        "2. Class imbalance\n",
        "\n",
        "3. Limited training data\n",
        "\n",
        "4. Hyperparameter tuning"
      ],
      "metadata": {
        "id": "nA6807VwGUHn"
      }
    },
    {
      "cell_type": "markdown",
      "source": [
        "***Comparison with CNN***\n",
        "\n",
        "1. In a GCN, convolutional operations are applied to the nodes and their neighboring nodes in the graph, aggregating information from neighboring nodes to update node representations\n",
        "\n",
        "2. In a GCN, features are represented as node embeddings or representations, which capture the information from the node itself and its neighborhood in the graph."
      ],
      "metadata": {
        "id": "x9xrI9QXHcN6"
      }
    },
    {
      "cell_type": "markdown",
      "source": [
        "### 5. Random Forest\n",
        "\n",
        "Random Forest could handle non-linear relationship"
      ],
      "metadata": {
        "id": "_Zwmv4iKIlt9"
      }
    },
    {
      "cell_type": "code",
      "source": [
        "X_train_padded.shape"
      ],
      "metadata": {
        "colab": {
          "base_uri": "https://localhost:8080/"
        },
        "id": "-D7xuWdzJ0me",
        "outputId": "87827193-88f0-4e08-d957-5573edf8f34b"
      },
      "execution_count": null,
      "outputs": [
        {
          "output_type": "execute_result",
          "data": {
            "text/plain": [
              "(9600, 3770)"
            ]
          },
          "metadata": {},
          "execution_count": 53
        }
      ]
    },
    {
      "cell_type": "code",
      "source": [
        "rf = RandomForestClassifier(n_estimators=100, random_state=66)\n",
        "\n",
        "# Train the classifier\n",
        "rf.fit(X_train_padded, y_train)"
      ],
      "metadata": {
        "colab": {
          "base_uri": "https://localhost:8080/",
          "height": 74
        },
        "id": "I6pUITwtItmx",
        "outputId": "571209a4-87d1-4eb4-eed1-6e1c50256e7c"
      },
      "execution_count": null,
      "outputs": [
        {
          "output_type": "execute_result",
          "data": {
            "text/plain": [
              "RandomForestClassifier(random_state=66)"
            ],
            "text/html": [
              "<style>#sk-container-id-1 {color: black;background-color: white;}#sk-container-id-1 pre{padding: 0;}#sk-container-id-1 div.sk-toggleable {background-color: white;}#sk-container-id-1 label.sk-toggleable__label {cursor: pointer;display: block;width: 100%;margin-bottom: 0;padding: 0.3em;box-sizing: border-box;text-align: center;}#sk-container-id-1 label.sk-toggleable__label-arrow:before {content: \"▸\";float: left;margin-right: 0.25em;color: #696969;}#sk-container-id-1 label.sk-toggleable__label-arrow:hover:before {color: black;}#sk-container-id-1 div.sk-estimator:hover label.sk-toggleable__label-arrow:before {color: black;}#sk-container-id-1 div.sk-toggleable__content {max-height: 0;max-width: 0;overflow: hidden;text-align: left;background-color: #f0f8ff;}#sk-container-id-1 div.sk-toggleable__content pre {margin: 0.2em;color: black;border-radius: 0.25em;background-color: #f0f8ff;}#sk-container-id-1 input.sk-toggleable__control:checked~div.sk-toggleable__content {max-height: 200px;max-width: 100%;overflow: auto;}#sk-container-id-1 input.sk-toggleable__control:checked~label.sk-toggleable__label-arrow:before {content: \"▾\";}#sk-container-id-1 div.sk-estimator input.sk-toggleable__control:checked~label.sk-toggleable__label {background-color: #d4ebff;}#sk-container-id-1 div.sk-label input.sk-toggleable__control:checked~label.sk-toggleable__label {background-color: #d4ebff;}#sk-container-id-1 input.sk-hidden--visually {border: 0;clip: rect(1px 1px 1px 1px);clip: rect(1px, 1px, 1px, 1px);height: 1px;margin: -1px;overflow: hidden;padding: 0;position: absolute;width: 1px;}#sk-container-id-1 div.sk-estimator {font-family: monospace;background-color: #f0f8ff;border: 1px dotted black;border-radius: 0.25em;box-sizing: border-box;margin-bottom: 0.5em;}#sk-container-id-1 div.sk-estimator:hover {background-color: #d4ebff;}#sk-container-id-1 div.sk-parallel-item::after {content: \"\";width: 100%;border-bottom: 1px solid gray;flex-grow: 1;}#sk-container-id-1 div.sk-label:hover label.sk-toggleable__label {background-color: #d4ebff;}#sk-container-id-1 div.sk-serial::before {content: \"\";position: absolute;border-left: 1px solid gray;box-sizing: border-box;top: 0;bottom: 0;left: 50%;z-index: 0;}#sk-container-id-1 div.sk-serial {display: flex;flex-direction: column;align-items: center;background-color: white;padding-right: 0.2em;padding-left: 0.2em;position: relative;}#sk-container-id-1 div.sk-item {position: relative;z-index: 1;}#sk-container-id-1 div.sk-parallel {display: flex;align-items: stretch;justify-content: center;background-color: white;position: relative;}#sk-container-id-1 div.sk-item::before, #sk-container-id-1 div.sk-parallel-item::before {content: \"\";position: absolute;border-left: 1px solid gray;box-sizing: border-box;top: 0;bottom: 0;left: 50%;z-index: -1;}#sk-container-id-1 div.sk-parallel-item {display: flex;flex-direction: column;z-index: 1;position: relative;background-color: white;}#sk-container-id-1 div.sk-parallel-item:first-child::after {align-self: flex-end;width: 50%;}#sk-container-id-1 div.sk-parallel-item:last-child::after {align-self: flex-start;width: 50%;}#sk-container-id-1 div.sk-parallel-item:only-child::after {width: 0;}#sk-container-id-1 div.sk-dashed-wrapped {border: 1px dashed gray;margin: 0 0.4em 0.5em 0.4em;box-sizing: border-box;padding-bottom: 0.4em;background-color: white;}#sk-container-id-1 div.sk-label label {font-family: monospace;font-weight: bold;display: inline-block;line-height: 1.2em;}#sk-container-id-1 div.sk-label-container {text-align: center;}#sk-container-id-1 div.sk-container {/* jupyter's `normalize.less` sets `[hidden] { display: none; }` but bootstrap.min.css set `[hidden] { display: none !important; }` so we also need the `!important` here to be able to override the default hidden behavior on the sphinx rendered scikit-learn.org. See: https://github.com/scikit-learn/scikit-learn/issues/21755 */display: inline-block !important;position: relative;}#sk-container-id-1 div.sk-text-repr-fallback {display: none;}</style><div id=\"sk-container-id-1\" class=\"sk-top-container\"><div class=\"sk-text-repr-fallback\"><pre>RandomForestClassifier(random_state=66)</pre><b>In a Jupyter environment, please rerun this cell to show the HTML representation or trust the notebook. <br />On GitHub, the HTML representation is unable to render, please try loading this page with nbviewer.org.</b></div><div class=\"sk-container\" hidden><div class=\"sk-item\"><div class=\"sk-estimator sk-toggleable\"><input class=\"sk-toggleable__control sk-hidden--visually\" id=\"sk-estimator-id-1\" type=\"checkbox\" checked><label for=\"sk-estimator-id-1\" class=\"sk-toggleable__label sk-toggleable__label-arrow\">RandomForestClassifier</label><div class=\"sk-toggleable__content\"><pre>RandomForestClassifier(random_state=66)</pre></div></div></div></div></div>"
            ]
          },
          "metadata": {},
          "execution_count": 54
        }
      ]
    },
    {
      "cell_type": "code",
      "source": [
        "# Make predictions on the test set\n",
        "y_pred_test = rf.predict(X_test_padded)\n",
        "\n",
        "# Evaluate the accuracy of the model on the test set\n",
        "accuracy_test = accuracy_score(y_test, y_pred_test)\n",
        "print(\"Test accuracy:\", accuracy_test)"
      ],
      "metadata": {
        "colab": {
          "base_uri": "https://localhost:8080/"
        },
        "id": "I6bLtXN3I40h",
        "outputId": "16eee92e-ac24-420b-e93e-672b51123618"
      },
      "execution_count": null,
      "outputs": [
        {
          "output_type": "stream",
          "name": "stdout",
          "text": [
            "Test accuracy: 0.3829166666666667\n"
          ]
        }
      ]
    }
  ]
}