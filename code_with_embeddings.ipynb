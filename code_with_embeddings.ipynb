{
 "cells": [
  {
   "cell_type": "code",
   "execution_count": null,
   "id": "5ae3b376-8a2f-4270-87f4-ac2efcfaa46d",
   "metadata": {},
   "outputs": [],
   "source": [
    "!pip install fair-esm\n",
    "!pip install nvidia-ml-py3\n"
   ]
  },
  {
   "cell_type": "code",
   "execution_count": null,
   "id": "a2ea0ade-1c50-4c05-8d7f-50d44d353194",
   "metadata": {},
   "outputs": [],
   "source": [
    "!pip install \"fair-esm[esmfold]\"\n",
    "# OpenFold and its remaining dependency\n",
    "!pip install 'dllogger @ git+https://github.com/NVIDIA/dllogger.git'\n",
    "!pip install 'openfold @ git+https://github.com/aqlaboratory/openfold.git@4b41059694619831a7db195b7e0988fc4ff3a307'"
   ]
  },
  {
   "cell_type": "code",
   "execution_count": null,
   "id": "48e44f04-5d02-4e8c-ac91-e168557665ed",
   "metadata": {},
   "outputs": [],
   "source": [
    "!pip install MDAnalysis"
   ]
  },
  {
   "cell_type": "code",
   "execution_count": null,
   "id": "0f4782d4-8fc7-4206-a7df-32b2f91f777a",
   "metadata": {},
   "outputs": [],
   "source": [
    "!pip install torch-geometric"
   ]
  },
  {
   "cell_type": "code",
   "execution_count": 1,
   "id": "45897a79-a734-49a1-8903-a9e183cba728",
   "metadata": {},
   "outputs": [],
   "source": [
    "import pandas as pd\n",
    "import numpy as np\n",
    "import torch\n",
    "import esm\n",
    "from tqdm import tqdm\n",
    "import gc\n",
    "import time\n",
    "import nvidia_smi\n",
    "import matplotlib.pyplot as plt\n",
    "\n",
    "from sklearn.model_selection import train_test_split\n",
    "from sklearn.feature_extraction.text import CountVectorizer\n",
    "from sklearn.preprocessing import MultiLabelBinarizer\n",
    "from sklearn.multiclass import OneVsRestClassifier\n",
    "from sklearn.metrics import accuracy_score, f1_score, precision_score, recall_score\n",
    "from sklearn.linear_model import LogisticRegression\n",
    "from sklearn.naive_bayes import MultinomialNB\n",
    "from sklearn.svm import LinearSVC\n",
    "from sklearn.tree import DecisionTreeClassifier\n",
    "\n",
    "\n",
    "from torch.utils.data import Dataset, DataLoader\n",
    "import torch.nn as nn\n",
    "import torch.optim as optim\n",
    "import torch.nn.functional as F\n",
    "\n",
    "from Bio.PDB import PDBParser, NeighborSearch\n",
    "from concurrent.futures import ThreadPoolExecutor\n",
    "import warnings\n",
    "from Bio import BiopythonWarning\n",
    "\n",
    "import MDAnalysis as mda\n",
    "from MDAnalysis.analysis import distances\n",
    "\n",
    "import _pickle as cPickle"
   ]
  },
  {
   "cell_type": "code",
   "execution_count": 2,
   "id": "11fe2d14-88d0-489c-8e21-fae217259296",
   "metadata": {},
   "outputs": [],
   "source": [
    "df = pd.read_csv(\"cafa3.csv\", index_col = 0)\n",
    "df = df[df[\"go_class\"] == \"C\"]"
   ]
  },
  {
   "cell_type": "code",
   "execution_count": 3,
   "id": "dabca9ee-5f71-44e2-aa24-5b5f0ca06219",
   "metadata": {},
   "outputs": [],
   "source": [
    "df[\"seq\"] = df[\"seq\"].apply(lambda x: x.replace(\"X\", \"A\"))"
   ]
  },
  {
   "cell_type": "code",
   "execution_count": 4,
   "id": "6720b02b-52c2-4b10-8636-c9b55c9018c1",
   "metadata": {},
   "outputs": [],
   "source": [
    "df = df[df[\"seq\"].str.len() < 301]"
   ]
  },
  {
   "cell_type": "code",
   "execution_count": 5,
   "id": "757c60c8-7f38-4bd5-b74d-a5001b9a44a7",
   "metadata": {},
   "outputs": [],
   "source": [
    "#df.head()"
   ]
  },
  {
   "cell_type": "code",
   "execution_count": 6,
   "id": "446c4d61-e83c-48c4-8944-27bdbb747847",
   "metadata": {},
   "outputs": [],
   "source": [
    "proteins = df.drop_duplicates(\"id\", ignore_index = True)[[\"id\", \"seq\"]]"
   ]
  },
  {
   "cell_type": "code",
   "execution_count": 7,
   "id": "159821b0-d97b-4d1c-855c-02bd9244a809",
   "metadata": {},
   "outputs": [],
   "source": [
    "proteins_array = proteins.to_numpy()"
   ]
  },
  {
   "cell_type": "code",
   "execution_count": 8,
   "id": "460bd283-7d65-4e93-9a75-4a888866d27a",
   "metadata": {},
   "outputs": [
    {
     "data": {
      "text/plain": [
       "15292"
      ]
     },
     "execution_count": 8,
     "metadata": {},
     "output_type": "execute_result"
    }
   ],
   "source": [
    "len(proteins_array)"
   ]
  },
  {
   "cell_type": "code",
   "execution_count": 89,
   "id": "3de07ef6-1fb2-4588-8db3-00906ecc490d",
   "metadata": {},
   "outputs": [],
   "source": [
    "proteins_array_test = proteins_array[20:40]"
   ]
  },
  {
   "cell_type": "code",
   "execution_count": 8,
   "id": "12199856-bd23-4e07-ba9e-d7885d7cf3dc",
   "metadata": {},
   "outputs": [],
   "source": [
    "# Load ESM-1b model\n",
    "model, alphabet = esm.pretrained.esm2_t6_8M_UR50D()"
   ]
  },
  {
   "cell_type": "code",
   "execution_count": 9,
   "id": "ca6d7595-06d1-4099-90dd-f93dcd0b711e",
   "metadata": {},
   "outputs": [],
   "source": [
    "unique_protein_ids = df['id'].unique();\n",
    "batch_converter = alphabet.get_batch_converter();\n",
    "# Use GPU if available\n",
    "\n",
    "device = torch.device(\"cuda\" if torch.cuda.is_available() else \"cpu\");\n",
    "\n",
    "model.to(device);\n",
    "\n",
    "model.eval();"
   ]
  },
  {
   "cell_type": "code",
   "execution_count": null,
   "id": "50760fda-ef15-407f-a08e-8724617cd817",
   "metadata": {},
   "outputs": [],
   "source": [
    "#sequence_representations_copy = sequence_representations"
   ]
  },
  {
   "cell_type": "code",
   "execution_count": null,
   "id": "2b5f8ddc-d3d8-4bd7-84d4-728125f5fb6a",
   "metadata": {},
   "outputs": [],
   "source": []
  },
  {
   "cell_type": "code",
   "execution_count": 10,
   "id": "6d98a36e-2be5-4f0c-bfbc-fc5d29d1f24d",
   "metadata": {},
   "outputs": [
    {
     "name": "stderr",
     "output_type": "stream",
     "text": [
      "  0%|          | 19/15292 [00:00<07:01, 36.26it/s] "
     ]
    },
    {
     "name": "stdout",
     "output_type": "stream",
     "text": [
      "Device 0: b'Tesla V100-SXM2-16GB', Memory : (92.46% free): 17179869184(total), 15884812288 (free), 1295056896 (used)\n"
     ]
    },
    {
     "name": "stderr",
     "output_type": "stream",
     "text": [
      " 33%|███▎      | 5018/15292 [00:55<01:52, 91.43it/s] "
     ]
    },
    {
     "name": "stdout",
     "output_type": "stream",
     "text": [
      "Device 0: b'Tesla V100-SXM2-16GB', Memory : (92.46% free): 17179869184(total), 15884812288 (free), 1295056896 (used)\n"
     ]
    },
    {
     "name": "stderr",
     "output_type": "stream",
     "text": [
      " 66%|██████▌   | 10017/15292 [01:51<00:53, 98.65it/s] "
     ]
    },
    {
     "name": "stdout",
     "output_type": "stream",
     "text": [
      "Device 0: b'Tesla V100-SXM2-16GB', Memory : (92.46% free): 17179869184(total), 15884812288 (free), 1295056896 (used)\n"
     ]
    },
    {
     "name": "stderr",
     "output_type": "stream",
     "text": [
      " 98%|█████████▊| 15017/15292 [02:46<00:03, 89.40it/s] "
     ]
    },
    {
     "name": "stdout",
     "output_type": "stream",
     "text": [
      "Device 0: b'Tesla V100-SXM2-16GB', Memory : (92.46% free): 17179869184(total), 15884812288 (free), 1295056896 (used)\n"
     ]
    },
    {
     "name": "stderr",
     "output_type": "stream",
     "text": [
      "100%|██████████| 15292/15292 [02:49<00:00, 90.08it/s]\n"
     ]
    }
   ],
   "source": [
    "err_counter = 0\n",
    "residue_representations = {}\n",
    "sequence_representations = {}\n",
    "#len(proteins_array)\n",
    "\n",
    "for i in tqdm(range(0,len(proteins_array), 1)):\n",
    "    batch = proteins_array[i:i+1]\n",
    "\n",
    "    batch_labels, batch_strs, batch_tokens = batch_converter(batch)\n",
    "    batch_lens = (batch_tokens != alphabet.padding_idx).sum(1)\n",
    "    batch_tokens = batch_tokens.to(device)\n",
    "\n",
    "    try:\n",
    "        with torch.no_grad():\n",
    "            results = model(batch_tokens, repr_layers=[6])\n",
    "\n",
    "    except:\n",
    "        print(\"Could not load\", batch_labels, \"into memory\")\n",
    "        err_counter += 1\n",
    "        torch.cuda.empty_cache()\n",
    "        del batch_tokens\n",
    "        continue\n",
    "        \n",
    "    results = {\n",
    "    key: {nested_key: value.detach().to('cpu') for nested_key, value in nested_dict.items()}\n",
    "    if isinstance(nested_dict, dict)\n",
    "    else nested_dict.detach().to('cpu')\n",
    "    for key, nested_dict in results.items()\n",
    "    }\n",
    "    \n",
    "    token_representations = results[\"representations\"][6].detach().cpu()\n",
    "\n",
    "    for j, tokens_len in enumerate(batch_lens):\n",
    "        residue_representations[batch_labels[j]] = token_representations[j, 1:tokens_len - 1].numpy()\n",
    "        sequence_representations[batch_labels[j]] = token_representations[j, 1:tokens_len - 1].mean(0).numpy()\n",
    "\n",
    "    batch_tokens = batch_tokens.detach().to('cpu')\n",
    "\n",
    "    del batch_labels, batch_strs, batch_tokens, batch_lens, results, token_representations\n",
    "\n",
    "    # Clear GPU cache and sleep\n",
    "    \n",
    "    torch.cuda.empty_cache()\n",
    "\n",
    "    nvidia_smi.nvmlInit()\n",
    "    \n",
    "    if (i % 5000) == 0:\n",
    "\n",
    "        deviceCount = nvidia_smi.nvmlDeviceGetCount()\n",
    "        for i in range(deviceCount):\n",
    "            handle = nvidia_smi.nvmlDeviceGetHandleByIndex(i)\n",
    "            info = nvidia_smi.nvmlDeviceGetMemoryInfo(handle)\n",
    "            print(\"Device {}: {}, Memory : ({:.2f}% free): {}(total), {} (free), {} (used)\".format(i, nvidia_smi.nvmlDeviceGetName(handle), 100*info.free/info.total, info.total, info.free, info.used))\n",
    "\n",
    "        nvidia_smi.nvmlShutdown()\n",
    "    #time.sleep(1)"
   ]
  },
  {
   "cell_type": "code",
   "execution_count": 93,
   "id": "c1908992-0697-4b82-bb2d-2bbb9d3901cd",
   "metadata": {},
   "outputs": [],
   "source": [
    "\n",
    "# with open('residue_representations.pkl', 'wb') as f:\n",
    "#     cPickle.dump(residue_representations, f, protocol=-1)"
   ]
  },
  {
   "cell_type": "code",
   "execution_count": 341,
   "id": "0448d5f0-0c50-48a9-b79d-03a8037de168",
   "metadata": {},
   "outputs": [
    {
     "data": {
      "text/plain": [
       "['              total        used        free      shared  buff/cache   available',\n",
       " 'Mem:          52328       18576       17284          33       16467       33105',\n",
       " 'Swap:             0           0           0']"
      ]
     },
     "execution_count": 341,
     "metadata": {},
     "output_type": "execute_result"
    }
   ],
   "source": [
    "%system free -m"
   ]
  },
  {
   "cell_type": "code",
   "execution_count": null,
   "id": "77056995-f5ed-4ca8-9db9-6dc420a52d5e",
   "metadata": {},
   "outputs": [],
   "source": [
    "!nvidia-smi"
   ]
  },
  {
   "cell_type": "code",
   "execution_count": 36,
   "id": "fa42c5ca-f3e7-4db5-bfe4-a753fc2286c3",
   "metadata": {},
   "outputs": [],
   "source": [
    "torch.cuda.empty_cache()"
   ]
  },
  {
   "cell_type": "markdown",
   "id": "f99e7ae4-2fbd-4a3b-b7a6-dcedf69957a4",
   "metadata": {},
   "source": [
    "# ML"
   ]
  },
  {
   "cell_type": "code",
   "execution_count": null,
   "id": "7e1ae595-599e-447b-8e3a-12fb4600beb0",
   "metadata": {},
   "outputs": [],
   "source": [
    "\n",
    "\n",
    "\n",
    "# Define the models\n",
    "models = [\n",
    "    #('Logistic Regression', LogisticRegression(max_iter=1000)),\n",
    "    ('Multinomial Naive Bayes', MultinomialNB()),\n",
    "    #('Linear SVC', LinearSVC()),\n",
    "    ('Decision Tree', DecisionTreeClassifier())\n",
    "]\n",
    "\n",
    "# Train and test the models\n",
    "for name, model in models:\n",
    "    classifier = OneVsRestClassifier(model)\n",
    "    classifier.fit(X_train, y_train)\n",
    "    y_pred = classifier.predict(X_test)\n",
    "    \n",
    "    print(f\"{name}:\")\n",
    "    print(f\"Accuracy: {accuracy_score(y_test, y_pred):.4f}\")\n",
    "    print(f\"F1 Score: {f1_score(y_test, y_pred, average='micro'):.4f}\")\n",
    "    print(f\"Precision: {precision_score(y_test, y_pred, average='micro'):.4f}\")\n",
    "    print(f\"Recall: {recall_score(y_test, y_pred, average='micro'):.4f}\")\n",
    "    print()"
   ]
  },
  {
   "cell_type": "markdown",
   "id": "e81ad9a5-dab7-4f0a-8e3b-0a9bee0ba617",
   "metadata": {},
   "source": [
    "# Prediction with Embeddings"
   ]
  },
  {
   "cell_type": "code",
   "execution_count": 16,
   "id": "a6459f6d-a84f-4ed8-89a5-a90d33c2f8bb",
   "metadata": {},
   "outputs": [],
   "source": [
    "df_grouped = df.groupby(['id', 'seq'], as_index=False)['go_label'].agg(lambda x: list(x))"
   ]
  },
  {
   "cell_type": "code",
   "execution_count": null,
   "id": "bde9bc78-11b6-4904-978c-8cf499789cbc",
   "metadata": {},
   "outputs": [],
   "source": [
    "small_embeddings = pd.DataFrame(sequence_representations)\n",
    "small_embeddings = small_embeddings.T.reset_index().rename(columns = {'index' : 'id'})\n",
    "small_embeddings[\"embedding\"] = small_embeddings.iloc[:, 1:].values.tolist()\n",
    "small_embeddings = small_embeddings[[\"id\", \"embedding\"]]\n",
    "df_grouped_small_embeddings = df_grouped.merge(small_embeddings, on = \"id\")"
   ]
  },
  {
   "cell_type": "code",
   "execution_count": 256,
   "id": "1f11ab13-9326-4ca0-9548-92bc7803e61f",
   "metadata": {},
   "outputs": [],
   "source": [
    "# Data for residue level embeddings\n",
    "mlb = MultiLabelBinarizer()\n",
    "X_small = np.array(list(df_grouped_small_embeddings[\"embedding\"]))\n",
    "y_small = mlb.fit_transform(df_grouped_small_embeddings[\"go_label\"])\n",
    "X_small_train, X_small_test, y_small_train, y_small_test = train_test_split(X_small, y_small, test_size=0.1, random_state=42)"
   ]
  },
  {
   "cell_type": "code",
   "execution_count": 257,
   "id": "cc09cd5d-7dbb-4a21-9cd1-f320adc7a8ed",
   "metadata": {},
   "outputs": [],
   "source": [
    "# Data for residue level embeddings"
   ]
  },
  {
   "cell_type": "code",
   "execution_count": 260,
   "id": "0594529a-15e8-41c9-af59-c82bcbef6a7e",
   "metadata": {},
   "outputs": [],
   "source": [
    "#np.save('X_small_train_residues.npy', np.array(X_small_train_residues))"
   ]
  },
  {
   "cell_type": "code",
   "execution_count": null,
   "id": "0e9ab8cd-e7b5-4013-b710-787f843dee7a",
   "metadata": {},
   "outputs": [],
   "source": []
  },
  {
   "cell_type": "code",
   "execution_count": 261,
   "id": "63c76975-9ac0-43fc-ad2f-1c28a9cfebdf",
   "metadata": {},
   "outputs": [],
   "source": [
    "class ESM2Dataset(Dataset):\n",
    "    def __init__(self, esm2_embeddings, go_labels):\n",
    "        self.esm2_embeddings = esm2_embeddings\n",
    "        self.go_labels = go_labels\n",
    "\n",
    "    def __len__(self):\n",
    "        return len(self.esm2_embeddings)\n",
    "\n",
    "    def __getitem__(self, idx):\n",
    "        return torch.tensor(self.esm2_embeddings[idx], dtype=torch.float32), torch.tensor(self.go_labels[idx], dtype=torch.float32)\n",
    "\n",
    "# Create Dataset instances\n",
    "train_dataset = ESM2Dataset(X_small_train, y_small_train)\n",
    "val_dataset = ESM2Dataset(X_small_test, y_small_test)\n",
    "\n",
    "# Create DataLoader instances\n",
    "batch_size = 64\n",
    "train_loader = DataLoader(train_dataset, batch_size=batch_size, shuffle=True)\n",
    "val_loader = DataLoader(val_dataset, batch_size=batch_size, shuffle=False)"
   ]
  },
  {
   "cell_type": "code",
   "execution_count": 262,
   "id": "b090173a-1457-4018-a67e-1d803e731c52",
   "metadata": {},
   "outputs": [],
   "source": [
    "df_valid = df[df[\"id\"].isin(df_grouped_small_embeddings.id.unique())]"
   ]
  },
  {
   "cell_type": "code",
   "execution_count": 263,
   "id": "87c2d3a6-0a76-4090-876f-10c905ffffd0",
   "metadata": {},
   "outputs": [
    {
     "data": {
      "text/html": [
       "<div>\n",
       "<style scoped>\n",
       "    .dataframe tbody tr th:only-of-type {\n",
       "        vertical-align: middle;\n",
       "    }\n",
       "\n",
       "    .dataframe tbody tr th {\n",
       "        vertical-align: top;\n",
       "    }\n",
       "\n",
       "    .dataframe thead th {\n",
       "        text-align: right;\n",
       "    }\n",
       "</style>\n",
       "<table border=\"1\" class=\"dataframe\">\n",
       "  <thead>\n",
       "    <tr style=\"text-align: right;\">\n",
       "      <th></th>\n",
       "      <th>id</th>\n",
       "      <th>go_label</th>\n",
       "      <th>go_class</th>\n",
       "      <th>seq</th>\n",
       "    </tr>\n",
       "  </thead>\n",
       "  <tbody>\n",
       "    <tr>\n",
       "      <th>0</th>\n",
       "      <td>P0DJZ0</td>\n",
       "      <td>GO:0030430</td>\n",
       "      <td>C</td>\n",
       "      <td>MQNNTTGMDTKSLKNCGQPKAVCTHCKHSPPCPQPGCVTKRPPVPP...</td>\n",
       "    </tr>\n",
       "    <tr>\n",
       "      <th>2</th>\n",
       "      <td>P83011</td>\n",
       "      <td>GO:0043231</td>\n",
       "      <td>C</td>\n",
       "      <td>MIFTAADRSAIEAV</td>\n",
       "    </tr>\n",
       "    <tr>\n",
       "      <th>3</th>\n",
       "      <td>P83010</td>\n",
       "      <td>GO:0043231</td>\n",
       "      <td>C</td>\n",
       "      <td>AGEPANNEDRFNY</td>\n",
       "    </tr>\n",
       "    <tr>\n",
       "      <th>5</th>\n",
       "      <td>P48347</td>\n",
       "      <td>GO:0005829</td>\n",
       "      <td>C</td>\n",
       "      <td>MENEREKQVYLAKLSEQTERYDEMVEAMKKVAQLDVELTVEERNLV...</td>\n",
       "    </tr>\n",
       "    <tr>\n",
       "      <th>6</th>\n",
       "      <td>P48347</td>\n",
       "      <td>GO:0005739</td>\n",
       "      <td>C</td>\n",
       "      <td>MENEREKQVYLAKLSEQTERYDEMVEAMKKVAQLDVELTVEERNLV...</td>\n",
       "    </tr>\n",
       "  </tbody>\n",
       "</table>\n",
       "</div>"
      ],
      "text/plain": [
       "       id    go_label go_class  \\\n",
       "0  P0DJZ0  GO:0030430        C   \n",
       "2  P83011  GO:0043231        C   \n",
       "3  P83010  GO:0043231        C   \n",
       "5  P48347  GO:0005829        C   \n",
       "6  P48347  GO:0005739        C   \n",
       "\n",
       "                                                 seq  \n",
       "0  MQNNTTGMDTKSLKNCGQPKAVCTHCKHSPPCPQPGCVTKRPPVPP...  \n",
       "2                                     MIFTAADRSAIEAV  \n",
       "3                                      AGEPANNEDRFNY  \n",
       "5  MENEREKQVYLAKLSEQTERYDEMVEAMKKVAQLDVELTVEERNLV...  \n",
       "6  MENEREKQVYLAKLSEQTERYDEMVEAMKKVAQLDVELTVEERNLV...  "
      ]
     },
     "execution_count": 263,
     "metadata": {},
     "output_type": "execute_result"
    }
   ],
   "source": [
    "df_valid.head()"
   ]
  },
  {
   "cell_type": "code",
   "execution_count": 264,
   "id": "1e3acda1-1eb3-41ca-8d98-013d3dfe2f2c",
   "metadata": {},
   "outputs": [],
   "source": [
    "go_label_value_counts = dict(df_valid.go_label.value_counts())\n",
    "n_samples = df_valid.id.nunique()"
   ]
  },
  {
   "cell_type": "code",
   "execution_count": 265,
   "id": "73f58185-611c-4a87-b594-f3d064f03a64",
   "metadata": {},
   "outputs": [],
   "source": [
    "pos_weights = []\n",
    "for go_term in mlb.classes_:\n",
    "    curr_count = float(go_label_value_counts[go_term])\n",
    "    pos_weights.append((n_samples - curr_count)/curr_count)\n",
    "weighted_pos_weights = torch.tensor(pos_weights)"
   ]
  },
  {
   "cell_type": "code",
   "execution_count": 266,
   "id": "f201aedf-fda6-40ba-9308-90951d4931af",
   "metadata": {},
   "outputs": [
    {
     "data": {
      "text/plain": [
       "tensor([15291.0000,  5096.3335,  2183.5715,  ..., 15291.0000,  5096.3335,\n",
       "        15291.0000])"
      ]
     },
     "execution_count": 266,
     "metadata": {},
     "output_type": "execute_result"
    }
   ],
   "source": [
    "weighted_pos_weights"
   ]
  },
  {
   "cell_type": "code",
   "execution_count": 28,
   "id": "18738b01-bb14-4b22-85db-64bc079dfee2",
   "metadata": {},
   "outputs": [],
   "source": [
    "def accuracy(outputs, labels):\n",
    "    # Assuming sigmoid activation function and threshold of 0.5 for multilabel classification\n",
    "    predicted_labels = (torch.sigmoid(outputs) > 0.5).float()\n",
    "    correct = (predicted_labels == labels).sum().item()\n",
    "    total = labels.numel()\n",
    "    return correct / total\n",
    "\n",
    "def positive_class_accuracy(outputs, labels):\n",
    "    predicted_labels = (torch.sigmoid(outputs) > 0.5).float()\n",
    "    true_positives = (predicted_labels * labels).sum().item()\n",
    "    total_positives = labels.sum().item()\n",
    "\n",
    "    return true_positives / total_positives, total_positives\n"
   ]
  },
  {
   "cell_type": "code",
   "execution_count": 12,
   "id": "0915e44f-260b-4741-b1c7-933246f48ba6",
   "metadata": {},
   "outputs": [],
   "source": [
    "def positive_class_metrics(outputs, labels, threshold=0.5):\n",
    "    with torch.no_grad():\n",
    "        # Apply the sigmoid activation and threshold to get binary predictions\n",
    "        predictions = (torch.sigmoid(outputs) > threshold).float()\n",
    "\n",
    "        # Compute true positives, false positives, and false negatives\n",
    "        true_positives = (predictions * labels).sum().item()\n",
    "        false_positives = ((predictions - labels) > 0).float().sum().item()\n",
    "        false_negatives = ((labels - predictions) > 0).float().sum().item()\n",
    "\n",
    "        # Compute precision, recall, and F1-score for the positive class\n",
    "        precision = true_positives / (true_positives + false_positives) if true_positives + false_positives > 0 else 0\n",
    "        recall = true_positives / (true_positives + false_negatives) if true_positives + false_negatives > 0 else 0\n",
    "        f1_score = 2 * precision * recall / (precision + recall) if precision + recall > 0 else 0\n",
    "\n",
    "    return precision, recall, f1_score"
   ]
  },
  {
   "cell_type": "code",
   "execution_count": 10,
   "id": "f3e9e55d-3279-4cf8-a780-3e2416ef7427",
   "metadata": {},
   "outputs": [],
   "source": [
    "\n",
    "class MLP(nn.Module):\n",
    "    def __init__(self, input_size, hidden_size, hidden_size2, output_size):\n",
    "        super(MLP, self).__init__()\n",
    "        self.fc1 = nn.Linear(input_size, hidden_size)\n",
    "        self.batch_norm1 = nn.BatchNorm1d(hidden_size)\n",
    "        self.relu = nn.ReLU()\n",
    "        self.fc2 = nn.Linear(hidden_size, hidden_size2)\n",
    "        self.batch_norm2 = nn.BatchNorm1d(hidden_size2)\n",
    "        \n",
    "        self.fc3 = nn.Linear(hidden_size2, output_size)\n",
    "        self.batch_norm3 = nn.BatchNorm1d(output_size)\n",
    "        \n",
    "        \n",
    "        self.softmax = nn.Softmax(dim=1)\n",
    "\n",
    "    def forward(self, x):\n",
    "        x = self.fc1(x)\n",
    "        x = self.batch_norm1(x)\n",
    "        x = self.relu(x)\n",
    "        x = self.fc2(x)\n",
    "        x = self.batch_norm2(x)\n",
    "        x = self.fc3(x)\n",
    "        x = self.batch_norm3(x)\n",
    "        #x = self.softmax(x)\n",
    "        return x"
   ]
  },
  {
   "cell_type": "code",
   "execution_count": 31,
   "id": "a9c7bb32-6811-4b7d-bbae-3b96d9bf6e7d",
   "metadata": {},
   "outputs": [],
   "source": [
    "def positive_label_bce_loss(outputs, labels, positive_weight=100.0):\n",
    "    # Apply sigmoid activation to the outputs\n",
    "    #sigmoid_outputs = torch.sigmoid(outputs)\n",
    "\n",
    "    # Compute BCE loss for each element\n",
    "    elementwise_bce_loss = F.binary_cross_entropy_with_logits(outputs, labels, reduction='none')\n",
    "\n",
    "    # Create a mask for positive labels\n",
    "    positive_label_mask = labels > 0\n",
    "\n",
    "    # Create a mask for negative labels\n",
    "    negative_label_mask = labels <= 0\n",
    "\n",
    "    # Compute the loss for positive labels only\n",
    "    positive_label_loss = elementwise_bce_loss * positive_label_mask.float()\n",
    "\n",
    "    # Compute the loss for negative labels only\n",
    "    negative_label_loss = elementwise_bce_loss * negative_label_mask.float()\n",
    "\n",
    "    # Multiply the positive label loss by the positive weight factor\n",
    "    positive_label_loss = positive_label_loss * positive_weight\n",
    "\n",
    "    # Calculate the total weighted loss\n",
    "    total_loss = positive_label_loss + negative_label_loss\n",
    "\n",
    "    # Calculate the average loss\n",
    "    avg_loss = total_loss.sum() / (positive_label_mask.sum().float() + negative_label_mask.sum().float())\n",
    "\n",
    "    return avg_loss"
   ]
  },
  {
   "cell_type": "code",
   "execution_count": 193,
   "id": "8c7569b0-8d9c-495e-8347-82bb7d5f337a",
   "metadata": {},
   "outputs": [
    {
     "data": {
      "text/plain": [
       "torch.Size([64, 1185])"
      ]
     },
     "execution_count": 193,
     "metadata": {},
     "output_type": "execute_result"
    }
   ],
   "source": [
    "next(iter(train_loader))[1].shape"
   ]
  },
  {
   "cell_type": "code",
   "execution_count": 300,
   "id": "b4415be1-e711-42bc-ae2f-253e5a1def3a",
   "metadata": {},
   "outputs": [
    {
     "data": {
      "text/plain": [
       "670"
      ]
     },
     "execution_count": 300,
     "metadata": {},
     "output_type": "execute_result"
    }
   ],
   "source": [
    "int(df.go_label.nunique() / 2)"
   ]
  },
  {
   "cell_type": "code",
   "execution_count": 305,
   "id": "4685719e-e750-4b5c-904f-1cd24dc81106",
   "metadata": {},
   "outputs": [
    {
     "name": "stdout",
     "output_type": "stream",
     "text": [
      "Epoch [1/50], Loss: 0.3843, Accuracy: 0.3696, Val_Loss: 0.1847, Val_Accuracy: 0.3519\n",
      "Epoch [2/50], Loss: 0.1261, Accuracy: 0.3543, Val_Loss: 0.0876, Val_Accuracy: 0.3936\n",
      "Epoch [3/50], Loss: 0.0699, Accuracy: 0.3774, Val_Loss: 0.0566, Val_Accuracy: 0.3904\n",
      "Epoch [4/50], Loss: 0.0488, Accuracy: 0.3900, Val_Loss: 0.0429, Val_Accuracy: 0.4097\n",
      "Epoch [5/50], Loss: 0.0384, Accuracy: 0.4073, Val_Loss: 0.0353, Val_Accuracy: 0.4214\n",
      "Epoch [6/50], Loss: 0.0323, Accuracy: 0.4246, Val_Loss: 0.0309, Val_Accuracy: 0.4203\n",
      "Epoch [7/50], Loss: 0.0284, Accuracy: 0.4376, Val_Loss: 0.0280, Val_Accuracy: 0.4178\n",
      "Epoch [8/50], Loss: 0.0256, Accuracy: 0.4491, Val_Loss: 0.0262, Val_Accuracy: 0.4364\n",
      "Epoch [9/50], Loss: 0.0235, Accuracy: 0.4582, Val_Loss: 0.0249, Val_Accuracy: 0.4419\n",
      "Epoch [10/50], Loss: 0.0217, Accuracy: 0.4726, Val_Loss: 0.0239, Val_Accuracy: 0.4420\n",
      "Epoch [11/50], Loss: 0.0204, Accuracy: 0.4835, Val_Loss: 0.0231, Val_Accuracy: 0.4435\n",
      "Epoch [12/50], Loss: 0.0190, Accuracy: 0.4963, Val_Loss: 0.0224, Val_Accuracy: 0.4671\n",
      "Epoch [13/50], Loss: 0.0180, Accuracy: 0.5109, Val_Loss: 0.0223, Val_Accuracy: 0.4532\n",
      "Epoch [14/50], Loss: 0.0170, Accuracy: 0.5260, Val_Loss: 0.0219, Val_Accuracy: 0.4552\n",
      "Epoch [15/50], Loss: 0.0164, Accuracy: 0.5234, Val_Loss: 0.0219, Val_Accuracy: 0.4662\n",
      "Early stopping counter: 1/5\n",
      "Epoch [16/50], Loss: 0.0152, Accuracy: 0.5497, Val_Loss: 0.0217, Val_Accuracy: 0.4697\n",
      "Epoch [17/50], Loss: 0.0144, Accuracy: 0.5678, Val_Loss: 0.0217, Val_Accuracy: 0.4699\n",
      "Early stopping counter: 1/5\n",
      "Epoch [18/50], Loss: 0.0136, Accuracy: 0.5848, Val_Loss: 0.0218, Val_Accuracy: 0.4643\n",
      "Early stopping counter: 2/5\n",
      "Epoch [19/50], Loss: 0.0130, Accuracy: 0.5980, Val_Loss: 0.0217, Val_Accuracy: 0.4804\n",
      "Early stopping counter: 3/5\n",
      "Epoch [20/50], Loss: 0.0124, Accuracy: 0.6157, Val_Loss: 0.0222, Val_Accuracy: 0.4651\n",
      "Early stopping counter: 4/5\n",
      "Epoch [21/50], Loss: 0.0118, Accuracy: 0.6388, Val_Loss: 0.0221, Val_Accuracy: 0.4516\n",
      "Early stopping counter: 5/5\n",
      "Early stopping\n"
     ]
    }
   ],
   "source": [
    "device = torch.device(\"cuda\" if torch.cuda.is_available() else \"cpu\")\n",
    "\n",
    "train_losses = []\n",
    "val_losses = []\n",
    "train_accuracies = []\n",
    "val_accuracies = []\n",
    "\n",
    "\n",
    "\n",
    "# Hyperparameters\n",
    "input_size = 320\n",
    "hidden_size = df.go_label.nunique()\n",
    "hidden_size2 = int(df.go_label.nunique() / 2)\n",
    "output_size = df.go_label.nunique()\n",
    "learning_rate = 0.01\n",
    "num_epochs = 50\n",
    "\n",
    "# Instantiate the model, loss, and optimizer\n",
    "model = MLP(input_size, hidden_size, hidden_size2, output_size).to(device)\n",
    "criterion = nn.BCEWithLogitsLoss(pos_weight = weighted_pos_weights.clone().detach().to(device)) # Assuming 'weighted_pos_weights' is a list containing the weights for each GO term pos_weight=weighted_pos_weights.clone().detach().to(device)\n",
    "optimizer = optim.Adam(model.parameters(), lr=learning_rate, weight_decay = 1e-5)\n",
    "\n",
    "# Initialize variables for early stopping\n",
    "best_val_loss = float('inf')\n",
    "patience = 5\n",
    "early_stopping_counter = 0\n",
    "best_model = None\n",
    "\n",
    "# Training loop\n",
    "for epoch in range(num_epochs):\n",
    "    train_loss = 0\n",
    "    train_correct = 0\n",
    "    val_loss = 0\n",
    "    val_correct = 0\n",
    "\n",
    "\n",
    "    model.train()\n",
    "    for batch_idx, (data, labels) in enumerate(train_loader): # Assuming 'train_loader' is a DataLoader instance containing the training dataset\n",
    "        data = data.float()\n",
    "        labels = labels.float()\n",
    "\n",
    "        data = data.to(device)\n",
    "        labels = labels.to(device)\n",
    "        # Forward pass\n",
    "        outputs = model(data)\n",
    "        \n",
    "        #loss = criterion(outputs, labels)\n",
    "        loss = positive_label_bce_loss(outputs, labels)\n",
    "\n",
    "        # Backward pass and optimization\n",
    "        optimizer.zero_grad()\n",
    "        loss.backward()\n",
    "        optimizer.step()\n",
    "        \n",
    "        train_loss += loss.item()\n",
    "        #print(accuracy(outputs, labels), data.size(0))\n",
    "        \n",
    "        #train_correct += accuracy(outputs, labels) * data.size(0)\n",
    "        \n",
    "        accuracy, total_positives = positive_class_accuracy(outputs, labels)\n",
    "\n",
    "        # weighted_accuracy = (accuracies * total_positives).sum().item() / total_positives.sum().item()\n",
    "        train_correct += accuracy * data.size(0)\n",
    "\n",
    " \n",
    "    model.eval()\n",
    "    with torch.no_grad():\n",
    "        for batch_idx, (data, labels) in enumerate(val_loader):\n",
    "            data = data.to(device)\n",
    "            labels = labels.to(device)\n",
    "\n",
    "            outputs = model(data)\n",
    "            #loss = criterion(outputs, labels)\n",
    "            loss = positive_label_bce_loss(outputs, labels)\n",
    "            \n",
    "            val_loss += loss.item()\n",
    "        \n",
    "            #val_correct += accuracy(outputs, labels) * data.size(0)\n",
    "            \n",
    "            accuracy, total_positives = positive_class_accuracy(outputs, labels)\n",
    "        \n",
    "            # weighted_accuracy = (accuracies * total_positives).sum().item() / total_positives.sum().item()\n",
    "            val_correct += accuracy * data.size(0)\n",
    "            \n",
    "       \n",
    "    train_losses.append(train_loss / len(train_loader))\n",
    "    val_losses.append(val_loss / len(val_loader))\n",
    "    train_accuracies.append(train_correct / len(train_dataset))\n",
    "    val_accuracies.append(val_correct / len(val_dataset))\n",
    "\n",
    "    \n",
    "    #print(f'Epoch [{epoch+1}/{num_epochs}], Loss: {train_losses[-1]:.4f}, Accuracy: {train_accuracies[-1]:.4f}, Val_Loss: {val_losses[-1]:.4f}, Val_Accuracy: {val_accuracies[-1]:.4f}')\n",
    "\n",
    "    print(f'Epoch [{epoch+1}/{num_epochs}], Loss: {train_losses[-1]:.4f}, Accuracy: {train_accuracies[-1]:.4f}, Val_Loss: {val_losses[-1]:.4f}, Val_Accuracy: {val_accuracies[-1]:.4f}')\n",
    "        \n",
    "        \n",
    "    if val_losses[-1] < best_val_loss:\n",
    "        best_val_loss = val_losses[-1]\n",
    "        early_stopping_counter = 0\n",
    "        best_model = model.state_dict()\n",
    "    else:\n",
    "        early_stopping_counter += 1\n",
    "        print(f\"Early stopping counter: {early_stopping_counter}/{patience}\")\n",
    "        if early_stopping_counter >= patience:\n",
    "            print(\"Early stopping\")\n",
    "            model.load_state_dict(best_model)\n",
    "            break"
   ]
  },
  {
   "cell_type": "code",
   "execution_count": null,
   "id": "c91dfe2d-c08c-4c34-aaf4-589f1974a2dc",
   "metadata": {},
   "outputs": [],
   "source": []
  },
  {
   "cell_type": "code",
   "execution_count": 329,
   "id": "919e74b8-0ae2-45a7-920b-471404e06a1a",
   "metadata": {},
   "outputs": [
    {
     "data": {
      "image/png": "[encoded data removed]",
      "text/plain": [
       "<Figure size 640x480 with 1 Axes>"
      ]
     },
     "metadata": {},
     "output_type": "display_data"
    }
   ],
   "source": [
    "# Plot the loss curves\n",
    "plt.plot(train_losses, label='Training Loss')\n",
    "plt.plot(val_losses, label='Validation Loss')\n",
    "plt.xlabel('Epoch')\n",
    "plt.ylabel('Loss')\n",
    "plt.legend()\n",
    "plt.show()"
   ]
  },
  {
   "cell_type": "code",
   "execution_count": 330,
   "id": "83e961cd-16c8-4dd0-83ac-7ff6cf87f569",
   "metadata": {},
   "outputs": [
    {
     "data": {
      "image/png": "[encoded data removed]",
      "text/plain": [
       "<Figure size 640x480 with 1 Axes>"
      ]
     },
     "metadata": {},
     "output_type": "display_data"
    }
   ],
   "source": [
    "# Plot the accuracy curves\n",
    "plt.plot(train_accuracies, label='Training Accuracy')\n",
    "plt.plot(val_accuracies, label='Validation Accuracy')\n",
    "plt.xlabel('Epoch')\n",
    "plt.ylabel('Accuracy')\n",
    "plt.legend()\n",
    "plt.show()"
   ]
  },
  {
   "cell_type": "code",
   "execution_count": 157,
   "id": "33523c25-79ad-47aa-b4a9-9d4ba798ee80",
   "metadata": {},
   "outputs": [],
   "source": [
    "def predict(model, input_embedding, device, threshold=0.5):\n",
    "    # Put the model in evaluation mode\n",
    "    model.eval()\n",
    "\n",
    "    # Convert the input embedding to a PyTorch tensor and reshape it\n",
    "    input_tensor = torch.tensor(input_embedding, dtype=torch.float32).view(1, -1)\n",
    "\n",
    "    # Move the input tensor to the device the model is on\n",
    "    input_tensor = input_tensor.to(device)\n",
    "\n",
    "    # Pass the input tensor through the model to get the output logits\n",
    "    with torch.no_grad():\n",
    "        output_logits = model(input_tensor)\n",
    "\n",
    "    # Apply the sigmoid activation to the logits to get probabilities\n",
    "    probabilities = torch.sigmoid(output_logits)\n",
    "\n",
    "    # Apply the threshold to the probabilities to get the binary predictions\n",
    "    predictions = (probabilities > threshold).float()\n",
    "\n",
    "    return predictions.cpu().numpy()"
   ]
  },
  {
   "cell_type": "code",
   "execution_count": 174,
   "id": "aae9b4d3-2718-48a2-9dec-7bb658a33436",
   "metadata": {},
   "outputs": [],
   "source": [
    "input_embedding = X_small_test[5]  # Replace with your actual input embedding\n",
    "predictions = predict(model, input_embedding, device)[0]\n"
   ]
  },
  {
   "cell_type": "code",
   "execution_count": 175,
   "id": "51305844-a8f5-4bfd-a4ca-d399559695e8",
   "metadata": {},
   "outputs": [
    {
     "data": {
      "text/plain": [
       "(array([132, 181, 242]),)"
      ]
     },
     "execution_count": 175,
     "metadata": {},
     "output_type": "execute_result"
    }
   ],
   "source": [
    "np.where(predictions == 1)\n"
   ]
  },
  {
   "cell_type": "code",
   "execution_count": 177,
   "id": "60cfb06a-1b10-4df3-a292-fa1a2cea32c4",
   "metadata": {},
   "outputs": [
    {
     "data": {
      "text/plain": [
       "(array([132, 242]),)"
      ]
     },
     "execution_count": 177,
     "metadata": {},
     "output_type": "execute_result"
    }
   ],
   "source": [
    "np.where(y_small_test[5] == 1)\n"
   ]
  },
  {
   "cell_type": "code",
   "execution_count": null,
   "id": "3619134b-7231-4108-9380-837af37492a4",
   "metadata": {},
   "outputs": [],
   "source": []
  },
  {
   "cell_type": "markdown",
   "id": "17b82660-7ac7-45cf-8e3d-a69d9a0f21b1",
   "metadata": {},
   "source": [
    "# CNN"
   ]
  },
  {
   "cell_type": "code",
   "execution_count": 268,
   "id": "be793b3b-283a-40f0-93f3-d3b06a4b8717",
   "metadata": {},
   "outputs": [],
   "source": [
    "class CNN(nn.Module):\n",
    "    def __init__(self, num_go_terms):\n",
    "        super(CNN, self).__init__()\n",
    "        self.conv1 = nn.Conv1d(1, 128, kernel_size=3, padding=1)\n",
    "        self.bn1 = nn.BatchNorm1d(128)\n",
    "        self.pool1 = nn.MaxPool1d(2)\n",
    "        self.conv2 = nn.Conv1d(128, 64, kernel_size=3, padding=1)\n",
    "        self.bn2 = nn.BatchNorm1d(64)\n",
    "        self.pool2 = nn.MaxPool1d(2)\n",
    "        self.dropout = nn.Dropout(0.5)\n",
    "\n",
    "        # Calculate input size for the first fully connected layer\n",
    "        input_size = 64 * (320 // (2 * 2))\n",
    "\n",
    "        self.fc1 = nn.Linear(input_size, 128)\n",
    "        self.fc2 = nn.Linear(128, num_go_terms)\n",
    "\n",
    "    def forward(self, x):\n",
    "        x = x.unsqueeze(1)\n",
    "        x = self.pool1(F.relu(self.bn1(self.conv1(x))))\n",
    "        x = self.pool2(F.relu(self.bn2(self.conv2(x))))\n",
    "        x = self.dropout(x)\n",
    "        x = torch.flatten(x, 1)\n",
    "        x = F.relu(self.fc1(x))\n",
    "        x = self.dropout(x)\n",
    "        x = self.fc2(x)\n",
    "        #x = self.sigmoid(x)\n",
    "        return x"
   ]
  },
  {
   "cell_type": "code",
   "execution_count": 308,
   "id": "01fd7e6b-b665-4715-a34d-9c57260a7855",
   "metadata": {},
   "outputs": [
    {
     "name": "stdout",
     "output_type": "stream",
     "text": [
      "Epoch [1/100], Loss: 0.2855, Accuracy: 0.2379, Val_Loss: 0.0328, Val_Accuracy: 0.1996\n",
      "Epoch [2/100], Loss: 0.0539, Accuracy: 0.2118, Val_Loss: 0.0301, Val_Accuracy: 0.2053\n",
      "Epoch [3/100], Loss: 0.0421, Accuracy: 0.2166, Val_Loss: 0.0290, Val_Accuracy: 0.2004\n",
      "Epoch [4/100], Loss: 0.0374, Accuracy: 0.2204, Val_Loss: 0.0274, Val_Accuracy: 0.2278\n",
      "Epoch [5/100], Loss: 0.0349, Accuracy: 0.2276, Val_Loss: 0.0272, Val_Accuracy: 0.2200\n",
      "Epoch [6/100], Loss: 0.0331, Accuracy: 0.2354, Val_Loss: 0.0269, Val_Accuracy: 0.2285\n",
      "Epoch [7/100], Loss: 0.0322, Accuracy: 0.2403, Val_Loss: 0.0268, Val_Accuracy: 0.2454\n",
      "Epoch [8/100], Loss: 0.0312, Accuracy: 0.2469, Val_Loss: 0.0259, Val_Accuracy: 0.2550\n",
      "Epoch [9/100], Loss: 0.0305, Accuracy: 0.2564, Val_Loss: 0.0256, Val_Accuracy: 0.2750\n",
      "Epoch [10/100], Loss: 0.0295, Accuracy: 0.2616, Val_Loss: 0.0257, Val_Accuracy: 0.2736\n",
      "Early stopping counter: 1/5\n",
      "Epoch [11/100], Loss: 0.0287, Accuracy: 0.2716, Val_Loss: 0.0252, Val_Accuracy: 0.2809\n",
      "Epoch [12/100], Loss: 0.0283, Accuracy: 0.2768, Val_Loss: 0.0249, Val_Accuracy: 0.2934\n",
      "Epoch [13/100], Loss: 0.0279, Accuracy: 0.2800, Val_Loss: 0.0254, Val_Accuracy: 0.2965\n",
      "Early stopping counter: 1/5\n",
      "Epoch [14/100], Loss: 0.0274, Accuracy: 0.2883, Val_Loss: 0.0244, Val_Accuracy: 0.3101\n",
      "Epoch [15/100], Loss: 0.0269, Accuracy: 0.2929, Val_Loss: 0.0240, Val_Accuracy: 0.3195\n",
      "Epoch [16/100], Loss: 0.0266, Accuracy: 0.2982, Val_Loss: 0.0248, Val_Accuracy: 0.3043\n",
      "Early stopping counter: 1/5\n",
      "Epoch [17/100], Loss: 0.0263, Accuracy: 0.3024, Val_Loss: 0.0242, Val_Accuracy: 0.3178\n",
      "Early stopping counter: 2/5\n",
      "Epoch [18/100], Loss: 0.0260, Accuracy: 0.3119, Val_Loss: 0.0237, Val_Accuracy: 0.3282\n",
      "Epoch [19/100], Loss: 0.0257, Accuracy: 0.3091, Val_Loss: 0.0237, Val_Accuracy: 0.3341\n",
      "Epoch [20/100], Loss: 0.0257, Accuracy: 0.3152, Val_Loss: 0.0233, Val_Accuracy: 0.3381\n",
      "Epoch [21/100], Loss: 0.0253, Accuracy: 0.3154, Val_Loss: 0.0240, Val_Accuracy: 0.3167\n",
      "Early stopping counter: 1/5\n",
      "Epoch [22/100], Loss: 0.0250, Accuracy: 0.3223, Val_Loss: 0.0238, Val_Accuracy: 0.3345\n",
      "Early stopping counter: 2/5\n",
      "Epoch [23/100], Loss: 0.0247, Accuracy: 0.3253, Val_Loss: 0.0234, Val_Accuracy: 0.3376\n",
      "Early stopping counter: 3/5\n",
      "Epoch [24/100], Loss: 0.0245, Accuracy: 0.3255, Val_Loss: 0.0232, Val_Accuracy: 0.3264\n",
      "Epoch [25/100], Loss: 0.0244, Accuracy: 0.3274, Val_Loss: 0.0229, Val_Accuracy: 0.3551\n",
      "Epoch [26/100], Loss: 0.0242, Accuracy: 0.3303, Val_Loss: 0.0236, Val_Accuracy: 0.3329\n",
      "Early stopping counter: 1/5\n",
      "Epoch [27/100], Loss: 0.0239, Accuracy: 0.3352, Val_Loss: 0.0229, Val_Accuracy: 0.3659\n",
      "Epoch [28/100], Loss: 0.0237, Accuracy: 0.3360, Val_Loss: 0.0227, Val_Accuracy: 0.3567\n",
      "Epoch [29/100], Loss: 0.0236, Accuracy: 0.3396, Val_Loss: 0.0226, Val_Accuracy: 0.3646\n",
      "Epoch [30/100], Loss: 0.0235, Accuracy: 0.3405, Val_Loss: 0.0228, Val_Accuracy: 0.3713\n",
      "Early stopping counter: 1/5\n",
      "Epoch [31/100], Loss: 0.0232, Accuracy: 0.3409, Val_Loss: 0.0226, Val_Accuracy: 0.3702\n",
      "Epoch [32/100], Loss: 0.0231, Accuracy: 0.3424, Val_Loss: 0.0223, Val_Accuracy: 0.3624\n",
      "Epoch [33/100], Loss: 0.0229, Accuracy: 0.3438, Val_Loss: 0.0225, Val_Accuracy: 0.3528\n",
      "Early stopping counter: 1/5\n",
      "Epoch [34/100], Loss: 0.0228, Accuracy: 0.3462, Val_Loss: 0.0224, Val_Accuracy: 0.3546\n",
      "Early stopping counter: 2/5\n",
      "Epoch [35/100], Loss: 0.0227, Accuracy: 0.3482, Val_Loss: 0.0225, Val_Accuracy: 0.3739\n",
      "Early stopping counter: 3/5\n",
      "Epoch [36/100], Loss: 0.0226, Accuracy: 0.3455, Val_Loss: 0.0220, Val_Accuracy: 0.3688\n",
      "Epoch [37/100], Loss: 0.0224, Accuracy: 0.3512, Val_Loss: 0.0225, Val_Accuracy: 0.3628\n",
      "Early stopping counter: 1/5\n",
      "Epoch [38/100], Loss: 0.0223, Accuracy: 0.3533, Val_Loss: 0.0222, Val_Accuracy: 0.3668\n",
      "Early stopping counter: 2/5\n",
      "Epoch [39/100], Loss: 0.0223, Accuracy: 0.3549, Val_Loss: 0.0219, Val_Accuracy: 0.3661\n",
      "Epoch [40/100], Loss: 0.0221, Accuracy: 0.3528, Val_Loss: 0.0223, Val_Accuracy: 0.3760\n",
      "Early stopping counter: 1/5\n",
      "Epoch [41/100], Loss: 0.0222, Accuracy: 0.3560, Val_Loss: 0.0218, Val_Accuracy: 0.3786\n",
      "Epoch [42/100], Loss: 0.0219, Accuracy: 0.3560, Val_Loss: 0.0225, Val_Accuracy: 0.3663\n",
      "Early stopping counter: 1/5\n",
      "Epoch [43/100], Loss: 0.0217, Accuracy: 0.3569, Val_Loss: 0.0222, Val_Accuracy: 0.3758\n",
      "Early stopping counter: 2/5\n",
      "Epoch [44/100], Loss: 0.0216, Accuracy: 0.3606, Val_Loss: 0.0222, Val_Accuracy: 0.3617\n",
      "Early stopping counter: 3/5\n",
      "Epoch [45/100], Loss: 0.0216, Accuracy: 0.3630, Val_Loss: 0.0224, Val_Accuracy: 0.3741\n",
      "Early stopping counter: 4/5\n",
      "Epoch [46/100], Loss: 0.0215, Accuracy: 0.3619, Val_Loss: 0.0223, Val_Accuracy: 0.3744\n",
      "Early stopping counter: 5/5\n",
      "Early stopping\n"
     ]
    }
   ],
   "source": [
    "device = torch.device(\"cuda\" if torch.cuda.is_available() else \"cpu\")\n",
    "\n",
    "train_losses_cnn = []\n",
    "val_losses_cnn = []\n",
    "train_accuracies_cnn = []\n",
    "val_accuracies_cnn = []\n",
    "\n",
    "# Hyperparameters\n",
    "learning_rate = 0.0001\n",
    "num_epochs = 100\n",
    "\n",
    "# Instantiate the model, loss, and optimizer\n",
    "cnn = CNN(output_size).to(device)\n",
    "criterion = nn.BCEWithLogitsLoss() # Assuming 'weighted_pos_weights' is a list containing the weights for each GO term pos_weight=weighted_pos_weights.clone().detach().to(device)\n",
    "optimizer = optim.Adam(cnn.parameters(), lr=learning_rate, weight_decay = 1e-5)\n",
    "\n",
    "# Initialize variables for early stopping\n",
    "best_val_loss_cnn = float('inf')\n",
    "patience = 5\n",
    "early_stopping_counter_cnn = 0\n",
    "best_model_cnn = None\n",
    "\n",
    "# Training loop\n",
    "for epoch in range(num_epochs):\n",
    "    train_loss = 0\n",
    "    train_correct = 0\n",
    "    train_neg_correct = 0\n",
    "    val_loss = 0\n",
    "    val_correct = 0\n",
    "    val_neg_correct = 0\n",
    "\n",
    "    cnn.train()\n",
    "    for batch_idx, (data, labels) in enumerate(train_loader): # Assuming 'train_loader' is a DataLoader instance containing the training dataset\n",
    "        data = data.float()\n",
    "        labels = labels.float()\n",
    "\n",
    "        data = data.to(device)\n",
    "        labels = labels.to(device)\n",
    "        # Forward pass\n",
    "        outputs = cnn(data)\n",
    "        #loss = criterion(outputs, labels)\n",
    "        loss = positive_label_bce_loss(outputs, labels)\n",
    "\n",
    "        # Backward pass and optimization\n",
    "        optimizer.zero_grad()\n",
    "        loss.backward()\n",
    "        optimizer.step()\n",
    "        \n",
    "        train_loss += loss.item()\n",
    "        \n",
    "        #train_correct += accuracy(outputs, labels) * data.size(0)\n",
    "        \n",
    "        accuracy, total_positives = positive_class_accuracy(outputs, labels)\n",
    "        # weighted_accuracy = (accuracies * total_positives).sum().item() / total_positives.sum().item()\n",
    "        train_correct += accuracy * data.size(0)\n",
    "\n",
    "\n",
    "        #train_correct += positive_class_accuracy(outputs, labels) * data.size(0)\n",
    "\n",
    "    cnn.eval()\n",
    "    with torch.no_grad():\n",
    "        for batch_idx, (data, labels) in enumerate(val_loader):\n",
    "            data = data.to(device)\n",
    "            labels = labels.to(device)\n",
    "\n",
    "            outputs = cnn(data)\n",
    "            #loss = criterion(outputs, labels)\n",
    "            loss = positive_label_bce_loss(outputs, labels)\n",
    "            \n",
    "            val_loss += loss.item()\n",
    "        \n",
    "            #val_correct += accuracy(outputs, labels) * data.size(0)\n",
    "            \n",
    "            accuracy, total_positives = positive_class_accuracy(outputs, labels)\n",
    "            # weighted_accuracy = (accuracies * total_positives).sum().item() / total_positives.sum().item()\n",
    "            val_correct += accuracy * data.size(0)\n",
    "            \n",
    "            \n",
    "            # val_correct += weighted_accuracy\n",
    "\n",
    "            \n",
    "\n",
    "    train_losses_cnn.append(train_loss / len(train_loader))\n",
    "    val_losses_cnn.append(val_loss / len(val_loader))\n",
    "    train_accuracies_cnn.append(train_correct / len(train_dataset))\n",
    "    val_accuracies_cnn.append(val_correct / len(val_dataset))\n",
    "    train_neg_accuracies_cnn.append(train_neg_correct / len(train_dataset))\n",
    "    val_neg_accuracies_cnn.append(val_neg_correct / len(val_dataset))\n",
    "            \n",
    "    print(f'Epoch [{epoch+1}/{num_epochs}], Loss: {train_losses_cnn[-1]:.4f}, Accuracy: {train_accuracies_cnn[-1]:.4f}, Val_Loss: {val_losses_cnn[-1]:.4f}, Val_Accuracy: {val_accuracies_cnn[-1]:.4f}')\n",
    "\n",
    "    if val_losses_cnn[-1] < best_val_loss_cnn:\n",
    "        best_val_loss_cnn = val_losses_cnn[-1]\n",
    "        early_stopping_counter_cnn = 0\n",
    "        best_model_cnn = cnn.state_dict()\n",
    "    else:\n",
    "        early_stopping_counter_cnn += 1\n",
    "        print(f\"Early stopping counter: {early_stopping_counter_cnn}/{patience}\")\n",
    "        if early_stopping_counter_cnn >= patience:\n",
    "            print(\"Early stopping\")\n",
    "            cnn.load_state_dict(best_model_cnn)\n",
    "            break"
   ]
  },
  {
   "cell_type": "code",
   "execution_count": 309,
   "id": "16e16394-97be-4e8e-a811-f64f19dddca7",
   "metadata": {},
   "outputs": [
    {
     "data": {
      "image/png": "[encoded data removed]",
      "text/plain": [
       "<Figure size 640x480 with 1 Axes>"
      ]
     },
     "metadata": {},
     "output_type": "display_data"
    }
   ],
   "source": [
    "# Plot the loss curves\n",
    "plt.plot(train_losses_cnn, label='Training Loss')\n",
    "plt.plot(val_losses_cnn, label='Validation Loss')\n",
    "plt.xlabel('Epoch')\n",
    "plt.ylabel('Loss')\n",
    "plt.legend()\n",
    "plt.show()"
   ]
  },
  {
   "cell_type": "code",
   "execution_count": 310,
   "id": "00d9479c-6edf-4a11-85ff-e7e99bc9834b",
   "metadata": {},
   "outputs": [
    {
     "data": {
      "image/png": "[encoded data removed]",
      "text/plain": [
       "<Figure size 640x480 with 1 Axes>"
      ]
     },
     "metadata": {},
     "output_type": "display_data"
    }
   ],
   "source": [
    "# Plot the accuracy curves\n",
    "plt.plot(train_accuracies_cnn, label='Training Accuracy')\n",
    "plt.plot(val_accuracies_cnn, label='Validation Accuracy')\n",
    "plt.xlabel('Epoch')\n",
    "plt.ylabel('Accuracy')\n",
    "plt.legend()\n",
    "plt.show()"
   ]
  },
  {
   "cell_type": "code",
   "execution_count": 282,
   "id": "34276754-669b-48b8-9cd3-368e13d202a5",
   "metadata": {},
   "outputs": [],
   "source": [
    "input_embedding = X_small_test[50]  # Replace with your actual input embedding\n",
    "predictions = predict(cnn, input_embedding, device)[0]\n",
    "\n",
    "print(np.where(predictions == 1))\n",
    "\n",
    "print(np.where(y_small_test[5] == 1))"
   ]
  },
  {
   "cell_type": "markdown",
   "id": "4cfd7b92-b71c-4da5-bf57-031a2638d046",
   "metadata": {},
   "source": [
    "# Strucutre Prediction + Contact Maps"
   ]
  },
  {
   "cell_type": "code",
   "execution_count": 331,
   "id": "74967cea-ee78-4e6a-88af-03c37de5f8dc",
   "metadata": {},
   "outputs": [
    {
     "name": "stdout",
     "output_type": "stream",
     "text": [
      "pip 23.0.1 from /opt/conda/lib/python3.7/site-packages/pip (python 3.7)\n"
     ]
    }
   ],
   "source": [
    "!pip --version"
   ]
  },
  {
   "cell_type": "code",
   "execution_count": 14,
   "id": "9bb2648c-48b5-4612-91f4-a38157dab971",
   "metadata": {},
   "outputs": [],
   "source": [
    "model = esm.pretrained.esmfold_v1()\n",
    "model = model.eval().cuda()"
   ]
  },
  {
   "cell_type": "code",
   "execution_count": 15,
   "id": "ed190164-3c15-44cd-b7d8-bfd04bb423db",
   "metadata": {},
   "outputs": [],
   "source": [
    "# sequence = \"MKTVRQERLKSIVRILERSKEPVSGAQLAEELSVSRQVIVQDIAYLRSLGYNIVATPRGYVLAGG\"\n",
    "# # Multimer prediction can be done with chains separated by ':'\n",
    "\n",
    "# with torch.no_grad():\n",
    "#     output = model.infer_pdb(sequence)"
   ]
  },
  {
   "cell_type": "code",
   "execution_count": 16,
   "id": "7cefd617-37a5-4ff6-847b-d5a8167d47a2",
   "metadata": {},
   "outputs": [],
   "source": [
    "def generate_contact_map_array(pdb_file, distance_cutoff= 10.0):\n",
    "    # Load the PDB file\n",
    "    u = mda.Universe(pdb_file)\n",
    "\n",
    "    # Select all atoms\n",
    "    res_com = u.atoms.center_of_mass(compound='residues')\n",
    "    n_res = len(res_com)\n",
    "    res_dist = distances.self_distance_array(res_com)\n",
    "    sq_dist_res = np.zeros((n_res, n_res))\n",
    "    triu = np.triu_indices_from(sq_dist_res, k=1)\n",
    "    sq_dist_res[triu] = res_dist\n",
    "    sq_dist_res.T[triu] = res_dist\n",
    "    \n",
    "    # Calculate the distance matrix\n",
    "    distance_matrix = np.asarray(sq_dist_res)\n",
    "\n",
    "    # Generate the contact map\n",
    "    contact_map = np.where(distance_matrix <= distance_cutoff, 1, 0)\n",
    "\n",
    "    # Set the diagonal to zero (no self-contacts)\n",
    "    np.fill_diagonal(contact_map, 0)\n",
    "    #return distance_matrix\n",
    "    return contact_map"
   ]
  },
  {
   "cell_type": "code",
   "execution_count": 17,
   "id": "b8eab663-75c3-414f-a139-bf8600c162b8",
   "metadata": {},
   "outputs": [
    {
     "name": "stderr",
     "output_type": "stream",
     "text": [
      "1it [00:05,  5.77s/it]"
     ]
    },
    {
     "name": "stdout",
     "output_type": "stream",
     "text": [
      "Device 0: b'Tesla V100-SXM2-16GB', Memory : (41.41% free): 17179869184(total), 7114522624 (free), 10065346560 (used)\n"
     ]
    },
    {
     "name": "stderr",
     "output_type": "stream",
     "text": [
      "5001it [4:35:02,  2.95s/it]"
     ]
    },
    {
     "name": "stdout",
     "output_type": "stream",
     "text": [
      "Device 0: b'Tesla V100-SXM2-16GB', Memory : (41.39% free): 17179869184(total), 7110328320 (free), 10069540864 (used)\n"
     ]
    },
    {
     "name": "stderr",
     "output_type": "stream",
     "text": [
      "10001it [9:04:38,  1.35s/it]"
     ]
    },
    {
     "name": "stdout",
     "output_type": "stream",
     "text": [
      "Device 0: b'Tesla V100-SXM2-16GB', Memory : (41.35% free): 17179869184(total), 7104036864 (free), 10075832320 (used)\n"
     ]
    },
    {
     "name": "stderr",
     "output_type": "stream",
     "text": [
      "12292it [11:12:59,  3.28s/it]\n"
     ]
    }
   ],
   "source": [
    "err_counter = 0\n",
    "\n",
    "for i, protein in tqdm(enumerate(proteins_array[3000:])):\n",
    "\n",
    "    prot_id = protein[0]\n",
    "    seq = protein[1]\n",
    "    \n",
    "    try:\n",
    "        with torch.no_grad():\n",
    "            output = model.infer_pdb(seq)\n",
    "    except:\n",
    "        print(\"Could not load\", prot_id, \"into memory\")\n",
    "        err_counter += 1\n",
    "        torch.cuda.empty_cache()\n",
    "        continue\n",
    "    \n",
    "    torch.cuda.empty_cache()\n",
    "    \n",
    "    nvidia_smi.nvmlInit()\n",
    "    \n",
    "    if (i % 5000) == 0:\n",
    "\n",
    "        deviceCount = nvidia_smi.nvmlDeviceGetCount()\n",
    "        for i in range(deviceCount):\n",
    "            handle = nvidia_smi.nvmlDeviceGetHandleByIndex(i)\n",
    "            info = nvidia_smi.nvmlDeviceGetMemoryInfo(handle)\n",
    "            print(\"Device {}: {}, Memory : ({:.2f}% free): {}(total), {} (free), {} (used)\".format(i, nvidia_smi.nvmlDeviceGetName(handle), 100*info.free/info.total, info.total, info.free, info.used))\n",
    "\n",
    "        nvidia_smi.nvmlShutdown()\n",
    "        \n",
    "    with open(\"result.pdb\", \"w\") as f:\n",
    "        f.write(output)\n",
    "    \n",
    "    # Read a PDB file and generate a contact map\n",
    "    pdb_file = \"result.pdb\"\n",
    "    contact_map = generate_contact_map_array(pdb_file);\n",
    "\n",
    "    # Save the contact map to a file\n",
    "    np.save(f\"contact_maps/{str(prot_id)}.npy\", contact_map)\n",
    "    \n",
    "    del output"
   ]
  },
  {
   "cell_type": "code",
   "execution_count": null,
   "id": "1dab1174-9a3e-44b3-b07c-e0dcb38f9e2d",
   "metadata": {},
   "outputs": [
    {
     "name": "stderr",
     "output_type": "stream",
     "text": [
      " 54%|█████▎    | 2677/5000 [2:12:06<1:56:17,  3.00s/it]"
     ]
    }
   ],
   "source": [
    "err_counter = 0\n",
    "\n",
    "for i, protein in tqdm(enumerate(proteins_array[-6000:-1000]), total = 5000):\n",
    "\n",
    "    prot_id = protein[0]\n",
    "    seq = protein[1]\n",
    "    \n",
    "    try:\n",
    "        with torch.no_grad():\n",
    "            output = model.infer_pdb(seq)\n",
    "    except:\n",
    "        print(\"Could not load\", prot_id, \"into memory\")\n",
    "        err_counter += 1\n",
    "        torch.cuda.empty_cache()\n",
    "        continue\n",
    "    \n",
    "    torch.cuda.empty_cache()\n",
    "    \n",
    "    nvidia_smi.nvmlInit()\n",
    "    \n",
    "    if (i % 5000) == 0:\n",
    "\n",
    "        deviceCount = nvidia_smi.nvmlDeviceGetCount()\n",
    "        for i in range(deviceCount):\n",
    "            handle = nvidia_smi.nvmlDeviceGetHandleByIndex(i)\n",
    "            info = nvidia_smi.nvmlDeviceGetMemoryInfo(handle)\n",
    "            print(\"Device {}: {}, Memory : ({:.2f}% free): {}(total), {} (free), {} (used)\".format(i, nvidia_smi.nvmlDeviceGetName(handle), 100*info.free/info.total, info.total, info.free, info.used))\n",
    "\n",
    "        nvidia_smi.nvmlShutdown()\n",
    "        \n",
    "    with open(\"result.pdb\", \"w\") as f:\n",
    "        f.write(output)\n",
    "    \n",
    "    # Read a PDB file and generate a contact map\n",
    "    pdb_file = \"result.pdb\"\n",
    "    contact_map = generate_contact_map_array(pdb_file);\n",
    "\n",
    "    # Save the contact map to a file\n",
    "    np.save(f\"contact_maps/{str(prot_id)}.npy\", contact_map)\n",
    "    \n",
    "    del output"
   ]
  },
  {
   "cell_type": "code",
   "execution_count": null,
   "id": "22a90cae-3d60-49ea-afe7-c6354c5857ad",
   "metadata": {},
   "outputs": [],
   "source": [
    "proteins_array[1][1]"
   ]
  },
  {
   "cell_type": "code",
   "execution_count": null,
   "id": "78d1b9cb-15cb-447b-b546-d6a7639e3851",
   "metadata": {},
   "outputs": [],
   "source": [
    "pdb_file = \"result2.pdb\"\n",
    "contact_map = generate_contact_map_array(pdb_file);\n"
   ]
  },
  {
   "cell_type": "code",
   "execution_count": null,
   "id": "507b7038-74b4-4d8e-af5b-fa3d45e48dc5",
   "metadata": {},
   "outputs": [],
   "source": [
    "plt.imshow(contact_map,interpolation='nearest')"
   ]
  },
  {
   "cell_type": "code",
   "execution_count": null,
   "id": "35eb8034-180f-42dd-b1d1-76d0ca0f648a",
   "metadata": {},
   "outputs": [],
   "source": []
  },
  {
   "cell_type": "markdown",
   "id": "a7be8323-635a-4256-a309-077988672881",
   "metadata": {},
   "source": [
    "# GAT"
   ]
  },
  {
   "cell_type": "code",
   "execution_count": 30,
   "id": "53177251-dc5d-4e95-8130-fd9a56b799c3",
   "metadata": {},
   "outputs": [
    {
     "name": "stdout",
     "output_type": "stream",
     "text": [
      "Requirement already satisfied: torch-geometric in /opt/conda/lib/python3.7/site-packages (2.3.0)\n",
      "Requirement already satisfied: pyparsing in /opt/conda/lib/python3.7/site-packages (from torch-geometric) (3.0.9)\n",
      "Requirement already satisfied: psutil>=5.8.0 in /opt/conda/lib/python3.7/site-packages (from torch-geometric) (5.9.3)\n",
      "Requirement already satisfied: scipy in /opt/conda/lib/python3.7/site-packages (from torch-geometric) (1.7.3)\n",
      "Requirement already satisfied: tqdm in /opt/conda/lib/python3.7/site-packages (from torch-geometric) (4.64.1)\n",
      "Requirement already satisfied: numpy in /opt/conda/lib/python3.7/site-packages (from torch-geometric) (1.21.6)\n",
      "Requirement already satisfied: jinja2 in /opt/conda/lib/python3.7/site-packages (from torch-geometric) (3.1.2)\n",
      "Requirement already satisfied: scikit-learn in /opt/conda/lib/python3.7/site-packages (from torch-geometric) (1.0.2)\n",
      "Requirement already satisfied: requests in /opt/conda/lib/python3.7/site-packages (from torch-geometric) (2.28.2)\n",
      "Requirement already satisfied: MarkupSafe>=2.0 in /opt/conda/lib/python3.7/site-packages (from jinja2->torch-geometric) (2.1.2)\n",
      "Requirement already satisfied: charset-normalizer<4,>=2 in /opt/conda/lib/python3.7/site-packages (from requests->torch-geometric) (3.1.0)\n",
      "Requirement already satisfied: certifi>=2017.4.17 in /opt/conda/lib/python3.7/site-packages (from requests->torch-geometric) (2022.12.7)\n",
      "Requirement already satisfied: idna<4,>=2.5 in /opt/conda/lib/python3.7/site-packages (from requests->torch-geometric) (3.4)\n",
      "Requirement already satisfied: urllib3<1.27,>=1.21.1 in /opt/conda/lib/python3.7/site-packages (from requests->torch-geometric) (1.26.15)\n",
      "Requirement already satisfied: joblib>=0.11 in /opt/conda/lib/python3.7/site-packages (from scikit-learn->torch-geometric) (1.2.0)\n",
      "Requirement already satisfied: threadpoolctl>=2.0.0 in /opt/conda/lib/python3.7/site-packages (from scikit-learn->torch-geometric) (3.1.0)\n"
     ]
    }
   ],
   "source": [
    "!pip install --upgrade torch-geometric"
   ]
  },
  {
   "cell_type": "code",
   "execution_count": 15,
   "id": "43627abc-1daf-45e6-bf19-cc7d2c336860",
   "metadata": {},
   "outputs": [],
   "source": [
    "import torch.nn as nn\n",
    "import torch_geometric.nn as pyg_nn\n",
    "import torch_geometric.data as pyg_data\n",
    "#from torch_geometric.datasets import Planetoid\n",
    "from torch_geometric.transforms import NormalizeFeatures\n",
    "from torch_geometric.data import Batch\n",
    "from torch_geometric.nn import global_mean_pool\n",
    "\n",
    "from torch_geometric.loader import DataLoader\n"
   ]
  },
  {
   "cell_type": "code",
   "execution_count": 14,
   "id": "24bbbe24-f872-4ba5-aef3-0970cc85cb8f",
   "metadata": {},
   "outputs": [],
   "source": [
    "import os\n",
    "\n",
    "folder_path = 'contact_maps'  # Replace with the actual path to the folder\n",
    "\n",
    "# Get a list of all files and directories in the folder\n",
    "files = os.listdir(folder_path)\n",
    "\n",
    "# Filter out the directories and keep only the file names\n",
    "file_names = set([f.split('.')[0] for f in files if os.path.isfile(os.path.join(folder_path, f))])\n",
    "\n",
    "# Print the list of file names"
   ]
  },
  {
   "cell_type": "code",
   "execution_count": 22,
   "id": "63502eac-8c53-4d90-9d06-73a87ac79417",
   "metadata": {},
   "outputs": [
    {
     "data": {
      "text/html": [
       "<div>\n",
       "<style scoped>\n",
       "    .dataframe tbody tr th:only-of-type {\n",
       "        vertical-align: middle;\n",
       "    }\n",
       "\n",
       "    .dataframe tbody tr th {\n",
       "        vertical-align: top;\n",
       "    }\n",
       "\n",
       "    .dataframe thead th {\n",
       "        text-align: right;\n",
       "    }\n",
       "</style>\n",
       "<table border=\"1\" class=\"dataframe\">\n",
       "  <thead>\n",
       "    <tr style=\"text-align: right;\">\n",
       "      <th></th>\n",
       "      <th>id</th>\n",
       "      <th>seq</th>\n",
       "      <th>go_label</th>\n",
       "      <th>embedding</th>\n",
       "    </tr>\n",
       "  </thead>\n",
       "  <tbody>\n",
       "    <tr>\n",
       "      <th>0</th>\n",
       "      <td>A0A0C5B5G6</td>\n",
       "      <td>MRWQEMGYIFYPRKLR</td>\n",
       "      <td>[GO:0005615]</td>\n",
       "      <td>[0.011769158765673637, -0.3506734371185303, 0....</td>\n",
       "    </tr>\n",
       "    <tr>\n",
       "      <th>1</th>\n",
       "      <td>A0A0H3M3S8</td>\n",
       "      <td>MRTPRRHCRRIAVLAAVSIAATVVAGCSSGSKPSGGPLPDAKPLVE...</td>\n",
       "      <td>[GO:0097691]</td>\n",
       "      <td>[-0.09362135827541351, 0.1681978553533554, 0.1...</td>\n",
       "    </tr>\n",
       "    <tr>\n",
       "      <th>2</th>\n",
       "      <td>A0A0H3M9Z0</td>\n",
       "      <td>MKRGLTVAVAGAAILVAGLSGCSSNKSTTGSGETTTAAGTTASPGA...</td>\n",
       "      <td>[GO:0097691]</td>\n",
       "      <td>[-0.12658698856830597, 0.29110196232795715, 0....</td>\n",
       "    </tr>\n",
       "    <tr>\n",
       "      <th>3</th>\n",
       "      <td>A0AVX7</td>\n",
       "      <td>MGSAQSVPPEMRALAERTGFTSEQIEQLHRRFKQLNHNRKTIRKED...</td>\n",
       "      <td>[GO:0005737, GO:0005634]</td>\n",
       "      <td>[-0.18405279517173767, -0.04976872354745865, -...</td>\n",
       "    </tr>\n",
       "    <tr>\n",
       "      <th>4</th>\n",
       "      <td>A0CDD4</td>\n",
       "      <td>MFKNSFQSGFLSILYSIGSKPLQIWDKQIKNGHIKRITDQDIQSSV...</td>\n",
       "      <td>[GO:0036064, GO:0005929]</td>\n",
       "      <td>[-0.052322402596473694, -0.09469373524188995, ...</td>\n",
       "    </tr>\n",
       "  </tbody>\n",
       "</table>\n",
       "</div>"
      ],
      "text/plain": [
       "           id                                                seq  \\\n",
       "0  A0A0C5B5G6                                   MRWQEMGYIFYPRKLR   \n",
       "1  A0A0H3M3S8  MRTPRRHCRRIAVLAAVSIAATVVAGCSSGSKPSGGPLPDAKPLVE...   \n",
       "2  A0A0H3M9Z0  MKRGLTVAVAGAAILVAGLSGCSSNKSTTGSGETTTAAGTTASPGA...   \n",
       "3      A0AVX7  MGSAQSVPPEMRALAERTGFTSEQIEQLHRRFKQLNHNRKTIRKED...   \n",
       "4      A0CDD4  MFKNSFQSGFLSILYSIGSKPLQIWDKQIKNGHIKRITDQDIQSSV...   \n",
       "\n",
       "                   go_label                                          embedding  \n",
       "0              [GO:0005615]  [0.011769158765673637, -0.3506734371185303, 0....  \n",
       "1              [GO:0097691]  [-0.09362135827541351, 0.1681978553533554, 0.1...  \n",
       "2              [GO:0097691]  [-0.12658698856830597, 0.29110196232795715, 0....  \n",
       "3  [GO:0005737, GO:0005634]  [-0.18405279517173767, -0.04976872354745865, -...  \n",
       "4  [GO:0036064, GO:0005929]  [-0.052322402596473694, -0.09469373524188995, ...  "
      ]
     },
     "execution_count": 22,
     "metadata": {},
     "output_type": "execute_result"
    }
   ],
   "source": [
    "df_grouped_small_embeddings.head()"
   ]
  },
  {
   "cell_type": "code",
   "execution_count": 23,
   "id": "3b6b914a-05dd-4509-81a1-fb5078e33120",
   "metadata": {},
   "outputs": [
    {
     "data": {
      "text/plain": [
       "(15292, 4)"
      ]
     },
     "execution_count": 23,
     "metadata": {},
     "output_type": "execute_result"
    }
   ],
   "source": [
    "df_grouped_small_embeddings.shape"
   ]
  },
  {
   "cell_type": "code",
   "execution_count": 24,
   "id": "6cef7233-90de-4ae4-b89d-d6feafe42101",
   "metadata": {},
   "outputs": [],
   "source": [
    "mlb = MultiLabelBinarizer()\n",
    "df_grouped_small_embeddings[\"mlb\"] = mlb.fit_transform(df_grouped_small_embeddings[\"go_label\"]).tolist()"
   ]
  },
  {
   "cell_type": "code",
   "execution_count": 25,
   "id": "0b18dd89-951f-4521-86fe-3f5a27787739",
   "metadata": {},
   "outputs": [
    {
     "name": "stderr",
     "output_type": "stream",
     "text": [
      "15292it [00:09, 1649.27it/s]\n"
     ]
    }
   ],
   "source": [
    "data_list = []\n",
    "for index, row in tqdm(df_grouped_small_embeddings.iterrows()):\n",
    "    prot_id = row[\"id\"]\n",
    "    \n",
    "    temp = []\n",
    "    if prot_id in file_names:\n",
    "        temp.append(residue_representations[prot_id])\n",
    "        contact_map = np.load(f\"contact_maps/{prot_id}.npy\")\n",
    "        temp.append(contact_map)\n",
    "        temp.append(np.array(row[\"mlb\"]))\n",
    "    \n",
    "        data_list.append(tuple(temp))\n",
    "#X_small_train_residues, X_small_test_residues, y_small_train_residues, y_small_test_residues = train_test_split(X_small_residues, y_small_residues, test_size=0.1, random_state=42)"
   ]
  },
  {
   "cell_type": "code",
   "execution_count": 26,
   "id": "f8e665e7-5a49-4e8d-a407-4c96a6c679c2",
   "metadata": {},
   "outputs": [
    {
     "name": "stdout",
     "output_type": "stream",
     "text": [
      "14241\n"
     ]
    }
   ],
   "source": [
    "!ls -1 contact_maps | wc -l"
   ]
  },
  {
   "cell_type": "code",
   "execution_count": 27,
   "id": "4e5cf6eb-abc1-4ecd-abce-655caf186299",
   "metadata": {},
   "outputs": [
    {
     "data": {
      "text/plain": [
       "12877"
      ]
     },
     "execution_count": 27,
     "metadata": {},
     "output_type": "execute_result"
    }
   ],
   "source": [
    "len(data_list)"
   ]
  },
  {
   "cell_type": "code",
   "execution_count": 385,
   "id": "2f2361a5-d8f1-4749-8e0f-9681e06d6d86",
   "metadata": {},
   "outputs": [
    {
     "data": {
      "text/plain": [
       "((109, 320), (109, 109), 1340)"
      ]
     },
     "execution_count": 385,
     "metadata": {},
     "output_type": "execute_result"
    }
   ],
   "source": [
    "data_list[0][0].shape, data_list[0][1].shape, data_list[0][2].shape[0]"
   ]
  },
  {
   "cell_type": "code",
   "execution_count": 28,
   "id": "de4b8a79-f3c4-46e0-aebb-477485be9f7e",
   "metadata": {},
   "outputs": [
    {
     "name": "stderr",
     "output_type": "stream",
     "text": [
      "/opt/conda/lib/python3.7/site-packages/ipykernel_launcher.py:1: VisibleDeprecationWarning: Creating an ndarray from ragged nested sequences (which is a list-or-tuple of lists-or-tuples-or ndarrays with different lengths or shapes) is deprecated. If you meant to do this, you must specify 'dtype=object' when creating the ndarray.\n",
      "  \"\"\"Entry point for launching an IPython kernel.\n"
     ]
    }
   ],
   "source": [
    "np.save(\"gat_dat_list2.npy\", np.array(data_list), allow_pickle=True)"
   ]
  },
  {
   "cell_type": "code",
   "execution_count": 11,
   "id": "764e0425-2407-4461-b474-fcd3d0dfb27d",
   "metadata": {},
   "outputs": [],
   "source": [
    "data_list = np.load(\"gat_dat_list2.npy\", allow_pickle=True)"
   ]
  },
  {
   "cell_type": "code",
   "execution_count": 12,
   "id": "2030f061-8f38-4679-9804-e71c51ad3cc3",
   "metadata": {},
   "outputs": [],
   "source": [
    "class ProteinDataset(torch.utils.data.Dataset):\n",
    "    def __init__(self, data_list):\n",
    "        self.data_list = data_list\n",
    "\n",
    "    def __len__(self):\n",
    "        return len(self.data_list)\n",
    "\n",
    "    def __getitem__(self, index):\n",
    "        return self.data_list[index]"
   ]
  },
  {
   "cell_type": "code",
   "execution_count": 13,
   "id": "2b4d0ec9-e1ef-44f7-8c52-71e31ea0fc7a",
   "metadata": {},
   "outputs": [],
   "source": [
    "def create_edge_index_from_contact_map(contact_map, threshold):\n",
    "    edge_list = []\n",
    "\n",
    "    for i in range(contact_map.shape[0]):\n",
    "        for j in range(contact_map.shape[1]):\n",
    "            if contact_map[i, j] >= threshold:\n",
    "                edge_list.append([i, j])\n",
    "\n",
    "    return torch.tensor(edge_list).t().contiguous()\n",
    "\n",
    "def create_graph_data_from_esm_contact_map(embeddings, contact_map, go_labels, threshold=0.5):\n",
    "    x = torch.tensor(embeddings, dtype=torch.float)\n",
    "    edge_index = create_edge_index_from_contact_map(contact_map, threshold)\n",
    "    y = torch.tensor(go_labels, dtype=torch.long)\n",
    "    \n",
    "    return pyg_data.Data(x=x, edge_index=edge_index, y=y)\n"
   ]
  },
  {
   "cell_type": "code",
   "execution_count": 21,
   "id": "e552f3e9-4998-4f5a-a5a4-965dc3c754ea",
   "metadata": {},
   "outputs": [],
   "source": [
    "graph_data_list = [create_graph_data_from_esm_contact_map(embeddings, contact_map, go_labels) for embeddings, contact_map, go_labels in data_list]\n",
    "\n",
    "# Split dataset into train, validation, and test sets\n",
    "train_data, val_data = train_test_split(graph_data_list, test_size=0.1, random_state=42)"
   ]
  },
  {
   "cell_type": "code",
   "execution_count": 22,
   "id": "0775e7d0-9aaa-43d8-9c77-ce15df42ad38",
   "metadata": {},
   "outputs": [],
   "source": [
    "train_dataset = ProteinDataset(train_data)\n",
    "val_dataset = ProteinDataset(val_data)"
   ]
  },
  {
   "cell_type": "code",
   "execution_count": 23,
   "id": "cc34f908-70ac-4dfc-93a2-2c0b14282fee",
   "metadata": {},
   "outputs": [],
   "source": [
    "batch_size = 64\n",
    "train_dataloader_gat = DataLoader(train_dataset, batch_size=batch_size, shuffle=True, collate_fn=Batch.from_data_list)\n",
    "val_dataloader_gat = DataLoader(val_dataset, batch_size=batch_size, shuffle=False, collate_fn=Batch.from_data_list)"
   ]
  },
  {
   "cell_type": "code",
   "execution_count": 18,
   "id": "1b62cc3e-ff0d-4534-bb86-d7062ffcd347",
   "metadata": {},
   "outputs": [],
   "source": [
    "class GAT_Encoder(nn.Module):\n",
    "    def __init__(self, input_dim, hidden_dim, output_dim, n_heads, dropout):\n",
    "        super(GAT_Encoder, self).__init__()\n",
    "        \n",
    "        self.gat1 = pyg_nn.GATConv(input_dim, hidden_dim, heads=n_heads, concat=True, dropout=dropout)\n",
    "        self.gat2 = pyg_nn.GATConv(hidden_dim * n_heads, output_dim, heads=1, concat=False, dropout=dropout)\n",
    "        self.activation = nn.LeakyReLU(0.1)\n",
    "        \n",
    "    def forward(self, x, edge_index):\n",
    "        x = self.gat1(x, edge_index)\n",
    "        x = self.activation(x)\n",
    "        x = self.gat2(x, edge_index)\n",
    "        \n",
    "        return x"
   ]
  },
  {
   "cell_type": "code",
   "execution_count": 24,
   "id": "a79e6382-205f-432d-96de-a5ecb9e44acc",
   "metadata": {},
   "outputs": [],
   "source": [
    "class FullyConnectedClassifier(nn.Module):\n",
    "    def __init__(self, input_dim, hidden_dim1, hidden_dim2, num_classes, dropout):\n",
    "        super(FullyConnectedClassifier, self).__init__()\n",
    "        self.fc1 = nn.Linear(input_dim, hidden_dim1)\n",
    "        self.bn1 = nn.BatchNorm1d(hidden_dim1)\n",
    "        self.fc2 = nn.Linear(hidden_dim1, hidden_dim2)\n",
    "        self.bn2 = nn.BatchNorm1d(hidden_dim2)\n",
    "        self.fc3 = nn.Linear(hidden_dim2, num_classes)\n",
    "        self.dropout = nn.Dropout(dropout)\n",
    "\n",
    "    def forward(self, x):\n",
    "        x = self.fc1(x)\n",
    "        x = self.bn1(x)\n",
    "        x = F.relu(x)\n",
    "        x = self.dropout(x)\n",
    "\n",
    "        x = self.fc2(x)\n",
    "        x = self.bn2(x)\n",
    "        x = F.relu(x)\n",
    "        x = self.dropout(x)\n",
    "\n",
    "        x = self.fc3(x)\n",
    "        return x"
   ]
  },
  {
   "cell_type": "code",
   "execution_count": 25,
   "id": "77c72496-eae9-4b31-b21c-1126d9cd231c",
   "metadata": {},
   "outputs": [],
   "source": [
    "class GAT_Encoder(nn.Module):\n",
    "    def __init__(self, input_dim, hidden_dim, output_dim, n_heads, dropout, pooling_ratio):\n",
    "        super(GAT_Encoder, self).__init__()\n",
    "        \n",
    "        self.gat1 = pyg_nn.GATConv(input_dim, hidden_dim, heads=n_heads, concat=True, dropout=dropout)\n",
    "        self.pool1 = pyg_nn.TopKPooling(hidden_dim * n_heads, ratio=pooling_ratio)\n",
    "        self.batch_norm1 = nn.BatchNorm1d(hidden_dim * n_heads)\n",
    "        self.dropout1 = nn.Dropout(dropout)\n",
    "        \n",
    "        self.gat2 = pyg_nn.GATConv(hidden_dim * n_heads, hidden_dim, heads=n_heads, concat=True, dropout=dropout)\n",
    "        self.pool2 = pyg_nn.TopKPooling(hidden_dim * n_heads, ratio=pooling_ratio)\n",
    "        self.batch_norm2 = nn.BatchNorm1d(hidden_dim * n_heads)\n",
    "        self.dropout2 = nn.Dropout(dropout)\n",
    "        \n",
    "        self.gat3 = pyg_nn.GATConv(hidden_dim * n_heads, output_dim, heads=1, concat=False, dropout=dropout)\n",
    "        self.pool3 = pyg_nn.TopKPooling(output_dim, ratio=pooling_ratio)\n",
    "        self.batch_norm3 = nn.BatchNorm1d(output_dim)\n",
    "        self.dropout3 = nn.Dropout(dropout)\n",
    "        \n",
    "        #self.global_pooling = pyg_nn.GlobalMeanPool()\n",
    "        \n",
    "        self.activation = nn.LeakyReLU(0.1)\n",
    "        \n",
    "    def forward(self, x, edge_index, batch):\n",
    "        x = self.gat1(x, edge_index)\n",
    "        x = self.activation(x)\n",
    "        x, edge_index, _, batch, _, _ = self.pool1(x, edge_index, batch = batch)\n",
    "        x = self.batch_norm1(x)\n",
    "        x = self.dropout1(x)\n",
    "\n",
    "        x = self.gat2(x, edge_index)\n",
    "        x = self.activation(x)\n",
    "        x, edge_index, _, batch, _, _ = self.pool2(x, edge_index, batch = batch)\n",
    "        x = self.batch_norm2(x)\n",
    "        x = self.dropout2(x)\n",
    "\n",
    "        x = self.gat3(x, edge_index)\n",
    "        x = self.activation(x)\n",
    "        x, edge_index, _, batch, _, _ = self.pool3(x, edge_index, batch = batch)\n",
    "        x = self.batch_norm3(x)\n",
    "        x = self.dropout3(x)\n",
    "\n",
    "        #x = self.global_pooling(x, batch)\n",
    "        \n",
    "        return x, batch"
   ]
  },
  {
   "cell_type": "code",
   "execution_count": 31,
   "id": "dd96cc07-c36d-42b2-a45d-ec400bff22f3",
   "metadata": {},
   "outputs": [
    {
     "data": {
      "text/plain": [
       "torch.Size([1, 320])"
      ]
     },
     "execution_count": 31,
     "metadata": {},
     "output_type": "execute_result"
    }
   ],
   "source": [
    "next(iter(train_dataloader_gat)).x.mean(dim=0, keepdim=True).shape"
   ]
  },
  {
   "cell_type": "code",
   "execution_count": 35,
   "id": "14b98d39-325e-470d-b279-3fdd4ecbb7d7",
   "metadata": {},
   "outputs": [
    {
     "name": "stdout",
     "output_type": "stream",
     "text": [
      "Epoch: 1, Train Loss: 0.2555, Val Loss: 0.2117, Train Acc: 0.6276, Val Acc: 0.6650\n",
      "Epoch: 2, Train Loss: 0.2060, Val Loss: 0.2039, Train Acc: 0.6720, Val Acc: 0.6701\n",
      "Epoch: 3, Train Loss: 0.1921, Val Loss: 0.1941, Train Acc: 0.6884, Val Acc: 0.6909\n",
      "Epoch: 4, Train Loss: 0.1793, Val Loss: 0.1884, Train Acc: 0.7093, Val Acc: 0.7092\n",
      "Epoch: 5, Train Loss: 0.1694, Val Loss: 0.1829, Train Acc: 0.7265, Val Acc: 0.7284\n",
      "Epoch: 6, Train Loss: 0.1628, Val Loss: 0.1793, Train Acc: 0.7398, Val Acc: 0.7239\n",
      "Epoch: 7, Train Loss: 0.1572, Val Loss: 0.1739, Train Acc: 0.7470, Val Acc: 0.7413\n",
      "Epoch: 8, Train Loss: 0.1504, Val Loss: 0.1722, Train Acc: 0.7567, Val Acc: 0.7299\n",
      "Epoch: 9, Train Loss: 0.1460, Val Loss: 0.1682, Train Acc: 0.7657, Val Acc: 0.7427\n",
      "Epoch: 10, Train Loss: 0.1427, Val Loss: 0.1646, Train Acc: 0.7684, Val Acc: 0.7490\n",
      "Epoch: 11, Train Loss: 0.1377, Val Loss: 0.1645, Train Acc: 0.7772, Val Acc: 0.7493\n",
      "Epoch: 12, Train Loss: 0.1346, Val Loss: 0.1619, Train Acc: 0.7857, Val Acc: 0.7643\n",
      "Epoch: 13, Train Loss: 0.1315, Val Loss: 0.1616, Train Acc: 0.7922, Val Acc: 0.7615\n",
      "Epoch: 14, Train Loss: 0.1286, Val Loss: 0.1595, Train Acc: 0.7962, Val Acc: 0.7716\n",
      "Epoch: 15, Train Loss: 0.1261, Val Loss: 0.1584, Train Acc: 0.8010, Val Acc: 0.7710\n",
      "Epoch: 16, Train Loss: 0.1224, Val Loss: 0.1570, Train Acc: 0.8081, Val Acc: 0.7755\n",
      "Epoch: 17, Train Loss: 0.1204, Val Loss: 0.1575, Train Acc: 0.8111, Val Acc: 0.7791\n",
      "Epoch: 18, Train Loss: 0.1184, Val Loss: 0.1620, Train Acc: 0.8145, Val Acc: 0.7829\n",
      "Epoch: 19, Train Loss: 0.1192, Val Loss: 0.1592, Train Acc: 0.8157, Val Acc: 0.7896\n",
      "Epoch: 20, Train Loss: 0.1160, Val Loss: 0.1601, Train Acc: 0.8220, Val Acc: 0.7867\n",
      "Epoch: 21, Train Loss: 0.1154, Val Loss: 0.1586, Train Acc: 0.8211, Val Acc: 0.7948\n",
      "Epoch: 22, Train Loss: 0.1122, Val Loss: 0.1572, Train Acc: 0.8316, Val Acc: 0.7853\n",
      "Epoch: 23, Train Loss: 0.1107, Val Loss: 0.1566, Train Acc: 0.8311, Val Acc: 0.7909\n",
      "Epoch: 24, Train Loss: 0.1093, Val Loss: 0.1556, Train Acc: 0.8383, Val Acc: 0.7966\n",
      "Epoch: 25, Train Loss: 0.1080, Val Loss: 0.1545, Train Acc: 0.8395, Val Acc: 0.7960\n",
      "Epoch: 26, Train Loss: 0.1073, Val Loss: 0.1552, Train Acc: 0.8427, Val Acc: 0.7979\n",
      "Epoch: 27, Train Loss: 0.1060, Val Loss: 0.1546, Train Acc: 0.8428, Val Acc: 0.8062\n",
      "Epoch: 28, Train Loss: 0.1039, Val Loss: 0.1555, Train Acc: 0.8463, Val Acc: 0.7998\n",
      "Epoch: 29, Train Loss: 0.1035, Val Loss: 0.1540, Train Acc: 0.8464, Val Acc: 0.8036\n",
      "Epoch: 30, Train Loss: 0.1026, Val Loss: 0.1534, Train Acc: 0.8503, Val Acc: 0.8026\n",
      "Epoch: 31, Train Loss: 0.1012, Val Loss: 0.1531, Train Acc: 0.8550, Val Acc: 0.8077\n",
      "Epoch: 32, Train Loss: 0.1006, Val Loss: 0.1534, Train Acc: 0.8574, Val Acc: 0.7946\n",
      "Epoch: 33, Train Loss: 0.0997, Val Loss: 0.1552, Train Acc: 0.8592, Val Acc: 0.7879\n",
      "Epoch: 34, Train Loss: 0.0986, Val Loss: 0.1539, Train Acc: 0.8612, Val Acc: 0.7898\n",
      "Epoch: 35, Train Loss: 0.0976, Val Loss: 0.1542, Train Acc: 0.8633, Val Acc: 0.7936\n",
      "Epoch: 36, Train Loss: 0.0979, Val Loss: 0.1514, Train Acc: 0.8660, Val Acc: 0.7972\n",
      "Epoch: 37, Train Loss: 0.0949, Val Loss: 0.1532, Train Acc: 0.8710, Val Acc: 0.7995\n",
      "Epoch: 38, Train Loss: 0.0950, Val Loss: 0.1525, Train Acc: 0.8686, Val Acc: 0.8075\n",
      "Epoch: 39, Train Loss: 0.0947, Val Loss: 0.1541, Train Acc: 0.8715, Val Acc: 0.7959\n",
      "Epoch: 40, Train Loss: 0.0933, Val Loss: 0.1533, Train Acc: 0.8700, Val Acc: 0.8057\n",
      "Epoch: 41, Train Loss: 0.0926, Val Loss: 0.1527, Train Acc: 0.8765, Val Acc: 0.8018\n",
      "Epoch: 42, Train Loss: 0.0918, Val Loss: 0.1524, Train Acc: 0.8769, Val Acc: 0.8054\n",
      "Epoch: 43, Train Loss: 0.0920, Val Loss: 0.1521, Train Acc: 0.8756, Val Acc: 0.7991\n",
      "Epoch: 44, Train Loss: 0.0904, Val Loss: 0.1539, Train Acc: 0.8790, Val Acc: 0.8000\n",
      "Epoch: 45, Train Loss: 0.0910, Val Loss: 0.1537, Train Acc: 0.8791, Val Acc: 0.7942\n",
      "Epoch: 46, Train Loss: 0.0901, Val Loss: 0.1532, Train Acc: 0.8799, Val Acc: 0.8031\n",
      "Epoch: 47, Train Loss: 0.0896, Val Loss: 0.1525, Train Acc: 0.8799, Val Acc: 0.8057\n",
      "Epoch: 48, Train Loss: 0.0885, Val Loss: 0.1511, Train Acc: 0.8854, Val Acc: 0.8046\n",
      "Epoch: 49, Train Loss: 0.0883, Val Loss: 0.1499, Train Acc: 0.8853, Val Acc: 0.8049\n",
      "Epoch: 50, Train Loss: 0.0857, Val Loss: 0.1541, Train Acc: 0.8917, Val Acc: 0.8028\n",
      "Epoch: 51, Train Loss: 0.0870, Val Loss: 0.1531, Train Acc: 0.8872, Val Acc: 0.8015\n",
      "Epoch: 52, Train Loss: 0.0862, Val Loss: 0.1521, Train Acc: 0.8899, Val Acc: 0.8026\n",
      "Epoch: 53, Train Loss: 0.0857, Val Loss: 0.1521, Train Acc: 0.8903, Val Acc: 0.8057\n",
      "Epoch: 54, Train Loss: 0.0854, Val Loss: 0.1544, Train Acc: 0.8891, Val Acc: 0.8009\n",
      "Epoch: 55, Train Loss: 0.0845, Val Loss: 0.1509, Train Acc: 0.8927, Val Acc: 0.8036\n",
      "Epoch: 56, Train Loss: 0.0845, Val Loss: 0.1529, Train Acc: 0.8919, Val Acc: 0.8093\n",
      "Epoch: 57, Train Loss: 0.0820, Val Loss: 0.1528, Train Acc: 0.8990, Val Acc: 0.8013\n",
      "Epoch: 58, Train Loss: 0.0834, Val Loss: 0.1553, Train Acc: 0.8958, Val Acc: 0.8024\n",
      "Epoch: 59, Train Loss: 0.0840, Val Loss: 0.1583, Train Acc: 0.8951, Val Acc: 0.7867\n",
      "Epoch: 60, Train Loss: 0.0837, Val Loss: 0.1536, Train Acc: 0.8966, Val Acc: 0.8011\n",
      "Epoch: 61, Train Loss: 0.0823, Val Loss: 0.1554, Train Acc: 0.8988, Val Acc: 0.8032\n",
      "Epoch: 62, Train Loss: 0.0816, Val Loss: 0.1547, Train Acc: 0.8994, Val Acc: 0.7983\n",
      "Epoch: 63, Train Loss: 0.0820, Val Loss: 0.1553, Train Acc: 0.8993, Val Acc: 0.8028\n",
      "Epoch: 64, Train Loss: 0.0803, Val Loss: 0.1538, Train Acc: 0.9043, Val Acc: 0.8026\n",
      "Epoch: 65, Train Loss: 0.0793, Val Loss: 0.1540, Train Acc: 0.9024, Val Acc: 0.7961\n",
      "Epoch: 66, Train Loss: 0.0792, Val Loss: 0.1541, Train Acc: 0.9046, Val Acc: 0.7971\n",
      "Epoch: 67, Train Loss: 0.0789, Val Loss: 0.1539, Train Acc: 0.9066, Val Acc: 0.8026\n",
      "Epoch: 68, Train Loss: 0.0795, Val Loss: 0.1556, Train Acc: 0.9034, Val Acc: 0.7941\n",
      "Epoch: 69, Train Loss: 0.0772, Val Loss: 0.1582, Train Acc: 0.9095, Val Acc: 0.7929\n",
      "Epoch: 70, Train Loss: 0.0772, Val Loss: 0.1566, Train Acc: 0.9110, Val Acc: 0.7896\n",
      "Epoch: 71, Train Loss: 0.0773, Val Loss: 0.1557, Train Acc: 0.9045, Val Acc: 0.7986\n",
      "Epoch: 72, Train Loss: 0.0770, Val Loss: 0.1578, Train Acc: 0.9080, Val Acc: 0.7945\n",
      "Epoch: 73, Train Loss: 0.0775, Val Loss: 0.1574, Train Acc: 0.9087, Val Acc: 0.7934\n",
      "Epoch: 74, Train Loss: 0.0764, Val Loss: 0.1532, Train Acc: 0.9095, Val Acc: 0.7992\n",
      "Epoch: 75, Train Loss: 0.0752, Val Loss: 0.1550, Train Acc: 0.9133, Val Acc: 0.8020\n",
      "Epoch: 76, Train Loss: 0.0754, Val Loss: 0.1587, Train Acc: 0.9118, Val Acc: 0.7924\n",
      "Epoch: 77, Train Loss: 0.0742, Val Loss: 0.1567, Train Acc: 0.9135, Val Acc: 0.7957\n",
      "Epoch: 78, Train Loss: 0.0746, Val Loss: 0.1571, Train Acc: 0.9142, Val Acc: 0.7949\n",
      "Epoch: 79, Train Loss: 0.0757, Val Loss: 0.1587, Train Acc: 0.9101, Val Acc: 0.7981\n",
      "Epoch: 80, Train Loss: 0.0738, Val Loss: 0.1602, Train Acc: 0.9166, Val Acc: 0.7914\n",
      "Epoch: 81, Train Loss: 0.0746, Val Loss: 0.1606, Train Acc: 0.9144, Val Acc: 0.7897\n",
      "Epoch: 82, Train Loss: 0.0730, Val Loss: 0.1594, Train Acc: 0.9196, Val Acc: 0.7906\n",
      "Epoch: 83, Train Loss: 0.0720, Val Loss: 0.1629, Train Acc: 0.9201, Val Acc: 0.7856\n",
      "Epoch: 84, Train Loss: 0.0719, Val Loss: 0.1601, Train Acc: 0.9187, Val Acc: 0.7912\n",
      "Epoch: 85, Train Loss: 0.0720, Val Loss: 0.1635, Train Acc: 0.9212, Val Acc: 0.7798\n",
      "Epoch: 86, Train Loss: 0.0724, Val Loss: 0.1625, Train Acc: 0.9167, Val Acc: 0.7803\n",
      "Epoch: 87, Train Loss: 0.0718, Val Loss: 0.1589, Train Acc: 0.9220, Val Acc: 0.7912\n",
      "Epoch: 88, Train Loss: 0.0714, Val Loss: 0.1615, Train Acc: 0.9187, Val Acc: 0.7853\n",
      "Epoch: 89, Train Loss: 0.0718, Val Loss: 0.1613, Train Acc: 0.9186, Val Acc: 0.7866\n",
      "Epoch: 90, Train Loss: 0.0705, Val Loss: 0.1615, Train Acc: 0.9199, Val Acc: 0.7946\n",
      "Epoch: 91, Train Loss: 0.0696, Val Loss: 0.1664, Train Acc: 0.9248, Val Acc: 0.7750\n",
      "Epoch: 92, Train Loss: 0.0691, Val Loss: 0.1595, Train Acc: 0.9234, Val Acc: 0.7907\n",
      "Epoch: 93, Train Loss: 0.0697, Val Loss: 0.1637, Train Acc: 0.9213, Val Acc: 0.7797\n",
      "Epoch: 94, Train Loss: 0.0691, Val Loss: 0.1639, Train Acc: 0.9253, Val Acc: 0.7871\n",
      "Epoch: 95, Train Loss: 0.0689, Val Loss: 0.1643, Train Acc: 0.9263, Val Acc: 0.7761\n",
      "Epoch: 96, Train Loss: 0.0688, Val Loss: 0.1646, Train Acc: 0.9253, Val Acc: 0.7848\n",
      "Epoch: 97, Train Loss: 0.0675, Val Loss: 0.1620, Train Acc: 0.9288, Val Acc: 0.7883\n",
      "Epoch: 98, Train Loss: 0.0694, Val Loss: 0.1654, Train Acc: 0.9220, Val Acc: 0.7828\n",
      "Epoch: 99, Train Loss: 0.0690, Val Loss: 0.1642, Train Acc: 0.9244, Val Acc: 0.7746\n",
      "Epoch: 100, Train Loss: 0.0681, Val Loss: 0.1650, Train Acc: 0.9273, Val Acc: 0.7766\n"
     ]
    }
   ],
   "source": [
    "# Training function\n",
    "# Hyperparameters\n",
    "device = torch.device(\"cuda\" if torch.cuda.is_available() else \"cpu\")\n",
    "\n",
    "input_dim = 320  # Input dimension of ESM embeddings\n",
    "hidden_dim = 128  # Hidden dimension of GAT layers\n",
    "gat_embedding_dim = 128  # Output dimension of the GAT encoder\n",
    "n_heads = 16  # Number of attention heads in GAT layers\n",
    "dropout = 0.5  # Dropout rate for GAT layers\n",
    "pooling_ratio = 0.5  # Ratio for TopKPooling layers\n",
    "\n",
    "\n",
    "\n",
    "num_classes = data_list[0][2].shape[0] # Replace with the number of protein classes\n",
    "\n",
    "combined_feature_dim = gat_embedding_dim + 320\n",
    "classifier_hidden_dim1 = 256\n",
    "classifier_hidden_dim2 = 512\n",
    "\n",
    "def train(dataloader, gat_encoder, classifier, optimizer, device):\n",
    "    gat_encoder.train()\n",
    "    classifier.train()\n",
    "    total_loss = 0\n",
    "    total_correct = 0\n",
    "    num_samples = 0\n",
    "\n",
    "    for data in dataloader:\n",
    "        data = data.to(device)\n",
    "        optimizer.zero_grad()\n",
    "        embeddings, updated_batch = gat_encoder(data.x, data.edge_index, data.batch) \n",
    "        # print(\"Embeddings shape:\", embeddings.shape)\n",
    "        # print(\"Batch shape:\", data.batch.shape)\n",
    "        # print(\"Max value in batch:\", data.batch.max().item())\n",
    "        pooled_embeddings = global_mean_pool(embeddings, updated_batch)\n",
    "        \n",
    "        # avg_residue_embeddings = data.x.mean(dim=0, keepdim=True).expand(pooled_embeddings.size(0), -1)\n",
    "        # combined_embeddings = torch.cat([pooled_embeddings, avg_residue_embeddings], dim=1)\n",
    "        \n",
    "        #predictions = classifier(combined_embeddings)\n",
    "        predictions = classifier(pooled_embeddings)\n",
    "        \n",
    "        loss = positive_label_bce_loss(predictions.view(-1).float(), data.y.float())\n",
    "        loss.backward()\n",
    "        optimizer.step()\n",
    "\n",
    "        total_loss += loss.item() * data.num_graphs\n",
    "        \n",
    "        # total_correct += (predictions.view(-1).float().round() == data.y.float()).sum().item()\n",
    "        accuracy, total_positives = positive_class_accuracy(predictions.view(-1).float(), data.y.float())\n",
    "\n",
    "        total_correct += accuracy * data.num_graphs\n",
    "\n",
    "        num_samples += data.num_graphs\n",
    "\n",
    "    return total_loss / num_samples, total_correct / num_samples\n",
    "\n",
    "# Evaluation function\n",
    "def evaluate(dataloader, gat_encoder, classifier, device):\n",
    "    gat_encoder.eval()\n",
    "    classifier.eval()\n",
    "    total_loss = 0\n",
    "    total_correct = 0\n",
    "    num_samples = 0\n",
    "\n",
    "    with torch.no_grad():\n",
    "        for data in dataloader:\n",
    "            data = data.to(device)\n",
    "            embeddings, updated_batch = gat_encoder(data.x, data.edge_index, data.batch)\n",
    "\n",
    "            pooled_embeddings = global_mean_pool(embeddings, updated_batch)\n",
    "            \n",
    "#           avg_residue_embeddings = data.x.mean(dim=0, keepdim=True).expand(pooled_embeddings.size(0), -1)\n",
    "#           combined_embeddings = torch.cat([pooled_embeddings, avg_residue_embeddings], dim=1)\n",
    "        \n",
    "#           predictions = classifier(combined_embeddings)\n",
    "            predictions = classifier(pooled_embeddings)\n",
    "    \n",
    "            loss = positive_label_bce_loss(predictions.view(-1).float(), data.y.float())\n",
    "\n",
    "            total_loss += loss.item() * data.num_graphs\n",
    "            \n",
    "            # total_correct += (predictions.view(-1).float().round() == data.y.float()).sum().item()\n",
    "            \n",
    "            accuracy, total_positives = positive_class_accuracy(predictions.view(-1).float(), data.y.float())\n",
    "\n",
    "            total_correct += accuracy * data.num_graphs\n",
    "\n",
    "            num_samples += data.num_graphs\n",
    "\n",
    "    return total_loss / num_samples, total_correct / num_samples\n",
    "\n",
    "# Instantiate the GAT_Encoder and FullyConnectedClassifier\n",
    "gat_encoder = gat_encoder = GAT_Encoder(input_dim, hidden_dim, gat_embedding_dim, n_heads, dropout, pooling_ratio).to(device) #\n",
    "classifier = FullyConnectedClassifier(gat_embedding_dim, classifier_hidden_dim1, classifier_hidden_dim2, num_classes, dropout).to(device)\n",
    "\n",
    "# Training loop\n",
    "num_epochs = 100\n",
    "learning_rate = 0.001\n",
    "optimizer = torch.optim.Adam(list(gat_encoder.parameters()) + list(classifier.parameters()), lr=learning_rate, weight_decay = 1e-5)\n",
    "\n",
    "train_losses_gat= []\n",
    "val_losses_gat = []\n",
    "train_accuracies_gat = []\n",
    "val_accuracies_gat = []\n",
    "\n",
    "for epoch in range(num_epochs):\n",
    "    train_loss, train_accuracy = train(train_dataloader_gat, gat_encoder, classifier, optimizer, device)\n",
    "    val_loss, val_accuracy = evaluate(val_dataloader_gat, gat_encoder, classifier, device)\n",
    "    train_losses_gat.append(train_loss)\n",
    "    val_losses_gat.append(val_loss)\n",
    "    train_accuracies_gat.append(train_accuracy)\n",
    "    val_accuracies_gat.append(val_accuracy)\n",
    "    print(f\"Epoch: {epoch + 1}, Train Loss: {train_loss:.4f}, Val Loss: {val_loss:.4f}, Train Acc: {train_accuracy:.4f}, Val Acc: {val_accuracy:.4f}\")"
   ]
  },
  {
   "cell_type": "code",
   "execution_count": 36,
   "id": "343c505b-f2a3-4c1a-92f1-45baa46bbc5f",
   "metadata": {},
   "outputs": [
    {
     "data": {
      "image/png": "[encoded data removed]",
      "text/plain": [
       "<Figure size 640x480 with 1 Axes>"
      ]
     },
     "metadata": {},
     "output_type": "display_data"
    }
   ],
   "source": [
    "# Plot training and validation losses\n",
    "plt.figure()\n",
    "plt.plot(train_losses_gat, label=\"Train Loss\")\n",
    "plt.plot(val_losses_gat, label=\"Validation Loss\")\n",
    "plt.xlabel(\"Epoch\")\n",
    "plt.ylabel(\"Loss\")\n",
    "plt.legend()\n",
    "plt.title(\"Training and Validation Losses\")\n",
    "plt.show()"
   ]
  },
  {
   "cell_type": "code",
   "execution_count": 37,
   "id": "1ff66808-f39d-41d9-95ba-575767ec87bd",
   "metadata": {},
   "outputs": [
    {
     "data": {
      "image/png": "[encoded data removed]",
      "text/plain": [
       "<Figure size 640x480 with 1 Axes>"
      ]
     },
     "metadata": {},
     "output_type": "display_data"
    }
   ],
   "source": [
    "# Plot training and validation accuracies\n",
    "plt.figure()\n",
    "plt.plot(train_accuracies_gat, label=\"Train Accuracy\")\n",
    "plt.plot(val_accuracies_gat, label=\"Validation Accuracy\")\n",
    "plt.xlabel(\"Epoch\")\n",
    "plt.ylabel(\"Accuracy\")\n",
    "plt.legend()\n",
    "plt.title(\"Training and Validation Accuracies\")\n",
    "plt.show()"
   ]
  },
  {
   "cell_type": "code",
   "execution_count": null,
   "id": "2c63d756-13e8-4074-8838-398c5612f386",
   "metadata": {},
   "outputs": [],
   "source": []
  },
  {
   "cell_type": "code",
   "execution_count": null,
   "id": "5941b061-0d00-4c40-a1b4-135054ea9117",
   "metadata": {},
   "outputs": [],
   "source": []
  },
  {
   "cell_type": "code",
   "execution_count": null,
   "id": "d57831f5-f00d-44cd-83c0-ecf3a2ec5ac0",
   "metadata": {},
   "outputs": [],
   "source": []
  }
 ],
 "metadata": {
  "environment": {
   "kernel": "python3",
   "name": "pytorch-gpu.1-13.m107",
   "type": "gcloud",
   "uri": "gcr.io/deeplearning-platform-release/pytorch-gpu.1-13:m107"
  },
  "kernelspec": {
   "display_name": "Python 3",
   "language": "python",
   "name": "python3"
  },
  "language_info": {
   "codemirror_mode": {
    "name": "ipython",
    "version": 3
   },
   "file_extension": ".py",
   "mimetype": "text/x-python",
   "name": "python",
   "nbconvert_exporter": "python",
   "pygments_lexer": "ipython3",
   "version": "3.7.12"
  }
 },
 "nbformat": 4,
 "nbformat_minor": 5
}
